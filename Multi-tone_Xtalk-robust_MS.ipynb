{
 "cells": [
  {
   "cell_type": "markdown",
   "id": "acf6efcd-51f7-44e4-be61-312a3b6e4c7f",
   "metadata": {},
   "source": [
    "# Multi-tone Gates Robust to Optical Crosstalk"
   ]
  },
  {
   "cell_type": "markdown",
   "id": "b9f79947-2047-44f5-96b2-41e64cdbf737",
   "metadata": {},
   "source": [
    "We consider gates where we have $D$ pairs of tones $\\omega_0 \\pm \\omega_s$ for $s \\in \\{1...D\\}$ and can set the amplitudes $r_s$ of these pairs individually. All these lasers are directed at only a pair of target ions, but some level of optical crosstalk may be incident on the neighboring ions. We want to set the amplitudes $r_s$ such that an $XX$ operation is produced between the target ions but no (or little) $XX$ rotation occurs between any pair of target and nearest neighbor ions."
   ]
  },
  {
   "cell_type": "markdown",
   "id": "6e5e7c15-2ca6-4a36-a829-be69987dd62f",
   "metadata": {},
   "source": [
    "## Code setup"
   ]
  },
  {
   "cell_type": "code",
   "execution_count": 1,
   "id": "a3f29d3b-d943-4d51-aeea-9d75e33b6696",
   "metadata": {},
   "outputs": [],
   "source": [
    "import numpy as np\n",
    "from numpy import sin, cos, exp, sqrt, angle\n",
    "import scipy.integrate as integrate\n",
    "import scipy.linalg as linalg\n",
    "import matplotlib.pyplot as plt\n",
    "\n",
    "import mystic.symbolic as ms\n",
    "import mystic.solvers as my\n",
    "import mystic.math as mm"
   ]
  },
  {
   "cell_type": "code",
   "execution_count": 2,
   "id": "a9686738-1053-450f-bc85-4c82939929eb",
   "metadata": {},
   "outputs": [],
   "source": [
    "import importlib\n",
    "import sys, os\n",
    "from pathlib import Path\n",
    "sys.path.append('tools/')\n",
    "import IonChainTools as ict\n",
    "import MSFidelityEstimation as msfe\n",
    "importlib.reload(msfe)\n",
    "from MSFidelityEstimation import *"
   ]
  },
  {
   "cell_type": "code",
   "execution_count": 3,
   "id": "15aceec0-99aa-4f99-8643-15123bbb5a05",
   "metadata": {},
   "outputs": [],
   "source": [
    "π = np.pi"
   ]
  },
  {
   "cell_type": "markdown",
   "id": "25947eea-6589-4dd9-9a5c-2ced2e32c6da",
   "metadata": {},
   "source": [
    "## Functions"
   ]
  },
  {
   "cell_type": "code",
   "execution_count": 4,
   "id": "0821decf-ec6b-4552-a523-e1c7394ec3ee",
   "metadata": {},
   "outputs": [],
   "source": [
    "def calcModeClosureBasis(modes, tonefreqs, T):\n",
    "    N = len(modes)\n",
    "    L = []\n",
    "    for mode in modes:\n",
    "        νm = mode.freq\n",
    "        linear_req = np.array([(exp(1j*(ωs-νm)*T)-1)/(ωs-νm) for ωs in tonefreqs])\n",
    "        L.append(linear_req.real)\n",
    "        L.append(linear_req.imag)\n",
    "    L = np.array(L)\n",
    "    K = linalg.null_space(L).T\n",
    "    return K"
   ]
  },
  {
   "cell_type": "code",
   "execution_count": 5,
   "id": "fa9dd3e4-29d1-4e33-985e-8bf8d8bb1b49",
   "metadata": {},
   "outputs": [],
   "source": [
    "def calcRequiredModeContributions(N, targets):\n",
    "    modes = ict.calcRadialModes(N,νratio=10)\n",
    "    neighbors = set([i for i in range(N) if i in (targets[0]-1,targets[0]+1,targets[1]-1,targets[1]+1) and i not in targets])\n",
    "    # # Remove symmetric neighbors\n",
    "    # symmetric_neighbors = []\n",
    "    # for n in neighbors.copy():\n",
    "    #     for ti in (0,1):\n",
    "    #         if abs(targets[ti]-n)==1:\n",
    "    #             if N-1-n == targets[(ti+1)%2]:\n",
    "    #                 symmetric_neighbors.append(n)\n",
    "    # print(neighbors)\n",
    "    # neighbors -= set(symmetric_neighbors)\n",
    "    # print(neighbors)\n",
    "    xtalkpairs = list(itertools.product(targets, neighbors))\n",
    "    A = np.zeros((N,len(xtalkpairs)))\n",
    "    for m in range(N):\n",
    "        for p, pair in enumerate(xtalkpairs):\n",
    "            mvec = modes[m][1]\n",
    "            A[m,p] = mvec[pair[0]]*mvec[pair[1]]\n",
    "    nullspace = linalg.null_space(A.T).T\n",
    "    targetpair_LD_vec = [modes[m][1][targets[0]]*modes[m][1][targets[1]] for m in range(N)]\n",
    "    targetneighbor_LD_vec = [modes[m][1][xtalkpairs[0][0]]*modes[m][1][xtalkpairs[0][1]] for m in range(N)]\n",
    "    valid_nullvecs = []\n",
    "    for nullvec in nullspace:\n",
    "        #print(nullvec, nullvec@targetpair_LD_vec, nullvec@targetneighbor_LD_vec)\n",
    "        if abs(nullvec@targetpair_LD_vec) > 0.0001:\n",
    "            valid_nullvecs.append(nullvec)\n",
    "    return valid_nullvecs"
   ]
  },
  {
   "cell_type": "code",
   "execution_count": 6,
   "id": "55623672-49c9-493d-8e7b-d630dd4737c4",
   "metadata": {},
   "outputs": [],
   "source": [
    "def generateBmatrix(devicespec, m, t, toneωs):\n",
    "    N = devicespec.N\n",
    "    D = len(toneωs)\n",
    "    Bm = np.zeros((D,D))\n",
    "    νm = devicespec.modes('radial')[m].freq\n",
    "    for s1 in range(D):\n",
    "        ωs1 = toneωs[s1]\n",
    "        for s2 in range(D):\n",
    "            ωs2 = toneωs[s2]\n",
    "            if s1 == s2:\n",
    "                Bm[s1,s1] = -1/4*1/(νm-ωs2)*(sin((ωs1-νm)*t)/(ωs1-νm) - t)\n",
    "            else:\n",
    "                Bm[s1, s2] = -1/4*1/(νm-ωs2)*(sin((ωs1-νm)*t)/(ωs1-νm) - sin((ωs1-ωs2)*t)/(ωs1-ωs2))\n",
    "    return Bm"
   ]
  },
  {
   "cell_type": "code",
   "execution_count": 7,
   "id": "0e8923d4-ee02-437f-bb6f-856e284fc7bf",
   "metadata": {},
   "outputs": [],
   "source": [
    "def generateQuadraticConstraint(A, ϕ, varname):\n",
    "    constraint = \"\"\n",
    "    for i in range(len(A)):\n",
    "        for j in range(len(A)):\n",
    "            constraint+=f\"+{A[i,j]}*{varname}{i}*{varname}{j} \"\n",
    "    constraint += f\"== {ϕ}\"\n",
    "    return constraint"
   ]
  },
  {
   "cell_type": "markdown",
   "id": "5d8f2244-3c1d-4970-8145-7f566fec9211",
   "metadata": {},
   "source": [
    "## Solving for Gate Parameters"
   ]
  },
  {
   "cell_type": "code",
   "execution_count": 8,
   "id": "e143a1b6-4a60-4cfb-8217-19bee7da3fda",
   "metadata": {},
   "outputs": [],
   "source": [
    "from scipy.constants import physical_constants\n",
    "M=40*physical_constants['atomic mass constant'][0]\n",
    "\n",
    "qbit_splitting = 2*π*4.1115503520574475e14 # 729nm\n",
    "#raman_wavelen = 355*1e-9 # 355nm, from \"frequency robust ...\" paper\n",
    "#raman_freq = 2*π*scipy.constants.c/raman_wavelen\n",
    "kvec = qbit_splitting/scipy.constants.c\n",
    "\n",
    "νz = 2*π*0.32*1e6 # 0.52MHz + 0.5MHz to make radial mode spacing larger\n",
    "νr = 2*π*2.296*1e6 # 2.296MHz\n",
    "\n",
    "N = 4\n",
    "\n",
    "D = 2*N+5\n",
    "T = 300e-6\n",
    "\n",
    "targets=(0,1)\n",
    "\n",
    "trapspec = TrapSpec(νz, νr)\n",
    "devicespec = TIDeviceSpec(N, trapspec, qbit_splitting, M=M)"
   ]
  },
  {
   "cell_type": "code",
   "execution_count": 9,
   "id": "f38bd06d-7ac9-49b6-b06d-10099212b38d",
   "metadata": {},
   "outputs": [],
   "source": [
    "# Tones might be aranged as harmonics\n",
    "tones = [2*π/T*s for s in range(1,D)]"
   ]
  },
  {
   "cell_type": "code",
   "execution_count": 10,
   "id": "84d7bdda-3cb9-4fa7-8209-56cbe4127492",
   "metadata": {},
   "outputs": [
    {
     "name": "stdout",
     "output_type": "stream",
     "text": [
      "Optimization terminated successfully.\n",
      "         Current function value: -2.1166039800846193e-06\n",
      "         Iterations: 6\n",
      "         Function evaluations: 541\n"
     ]
    },
    {
     "data": {
      "text/plain": [
       "(array([7.24065077e-04, 9.99999999e+02, 9.99999979e+02, 9.99999684e+02]),\n",
       " -2.1166039800846193e-06,\n",
       " 6,\n",
       " 541,\n",
       " 0,\n",
       " array([[1., 0., 0., 0.],\n",
       "        [0., 1., 0., 0.],\n",
       "        [0., 0., 1., 0.],\n",
       "        [0., 0., 0., 1.]]))"
      ]
     },
     "execution_count": 10,
     "metadata": {},
     "output_type": "execute_result"
    }
   ],
   "source": [
    "modes = devicespec.modes('radial')\n",
    "K = calcModeClosureBasis(modes, tones, T)\n",
    "l = len(K)\n",
    "χvals = calcRequiredModeContributions(N, targets)[0]\n",
    "constraints = \"\"\n",
    "for m in range(1):\n",
    "    B = generateBmatrix(devicespec, m, T, tones)\n",
    "    constraints += generateQuadraticConstraint(K@B@K.T, χvals[m], 'x')+\"\\n\"\n",
    "cons = ms.generate_constraint(ms.generate_solvers(ms.simplify(constraints)))\n",
    "objective_func = lambda x, sign=1: sign*abs((K.T@x)@np.ones(len(K.T)))\n",
    "bounds = [(0., None)]*l\n",
    "x0 = np.random.rand(l)\n",
    "sol = my.fmin_powell(objective_func, x0, constraint=cons, disp=True,\n",
    "                     bounds=bounds, gtol=3, ftol=1e-6, full_output=True,\n",
    "                     args=(-1,))\n",
    "sol"
   ]
  },
  {
   "cell_type": "code",
   "execution_count": 11,
   "id": "bbb3a336-7038-4698-99c7-04586ff3f169",
   "metadata": {},
   "outputs": [
    {
     "name": "stdout",
     "output_type": "stream",
     "text": [
      "1.6419599573106783e-05 -0.1106457184418904\n",
      "1.6121590897899777e-05 -0.3100698362936769\n",
      "1.589360092825641e-05 0.9038523425614734\n",
      "1.5737078616444913e-05 0.27324927165031443\n"
     ]
    }
   ],
   "source": [
    "tone_strengths = K.T@sol[0]\n",
    "for m in range(N):\n",
    "    B = generateBmatrix(devicespec, m, T, tones)\n",
    "    print(tone_strengths.T@B@tone_strengths, χvals[m])"
   ]
  },
  {
   "cell_type": "markdown",
   "id": "68852a59-abaf-4535-8433-0e917b9d8a70",
   "metadata": {},
   "source": [
    "The tone amplitude optimization currently does not work."
   ]
  }
 ],
 "metadata": {
  "kernelspec": {
   "display_name": "Python 3 (ipykernel)",
   "language": "python",
   "name": "python3"
  },
  "language_info": {
   "codemirror_mode": {
    "name": "ipython",
    "version": 3
   },
   "file_extension": ".py",
   "mimetype": "text/x-python",
   "name": "python",
   "nbconvert_exporter": "python",
   "pygments_lexer": "ipython3",
   "version": "3.11.6"
  }
 },
 "nbformat": 4,
 "nbformat_minor": 5
}
