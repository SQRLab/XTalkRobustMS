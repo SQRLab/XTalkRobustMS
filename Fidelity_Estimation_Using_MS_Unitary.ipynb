{
 "cells": [
  {
   "cell_type": "markdown",
   "id": "0c0d48ab-1d80-4871-bf54-ba22605c06d7",
   "metadata": {},
   "source": [
    "# Fidelity Estimation using MS Unitary"
   ]
  },
  {
   "cell_type": "markdown",
   "id": "b85a2643-de66-4eb6-821b-8ab425dff29e",
   "metadata": {},
   "source": [
    "## MS Unitary"
   ]
  },
  {
   "cell_type": "markdown",
   "id": "df3bfd79-3f32-450c-b685-36e59b9c11ba",
   "metadata": {},
   "source": [
    "MS Hamiltonian:\n",
    "    \n",
    "$$\n",
    "\\begin{aligned}\n",
    "H_{MS} & = \\sum_i^N \\Bigg( \\Omega_i \\cos\\{\\omega_dt-\\phi_m\\}\\sigma^{(\\phi_s)}\n",
    "\\\\\n",
    "& + \\frac{\\Omega_i}{2} \\sigma^{(\\pi/2+\\phi_s)} \\sum_k \\eta^k_i \\left[ e^{-i\\omega_dt+i\\phi_m+i\\nu_k t} a^\\dagger_k + \\text{h.c.} \\right]\n",
    "\\\\\n",
    "& + \\frac{\\Omega_i}{2} \\sigma^{(\\pi/2+\\phi_s)} \\sum_k \\eta^k_i \\left[ e^{i\\omega_dt-i\\phi_m+i\\nu_k t} a^\\dagger_k + \\text{h.c.} \\right] \\Bigg)\n",
    "\\end{aligned} \n",
    "$$"
   ]
  },
  {
   "cell_type": "markdown",
   "id": "6e99cd43-cd3a-4f18-b22b-ac221e9b4111",
   "metadata": {},
   "source": [
    "We only consider the second term in parentheses (the second line). The first term is direct coupling to qubit transition, which should be eliminable through RWA so long as $\\omega_d$ is large enough. The last term is off-resonant coupling from red sideband lasers to blue sidebands and vice versa, which should have an even smaller effect than direct coupling."
   ]
  },
  {
   "cell_type": "markdown",
   "id": "635b2bac-aa3e-4816-a03a-bce09cf72a63",
   "metadata": {},
   "source": [
    "The unitary for the second term is given by the magnus expansion:\n",
    "\n",
    "$$\n",
    "\\begin{align}\n",
    "    M_1(t) & = \\sum_{i,k} \\frac{\\Omega_i \\eta^k_i}{2({\\omega_d-\\nu_k})} \\sigma^{(\\pi/2+\\phi_s)}_i\n",
    "    \\left( (e^{-i(\\omega_d-\\nu_k)t}-1)e^{i\\phi_m}a^\\dagger_k - \\text{h.c.} \\right)\n",
    "\\end{align}\n",
    "$$\n",
    "\n",
    "$$\n",
    "\\begin{align}\n",
    "    M_2(t) & = -\\frac{i}{4} \\sum_{k,i_1, i_2} \\Omega_{i_1}\\Omega_{i_2}\\eta^k_{i_1}\\eta^k_{i_2} \\sigma^{(\\pi/2+\\phi_s)}_{i_1}\\sigma^{(\\pi/2+\\phi_s)}_{i_2}\n",
    "    \\left(\\frac{t}{\\omega_d-\\nu_k}-\\frac{\\sin\\{(\\omega_d-\\nu_k)t\\}}{(\\omega_d-\\nu_k)^2} \\right)\n",
    "\\end{align}\n",
    "$$\n",
    "\n",
    "$$\n",
    "\\begin{align}\n",
    "    U(t) = \\exp\\left(M_1(t)+M_2(t)\\right)\n",
    "\\end{align}\n",
    "$$"
   ]
  },
  {
   "cell_type": "markdown",
   "id": "6176688a-5856-40fd-9f6d-f9c050fe30f4",
   "metadata": {},
   "source": [
    "## QuTiP Implementation"
   ]
  },
  {
   "cell_type": "code",
   "execution_count": 1,
   "id": "1a7daeb4-9084-4dd5-a944-47a7e1c64fa4",
   "metadata": {},
   "outputs": [],
   "source": [
    "import qutip as qtp\n",
    "from qutip import sigmax, sigmay, sigmaz, tensor, qeye, create, destroy, displace, basis, fock, ket2dm\n",
    "\n",
    "import numpy as np\n",
    "from numpy import cos, sin, exp, pi as π, sqrt\n",
    "\n",
    "from math import factorial\n",
    "\n",
    "import itertools\n",
    "\n",
    "import tools.IonChainTools as ict\n",
    "import tools.MSFidelityEstimation as msfe"
   ]
  },
  {
   "cell_type": "code",
   "execution_count": 2,
   "id": "86097aeb-f443-4c9c-a9fa-fbe127b0caa0",
   "metadata": {},
   "outputs": [],
   "source": [
    "ψbell1 = (tensor(basis(2,0),basis(2,0))-1j*tensor(basis(2,1),basis(2,1)))/sqrt(2)\n",
    "ψbell2 = (tensor(basis(2,0),basis(2,0))+1j*tensor(basis(2,1),basis(2,1)))/sqrt(2)\n",
    "ψbell3 = (tensor(basis(2,0),basis(2,0))+tensor(basis(2,1),basis(2,1)))/sqrt(2)"
   ]
  },
  {
   "cell_type": "code",
   "execution_count": 3,
   "id": "2b9f819f-773c-4bb0-a97d-d70fd939af42",
   "metadata": {},
   "outputs": [],
   "source": [
    "def embedop(O, N, i, d=2):\n",
    "    '''\n",
    "    Embed operator O on subspace of dimension d in space of dimension N^d with i as index of subsystem\n",
    "    '''\n",
    "    return tensor([O if j==i else qeye(d) for j in range(N)])"
   ]
  },
  {
   "cell_type": "code",
   "execution_count": 4,
   "id": "71ff05c3-54a5-4a31-a330-20c32952dbd8",
   "metadata": {},
   "outputs": [],
   "source": [
    "def σ(ϕ):\n",
    "    return cos(ϕ)*sigmax()+sin(ϕ)*sigmay()"
   ]
  },
  {
   "cell_type": "code",
   "execution_count": 5,
   "id": "819d089a-3013-4c14-a30f-7f49a4c137e9",
   "metadata": {},
   "outputs": [],
   "source": [
    "def gen_intensity_vector_fixedxt(N, targets, neighbor_intensity, next_neighbor_intensity):\n",
    "    efields = np.zeros(N)\n",
    "    for t in targets:\n",
    "        efields[t] +=1\n",
    "        for n in (t-1, t+1):\n",
    "            if n>=0 and n<N:\n",
    "                efields[n] += np.sqrt(neighbor_intensity)\n",
    "        for nn in (t-2, t+2):\n",
    "            if nn>=0 and nn<N:\n",
    "                efields[nn] += np.sqrt(next_neighbor_intensity)\n",
    "    intensities = efields**2\n",
    "    return intensities"
   ]
  },
  {
   "cell_type": "code",
   "execution_count": 6,
   "id": "a92c6139-e632-4396-933e-b10b1200f258",
   "metadata": {},
   "outputs": [],
   "source": [
    "def UMS(t, N, Ωvals, η, ωd, modenums=None, modetype=\"radial\", νz=1e6, νr=3e6, ϕs=π/2, ϕm=0, modetrunc=5):\n",
    "    # The MS unitary as a qutip operator, acting on both the qubit and motional mode spaces\n",
    "    if modetype == \"radial\":\n",
    "        modes = ict.calcRadialModes(N, νratio=νr/νz)\n",
    "    elif modetype == \"axial\":\n",
    "        modes = ict.calcAxialModes(N)\n",
    "    else:\n",
    "        raise Exception(\"Only modetype options are 'radial' and 'axial'\")\n",
    "    \n",
    "    if modenums == None:\n",
    "        modenums = list(range(N))\n",
    "                \n",
    "    def M1_summation_term(k, i):\n",
    "        ηik = η*modes[k][1][i]\n",
    "        νk = modes[k][0]*νz\n",
    "        strength = ηik*Ωvals[i]/(2*(ωd-νk))\n",
    "        σi = embedop(σ(π/2+ϕs), N, i)\n",
    "        α = (exp(-1j*(ωd-νk)*t)-1)*exp(1j*ϕm)\n",
    "        ak = embedop(destroy(modetrunc), len(modenums), modenums.index(k), modetrunc)\n",
    "        #print('α', α)\n",
    "        return tensor(strength*σi, (α*ak - α.conjugate()*ak.dag()))\n",
    "        # Dα = embedop(displace(modetrunc, α), len(modenums), modenums.index(k), modetrunc)\n",
    "        # return strength*tensor(σi,Dα)\n",
    "    \n",
    "    def M2_summation_term(k, i1, i2):\n",
    "        ηki1 = η*modes[k][1][i1]\n",
    "        ηki2 = η*modes[k][1][i2]\n",
    "        νk = modes[k][0]*νz\n",
    "        strength = Ωvals[i1]*Ωvals[i2]*ηki1*ηki2\n",
    "        σi1 = embedop(σ(π/2+ϕs), N, i1)\n",
    "        σi2 = embedop(σ(π/2+ϕs), N, i2)\n",
    "        time_dependence = t/(ωd-νk) - sin((ωd-νk)*t)/(ωd-νk)**2\n",
    "        modeeye = tensor([qeye(modetrunc) for _ in modenums])\n",
    "        #targetstrength = η**2/3*Ωvals[0]*Ωvals[1]\n",
    "        #print(i1, i2, strength/targetstrength)\n",
    "        #print(1/4*strength*time_dependence)\n",
    "        return -1j/4 * strength * tensor(σi1*σi2, modeeye) * time_dependence\n",
    "\n",
    "    completeM1 = 0\n",
    "    for k in modenums:\n",
    "        for i in range(N):\n",
    "            completeM1 += M1_summation_term(k, i)\n",
    "            \n",
    "    completeM2 = 0\n",
    "    for k in modenums:\n",
    "        for i1 in range(N):\n",
    "            for i2 in range(N):\n",
    "                completeM2 += M2_summation_term(k, i1, i2)\n",
    "            \n",
    "    U = (completeM1+completeM2).expm()\n",
    "\n",
    "    return U"
   ]
  },
  {
   "cell_type": "code",
   "execution_count": 7,
   "id": "75c2e9fc-cfa8-4ad0-85e1-81f8c3aa6d46",
   "metadata": {},
   "outputs": [],
   "source": [
    "def MSStateFromUnitary(N, m, targets, Ωvals, η, modetype, νz, νr, ϕs, ϕm, modenums, modetrunc, K, L=1):\n",
    "    # Act the MS unitary on an initial state of |0> qubits and no motional excitation\n",
    "    if modetype == \"radial\":\n",
    "        modes = ict.calcRadialModes(N, νratio=νr/νz)\n",
    "    elif modetype == \"axial\":\n",
    "        modes = ict.calcAxialModes(N)\n",
    "    else:\n",
    "        raise Exception(\"Only modetype options are 'radial' and 'axial'\")\n",
    "\n",
    "    ηmi1 = η*modes[m][1][i1]\n",
    "    ηmi2 = η*modes[m][1][i2]\n",
    "\n",
    "    # δ = sqrt(abs(2*K*Ωvals[i1]*Ωvals[i2]*ηmi1*ηmi2))\n",
    "    # print(\"δ : \", δ)\n",
    "    # τ = 2*π*K/δ\n",
    "    # νm = modes[m][0]*νz\n",
    "    # ωd = νm + δ\n",
    "\n",
    "    δ = sqrt(abs(4*K*Ωvals[i1]*Ωvals[i2]*ηmi1*ηmi2))\n",
    "    τ = 2*π*K/δ\n",
    "    νm = modes[m][0]*νz\n",
    "    ωd = νm + δ\n",
    "\n",
    "    # strength = abs(Ωvals[i1]*Ωvals[i2]*ηmi1*ηmi2)\n",
    "    # time_dependence = τ/(ωd-νm) - sin((ωd-νm)*τ)/(ωd-νm)**2\n",
    "    # θ = -1/4 * strength * time_dependence\n",
    "\n",
    "    t=τ*L\n",
    "\n",
    "    ψ0 = tensor(tensor([basis(2,0) for _ in range(N)]), tensor([fock(modetrunc,0) for _ in modenums]))\n",
    "    U = UMS(t, N, Ωvals, η, ωd, modenums=modenums, modetype=modetype, νz=νz, νr=νr, ϕs=ϕs, ϕm=ϕm, modetrunc=modetrunc)\n",
    "    ψf = U * ψ0\n",
    "    \n",
    "    return ψf"
   ]
  },
  {
   "cell_type": "code",
   "execution_count": 8,
   "id": "8cdf8755-216c-4675-8694-423de0643dbc",
   "metadata": {},
   "outputs": [],
   "source": [
    "def MSPerfectCompleteStateFidelity_FromUnitary(N, m, targets, intensities, η, modetype, νz, νr, ϕs, ϕm, modenums, modetrunc, K, L=1):\n",
    "    # Use numerically calculated MS unitary to compare final state with ideal final state, including all qubits and modes\n",
    "    if modetype == \"radial\":\n",
    "        modes = ict.calcRadialModes(N, νratio=νr/νz)\n",
    "    elif modetype == \"axial\":\n",
    "        modes = ict.calcAxialModes(N)\n",
    "    else:\n",
    "        raise Exception(\"Only modetype options are 'radial' and 'axial'\")\n",
    "    targetgatedirection = np.sign(modes[m][1][targets[0]]*modes[m][1][targets[1]])\n",
    "    ψf = MSStateFromUnitary(N, m, targets, intensities, η, modetype, νz, νr, ϕs, ϕm, modenums, modetrunc, K, L)\n",
    "    idealUMS = tensor((-1j*targetgatedirection*π/4*tensor([sigmax() if i in (i1, i2) else qeye(2) for i in range(N)])).expm(), *[qeye(modetrunc) for _ in modenums])\n",
    "    ψ0 = tensor(tensor([basis(2,0) for _ in range(N)]), tensor([fock(modetrunc,0) for _ in modenums]))\n",
    "    idealψf = idealUMS*ψ0\n",
    "    return abs((ψf.dag()*idealψf).data[0,0])**2"
   ]
  },
  {
   "cell_type": "code",
   "execution_count": 1,
   "id": "f5e64f8b-07b3-4f57-8293-dc14b6f19b80",
   "metadata": {},
   "outputs": [],
   "source": [
    "def MSPerfectQubitStateFidelity_FromUnitary(N, m, targets, intensities, η, modetype, νz, νr, ϕs, ϕm, modenums, modetrunc, K, L=1):\n",
    "    # Use numerically calculated MS unitary to compare final qubit state with ideal final qubit state, tracing out modes\n",
    "    if modetype == \"radial\":\n",
    "        modes = ict.calcRadialModes(N, νratio=νr/νz)\n",
    "    elif modetype == \"axial\":\n",
    "        modes = ict.calcAxialModes(N)\n",
    "    else:\n",
    "        raise Exception(\"Only modetype options are 'radial' and 'axial'\")\n",
    "    targetgatedirection = np.sign(modes[m][1][targets[0]]*modes[m][1][targets[1]])\n",
    "    ψf = MSStateFromUnitary(N, m, targets, intensities, η, modetype, νz, νr, ϕs, ϕm, modenums, modetrunc, K, L)\n",
    "    ρfqbit = ket2dm(ψf).ptrace(list(range(N))) # Trace out modes by tracing out everything except the N qubits\n",
    "    idealUMS = (-1j*targetgatedirection*π/4*tensor([sigmax() if i in (i1, i2) else qeye(2) for i in range(N)])).expm()\n",
    "    ψ0 = tensor([basis(2,0) for _ in range(N)])\n",
    "    idealψfqbit = idealUMS*ψ0\n",
    "    return (ρfqbit*ket2dm(idealψfqbit)).tr()"
   ]
  },
  {
   "cell_type": "code",
   "execution_count": 10,
   "id": "c7b172d2-9367-4b53-a3f7-b28578db5a5c",
   "metadata": {},
   "outputs": [],
   "source": [
    "def MSTracedTargetsFidelity_FromUnitary(N, m, targets, intensities, η, modetype, νz, νr, ϕs, ϕm, modenums, modetrunc, K, L=1):\n",
    "    # Use numerically calculated MS unitary to compare final qubit state with ideal final qubit state, tracing out modes\n",
    "    if modetype == \"radial\":\n",
    "        modes = ict.calcRadialModes(N, νratio=νr/νz)\n",
    "    elif modetype == \"axial\":\n",
    "        modes = ict.calcAxialModes(N)\n",
    "    else:\n",
    "        raise Exception(\"Only modetype options are 'radial' and 'axial'\")\n",
    "    targetgatedirection = np.sign(modes[m][1][targets[0]]*modes[m][1][targets[1]])\n",
    "    ψf = MSStateFromUnitary(N, m, targets, intensities, η, modetype, νz, νr, ϕs, ϕm, modenums, modetrunc, K, L)\n",
    "    targetsys = ψf.ptrace([i1,i2])\n",
    "    idealUMS = (-1j*targetgatedirection*π/4*tensor(sigmax(), sigmax())).expm()\n",
    "    ψ0 = tensor(basis(2,0), basis(2,0))\n",
    "    idealψfqbit = idealUMS*ψ0\n",
    "    return (targetsys*ket2dm(idealψfqbit)).tr()"
   ]
  },
  {
   "cell_type": "markdown",
   "id": "5e447834-2605-46bb-ad2e-c8481570dd4c",
   "metadata": {},
   "source": [
    "## Analytical MS Error Calculation"
   ]
  },
  {
   "cell_type": "code",
   "execution_count": 11,
   "id": "75e95cbc-dc2f-431d-8b8a-3745fbddc632",
   "metadata": {},
   "outputs": [],
   "source": [
    "def coherent_coeff(α, n):\n",
    "    return exp(-abs(α)**2/2)*α**n/sqrt(factorial(n))"
   ]
  },
  {
   "cell_type": "code",
   "execution_count": 12,
   "id": "095f30b1-fce8-4ef2-a9f1-0f9e5877b7ba",
   "metadata": {},
   "outputs": [],
   "source": [
    "def MSPerfectStateFidelity_Analytical(N, m, targets, Ωvals, η, modetype, νz, νr, ϕs, ϕm, modenums, modetrunc, K, L=1, fidtargets=None):\n",
    "    # Analytically calculate final state and find fidelity with ideal final state, including both qubits and modes\n",
    "    if modetype == \"radial\":\n",
    "        modes = ict.calcRadialModes(N, νratio=νr/νz)\n",
    "    elif modetype == \"axial\":\n",
    "        modes = ict.calcAxialModes(N)\n",
    "    else:\n",
    "        raise Exception(\"Only modetype options are 'radial' and 'axial'\")\n",
    "    \n",
    "    i1, i2 = targets\n",
    "    \n",
    "    ηmi1 = η*modes[m][1][i1]\n",
    "    ηmi2 = η*modes[m][1][i2]\n",
    "\n",
    "    δ = sqrt(abs(4*K*Ωvals[i1]*Ωvals[i2]*ηmi1*ηmi2))\n",
    "    τ = 2*π*K/δ\n",
    "    νm = modes[m][0]*νz\n",
    "    ωd = νm + δ\n",
    "    \n",
    "    if fidtargets == None: fidtargets = targets\n",
    "    fidtargetgatedirection = np.sign(modes[m][1][fidtargets[0]]*modes[m][1][fidtargets[1]])\n",
    "    \n",
    "    naturalbasis = list(itertools.product(*[[-1,+1]]*N))\n",
    "    innerprod = 0\n",
    "    t = τ*L\n",
    "    for λ in naturalbasis:\n",
    "        displacementproduct = 1\n",
    "        for k in modenums:\n",
    "            αk = np.sum([(Ωvals[i]*η*modes[k][1][i])/(2*(ωd-modes[k][0]*νz))*(exp(-1j*(ωd-modes[k][0]*νz)*t)-1)*exp(1j*ϕm)*λ[i] for i in range(N)])\n",
    "            displacementproduct *= coherent_coeff(αk, 0)\n",
    "            #print(λ, k, αk)\n",
    "        phaseangle = 0\n",
    "        for k in modenums:\n",
    "            for j1, j2 in itertools.product(range(N),range(N)):\n",
    "                ηkj1 = η*modes[k][1][j1]\n",
    "                ηkj2 = η*modes[k][1][j2]\n",
    "                νk = modes[k][0]*νz\n",
    "                phaseangle += Ωvals[j1]*Ωvals[j2]*ηkj1*ηkj2*(t/(ωd-νk)-sin((ωd-νk)*t)/(ωd-νk)**2)*λ[j1]*λ[j2]\n",
    "        M2phase = exp(-1j/4*phaseangle) # Should that be /2 or /4? Check.\n",
    "        #print(λ, M2phase)\n",
    "        correctphase = exp(1j*π/4*λ[fidtargets[0]]*λ[fidtargets[1]]*fidtargetgatedirection)\n",
    "        innerprod += M2phase*correctphase*displacementproduct/2**(N)\n",
    "    fidelity = abs(innerprod)**2\n",
    "    return fidelity"
   ]
  },
  {
   "cell_type": "code",
   "execution_count": 15,
   "id": "41cf24a1-d920-45f6-b5c4-7196e44d7191",
   "metadata": {},
   "outputs": [],
   "source": [
    "def MSTracedTargetsFidelity_Analytical(N, m, targets, Ωvals, η, modetype, νz, νr, ϕs, ϕm, modenums, modetrunc, K, L=1, fidtargets=None):\n",
    "    # Analytically calculate final qubit state and find fidelity with ideal final qubit state, with modes traced out\n",
    "    if modetype == \"radial\":\n",
    "        modes = ict.calcRadialModes(N, νratio=νr/νz)\n",
    "    elif modetype == \"axial\":\n",
    "        modes = ict.calcAxialModes(N)\n",
    "    else:\n",
    "        raise Exception(\"Only modetype options are 'radial' and 'axial'\")\n",
    "    \n",
    "    i1, i2 = targets\n",
    "    \n",
    "    ηmi1 = η*modes[m][1][i1]\n",
    "    ηmi2 = η*modes[m][1][i2]\n",
    "\n",
    "    δ = sqrt(abs(4*K*Ωvals[i1]*Ωvals[i2]*ηmi1*ηmi2))\n",
    "    τ = 2*π*K/δ\n",
    "    νm = modes[m][0]*νz\n",
    "    ωd = νm + δ\n",
    "    \n",
    "    ρqbit_mat = np.zeros((2**N,2**N), dtype=np.cdouble)\n",
    "    \n",
    "    naturalbasis = list(itertools.product(*[[-1,+1]]*N))\n",
    "    innerprod = 0\n",
    "    t = τ*L\n",
    "    for λ1,λ2 in itertools.product(naturalbasis, naturalbasis): # λ is a N-element list, representing a qubit state in the X basis (-1=|0>, +1=|1>)\n",
    "        λ1λ2coeff = 0\n",
    "        for γ in list(itertools.product(*[list(range(modetrunc))]*len(modenums))): # γ is a list of N integers, representing a mode state in the number basis\n",
    "            displacementproduct = 1/2**(N)\n",
    "            for k in modenums:\n",
    "                αλ1k = np.sum([(Ωvals[i]*η*modes[k][1][i])/(2*(ωd-modes[k][0]*νz))*(exp(-1j*(ωd-modes[k][0]*νz)*t)-1)*exp(1j*ϕm)*λ1[i] for i in range(N)])\n",
    "                αλ2k = np.sum([(Ωvals[i]*η*modes[k][1][i])/(2*(ωd-modes[k][0]*νz))*(exp(-1j*(ωd-modes[k][0]*νz)*t)-1)*exp(1j*ϕm)*λ2[i] for i in range(N)])\n",
    "                displacementproduct *= coherent_coeff(αλ1k, γ[modenums.index(k)])*coherent_coeff(αλ2k, γ[modenums.index(k)]).conjugate()\n",
    "                #print(λ, k, αk)\n",
    "            λ1λ2coeff += displacementproduct\n",
    "        phaseproduct = 1\n",
    "        for a, λ in enumerate((λ1, λ2)):\n",
    "            phaseangle = 0\n",
    "            for k in modenums:\n",
    "                for j1, j2 in itertools.product(range(N),range(N)):\n",
    "                    ηkj1 = η*modes[k][1][j1]\n",
    "                    ηkj2 = η*modes[k][1][j2]\n",
    "                    νk = modes[k][0]*νz\n",
    "                    phaseangle += Ωvals[j1]*Ωvals[j2]*ηkj1*ηkj2*(t/(ωd-νk)-sin((ωd-νk)*t)/(ωd-νk)**2)*λ[j1]*λ[j2]\n",
    "            phase = exp(-1j/4*phaseangle)\n",
    "            if a == 1:\n",
    "                phase = phase.conjugate()\n",
    "            phaseproduct *= phase\n",
    "        λ1λ2coeff *= phaseproduct\n",
    "        λ1_index = int(\"\".join(['0' if λ1[i]==-1 else '1' for i in range(N)]),2)\n",
    "        λ2_index = int(\"\".join(['0' if λ2[i]==-1 else '1' for i in range(N)]),2)\n",
    "        ρqbit_mat[λ1_index, λ2_index] = λ1λ2coeff\n",
    "        \n",
    "    if fidtargets == None: fidtargets = targets\n",
    "    fidtargetgatedirection = np.sign(modes[m][1][fidtargets[0]]*modes[m][1][fidtargets[1]])\n",
    "    \n",
    "    ρqbit = qtp.Qobj(ρqbit_mat, dims=[[2]*N,[2]*N])\n",
    "    #print(ρqbit.tr())\n",
    "    ρred = ρqbit.ptrace(fidtargets)\n",
    "    #print(ρred.tr())\n",
    "    idealUMS = (-1j*fidtargetgatedirection*π/4*tensor(sigmax(), sigmax())).expm()\n",
    "    ψ0 = tensor(basis(2,0), basis(2,0))\n",
    "    idealψfqbit = idealUMS*ψ0\n",
    "    eigstates = σ(π/2+ϕs).eigenstates()\n",
    "    change_of_basis = qtp.Qobj(np.c_[eigstates[1][0].data.A, eigstates[1][1].data.A],dims=[[2],[2]])\n",
    "    idealψfqbit_zbasis = tensor(change_of_basis,change_of_basis)*idealψfqbit\n",
    "    #print(ρred)\n",
    "    #print(ket2dm(idealψfqbit))\n",
    "    #print(ket2dm(idealψfqbit_zbasis))\n",
    "    return (ρred*ket2dm(idealψfqbit_zbasis)).tr()"
   ]
  },
  {
   "cell_type": "markdown",
   "id": "05a70706-7353-4ff2-8783-d52d76868fa6",
   "metadata": {},
   "source": [
    "## Testing"
   ]
  },
  {
   "cell_type": "markdown",
   "id": "359cc828-3db0-45ed-85de-008f8793eac3",
   "metadata": {},
   "source": [
    "We check that the analytical method of calculating fidelity matches numerical method"
   ]
  },
  {
   "cell_type": "code",
   "execution_count": 37,
   "id": "5448428a-ec18-4630-ba6c-f1a2f106268d",
   "metadata": {},
   "outputs": [],
   "source": [
    "N = 5\n",
    "m = 0\n",
    "i1, i2 = 0, 1\n",
    "targets = (i1, i2)\n",
    "Ω = 1e6\n",
    "idealΩvals = np.zeros(N)\n",
    "idealΩvals[i1] = idealΩvals[i2] = Ω # No Crosstalk\n",
    "intensities = gen_intensity_vector_fixedxt(N, (i1, i2), 0.0236**2, 0.006**2)\n",
    "Ωvals = sqrt(intensities)*Ω\n",
    "\n",
    "η = 0.01\n",
    "modetype = \"radial\"\n",
    "νz = 1e6\n",
    "νr = 9e6\n",
    "ϕs = π/2\n",
    "ϕm = 0\n",
    "modenums = [0]\n",
    "modetrunc = 2\n",
    "K = 1"
   ]
  },
  {
   "cell_type": "code",
   "execution_count": 38,
   "id": "d17ea18a-943e-4d98-8f56-e4b6b4d86850",
   "metadata": {},
   "outputs": [
    {
     "name": "stdout",
     "output_type": "stream",
     "text": [
      "1.0\n",
      "0.9999999999999994\n"
     ]
    }
   ],
   "source": [
    "# No Optical or Mode Xtalk\n",
    "print(MSTracedTargetsFidelity_Analytical(N, m, targets, idealΩvals, η, modetype, νz, νr, ϕs, ϕm, [m], modetrunc, K, L=1))\n",
    "print(MSTracedTargetsFidelity_FromUnitary(N, m, targets, idealΩvals, η, modetype, νz, νr, ϕs, ϕm, [m], modetrunc, K, L=1))"
   ]
  },
  {
   "cell_type": "code",
   "execution_count": 39,
   "id": "e2ac8c1d-f4a7-420d-bf27-c1232e7d1820",
   "metadata": {},
   "outputs": [
    {
     "name": "stdout",
     "output_type": "stream",
     "text": [
      "0.9732939004246829\n",
      "0.9732939004246828\n"
     ]
    }
   ],
   "source": [
    "# Optical Xtalk, No Mode Xtalk\n",
    "print(MSTracedTargetsFidelity_Analytical(N, m, targets, Ωvals, η, modetype, νz, νr, ϕs, ϕm, [m], modetrunc, K, L=1))\n",
    "print(MSTracedTargetsFidelity_FromUnitary(N, m, targets, Ωvals, η, modetype, νz, νr, ϕs, ϕm, [m], modetrunc, K, L=1))"
   ]
  },
  {
   "cell_type": "code",
   "execution_count": 40,
   "id": "4669ac1f-34d1-4a05-9c53-a120d17d032c",
   "metadata": {},
   "outputs": [
    {
     "name": "stdout",
     "output_type": "stream",
     "text": [
      "0.9913212157398905\n",
      "0.9913208193598034\n"
     ]
    }
   ],
   "source": [
    "# Mode Xtalk, No Optical Xtalk\n",
    "print(MSTracedTargetsFidelity_Analytical(N, m, targets, idealΩvals, η, modetype, νz, νr, ϕs, ϕm, list(range(N)), modetrunc, K, L=1))\n",
    "print(MSTracedTargetsFidelity_FromUnitary(N, m, targets, idealΩvals, η, modetype, νz, νr, ϕs, ϕm, list(range(N)), modetrunc, K, L=1))"
   ]
  }
 ],
 "metadata": {
  "kernelspec": {
   "display_name": "Python 3 (ipykernel)",
   "language": "python",
   "name": "python3"
  },
  "language_info": {
   "codemirror_mode": {
    "name": "ipython",
    "version": 3
   },
   "file_extension": ".py",
   "mimetype": "text/x-python",
   "name": "python",
   "nbconvert_exporter": "python",
   "pygments_lexer": "ipython3",
   "version": "3.11.6"
  }
 },
 "nbformat": 4,
 "nbformat_minor": 5
}
