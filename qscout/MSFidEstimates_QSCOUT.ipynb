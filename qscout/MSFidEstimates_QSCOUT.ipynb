{
 "cells": [
  {
   "cell_type": "markdown",
   "id": "769c951f",
   "metadata": {},
   "source": [
    "# MS Fidelity Estimations for QSCOUT"
   ]
  },
  {
   "cell_type": "code",
   "execution_count": 1,
   "id": "9fcf23f1",
   "metadata": {
    "ExecuteTime": {
     "end_time": "2024-05-30T19:31:01.483850Z",
     "start_time": "2024-05-30T19:30:37.545902Z"
    }
   },
   "outputs": [
    {
     "ename": "ModuleNotFoundError",
     "evalue": "No module named 'seaborn'",
     "output_type": "error",
     "traceback": [
      "\u001b[0;31m---------------------------------------------------------------------------\u001b[0m",
      "\u001b[0;31mModuleNotFoundError\u001b[0m                       Traceback (most recent call last)",
      "Cell \u001b[0;32mIn[1], line 10\u001b[0m\n\u001b[1;32m      8\u001b[0m \u001b[38;5;28;01mfrom\u001b[39;00m \u001b[38;5;21;01moperator\u001b[39;00m \u001b[38;5;28;01mimport\u001b[39;00m mul, add\n\u001b[1;32m      9\u001b[0m \u001b[38;5;28;01mimport\u001b[39;00m \u001b[38;5;21;01mmatplotlib\u001b[39;00m\u001b[38;5;21;01m.\u001b[39;00m\u001b[38;5;21;01mpyplot\u001b[39;00m \u001b[38;5;28;01mas\u001b[39;00m \u001b[38;5;21;01mplt\u001b[39;00m\n\u001b[0;32m---> 10\u001b[0m \u001b[38;5;28;01mimport\u001b[39;00m \u001b[38;5;21;01mseaborn\u001b[39;00m \u001b[38;5;28;01mas\u001b[39;00m \u001b[38;5;21;01msb\u001b[39;00m\n\u001b[1;32m     11\u001b[0m \u001b[38;5;28;01mimport\u001b[39;00m \u001b[38;5;21;01mast\u001b[39;00m\n",
      "\u001b[0;31mModuleNotFoundError\u001b[0m: No module named 'seaborn'"
     ]
    }
   ],
   "source": [
    "import scipy.constants\n",
    "from scipy.constants import physical_constants\n",
    "import qutip as qtp\n",
    "import numpy as np\n",
    "from numpy import exp, sqrt, sin\n",
    "from math import factorial\n",
    "import itertools\n",
    "from operator import mul, add\n",
    "import matplotlib.pyplot as plt\n",
    "import seaborn as sb\n",
    "import ast"
   ]
  },
  {
   "cell_type": "code",
   "execution_count": 2,
   "id": "f752f946",
   "metadata": {
    "ExecuteTime": {
     "end_time": "2024-05-30T19:31:01.534820Z",
     "start_time": "2024-05-30T19:31:01.493277Z"
    }
   },
   "outputs": [],
   "source": [
    "import importlib\n",
    "import sys, os\n",
    "from pathlib import Path\n",
    "sys.path.append('../tools/')\n",
    "import IonChainTools as ict\n",
    "import MSFidelityEstimation as msfe\n",
    "importlib.reload(msfe)\n",
    "from MSFidelityEstimation import *"
   ]
  },
  {
   "cell_type": "code",
   "execution_count": null,
   "id": "822097f3",
   "metadata": {},
   "outputs": [],
   "source": []
  },
  {
   "cell_type": "code",
   "execution_count": 3,
   "id": "bd176635",
   "metadata": {
    "ExecuteTime": {
     "end_time": "2024-05-30T19:31:01.547102Z",
     "start_time": "2024-05-30T19:31:01.544439Z"
    }
   },
   "outputs": [],
   "source": [
    "π = np.pi"
   ]
  },
  {
   "cell_type": "markdown",
   "id": "238e43c9",
   "metadata": {},
   "source": [
    "## QSCOUT parameters"
   ]
  },
  {
   "cell_type": "code",
   "execution_count": 4,
   "id": "73c9a202",
   "metadata": {
    "ExecuteTime": {
     "end_time": "2024-05-30T19:31:01.562799Z",
     "start_time": "2024-05-30T19:31:01.558794Z"
    }
   },
   "outputs": [],
   "source": [
    "# Ytterbium171\n",
    "M=171*physical_constants['atomic mass constant'][0]\n",
    "\n",
    "# Laser wavelength\n",
    "# carrier_wavelen = # 355*1e-9 # 355nm, from \"frequency robust ...\" paper\n",
    "# carrier_wavenum = 2*π/carrier_wavelen # Laser wavenumber (k)\n",
    "# carrier_freq = scipy.constants.c*carrier_wavenum\n",
    "qbit_splitting = 2*π*12.643*1e6 # qubit splitting, from \"Engineering The ...\" paper\n",
    "raman_wavelen = 355*1e-9 # 355nm, from \"frequency robust ...\" paper\n",
    "raman_freq = 2*π*scipy.constants.c/raman_wavelen\n",
    "kvec = qbit_splitting/scipy.constants.c*np.sqrt(2)\n",
    "\n",
    "# Rabi rate\n",
    "Ωpeak = 2*π*190*1e3 # 190MHz, quoted in \"Frequency-robust MS ...\" paper"
   ]
  },
  {
   "cell_type": "code",
   "execution_count": 5,
   "id": "396726e5",
   "metadata": {
    "ExecuteTime": {
     "end_time": "2024-05-30T19:31:01.578158Z",
     "start_time": "2024-05-30T19:31:01.574047Z"
    }
   },
   "outputs": [],
   "source": [
    "# Trap specifications\n",
    "# Axial COM of 0.52MHz and highest radial mode of 2.296MHz are quoted in \n",
    "# \"Frequency-robust Mølmer-Sørensen gates via balanced contributions of multiple motional modes\"\n",
    "νz = 2*π*0.52*1e6 # 0.52MHz\n",
    "νr = 2*π*2.296*1e6 # 2.296MHz"
   ]
  },
  {
   "cell_type": "code",
   "execution_count": 6,
   "id": "95dd15b4",
   "metadata": {
    "ExecuteTime": {
     "end_time": "2024-05-30T19:31:01.594382Z",
     "start_time": "2024-05-30T19:31:01.591020Z"
    }
   },
   "outputs": [],
   "source": [
    "# Optical Crosstalk, from \"ENGINEERING THE QUANTUM SCIENTIFIC COMPUTING OPEN USER TESTBED\"\n",
    "# These values are scaled such that Ω=1 for the target ion\n",
    "neighΩ = 0.0236 # Rabi frequency on neighbor of target ion\n",
    "nneighΩ = 0.006 # Rabi frequency on next neighbor of target ion"
   ]
  },
  {
   "cell_type": "code",
   "execution_count": 7,
   "id": "c3584354",
   "metadata": {
    "ExecuteTime": {
     "end_time": "2024-05-30T19:31:01.611108Z",
     "start_time": "2024-05-30T19:31:01.607555Z"
    }
   },
   "outputs": [],
   "source": [
    "# Blue and Red beam phases\n",
    "# Below should implement X gate\n",
    "ϕB = π/2\n",
    "ϕR = π/2"
   ]
  },
  {
   "cell_type": "code",
   "execution_count": 8,
   "id": "57b74fc5",
   "metadata": {
    "ExecuteTime": {
     "end_time": "2024-05-30T19:31:01.629711Z",
     "start_time": "2024-05-30T19:31:01.626225Z"
    }
   },
   "outputs": [],
   "source": [
    "N = 5\n",
    "modetype=\"radial\"\n",
    "K = 1\n",
    "τ = 200e-6 # 200μs"
   ]
  },
  {
   "cell_type": "markdown",
   "id": "858a574a",
   "metadata": {},
   "source": [
    "## Fidelity Calculations"
   ]
  },
  {
   "cell_type": "code",
   "execution_count": 9,
   "id": "7ee0a71f",
   "metadata": {
    "ExecuteTime": {
     "end_time": "2024-05-30T19:31:07.491001Z",
     "start_time": "2024-05-30T19:31:07.484142Z"
    }
   },
   "outputs": [],
   "source": [
    "N = 5\n",
    "modetype=\"radial\"\n",
    "K = 1\n",
    "τ = 200e-6 # 200μs\n",
    "\n",
    "trapspec = TrapSpec(νz, νr)\n",
    "devicespec = TIDeviceSpec(N, trapspec, qbit_splitting, raman_freq, M)"
   ]
  },
  {
   "cell_type": "markdown",
   "id": "3572cb0d",
   "metadata": {
    "jp-MarkdownHeadingCollapsed": true
   },
   "source": [
    "### Plot Generation Functions"
   ]
  },
  {
   "cell_type": "code",
   "execution_count": 10,
   "id": "c8d69f99",
   "metadata": {
    "ExecuteTime": {
     "end_time": "2024-05-30T19:31:09.249627Z",
     "start_time": "2024-05-30T19:31:09.228864Z"
    }
   },
   "outputs": [],
   "source": [
    "def plotBestModes(N, fidarr, title=None):\n",
    "    fig, axes = plt.subplots(2,3, figsize=(18,11), sharex=True, sharey=True)\n",
    "    cbar_ax = fig.add_axes([.93, .3, .02, 0.5])\n",
    "    cmap = sb.color_palette(\"rocket\", as_cmap=True)\n",
    "    for m in range(N):\n",
    "        ax = axes.flat[m]\n",
    "        annot = [[f\"{m if m!=N-1 else 'COM'}\" if (i==N//2 and j==N//2) else \"\" for i in range(N)] for j in range(N)]\n",
    "        sb.heatmap(fidarr[:,:,m], ax=ax, vmin=0.94, vmax=1.0, cbar=(m==0),cbar_ax=None if m==1 else cbar_ax,\n",
    "                   annot=annot, annot_kws={'c':'w', 'size':20}, fmt=\"\", cmap=cmap,\n",
    "                  xticklabels=[f\"{i}\" for i in range(N)])\n",
    "        ax.set_yticklabels(ax.get_yticks(), size = 20)\n",
    "        ax.set_xticklabels(ax.get_xticks(), size = 20)\n",
    "    annot = [[\"\" for i in range(N)] for j in range(N)]\n",
    "    annot[N//2][N//2] = \"Best\"\n",
    "    bestmodes = np.argmax(fidarr,2)\n",
    "    bestfids = np.max(fidarr,2)\n",
    "    for i in range(N):\n",
    "        for j in range(i+1, N):\n",
    "            annot[i][j] = f\"{bestmodes[i,j]}\"\n",
    "            annot[j][i] = annot[i][j]\n",
    "    ax_best = axes.flat[-1]\n",
    "    sb.heatmap(bestfids, ax=ax_best, vmin=0.95, vmax=1.0, cbar=False,cbar_ax=cbar_ax,\n",
    "              annot=annot, annot_kws={'c':'k', 'size':20}, fmt=\"\", cmap=cmap)\n",
    "    ax_best.set_xticklabels([f\"{i}\" for i in range(N)], size = 20)\n",
    "    cbar_ax.figure.axes[-1].tick_params(labelsize=20)\n",
    "    \n",
    "    # bbox = ax_best.get_window_extent()\n",
    "    # fig.patches.extend([plt.Rectangle((bbox.xmin, bbox.ymin),\n",
    "    #                                   bbox.xmax-bbox.xmin, bbox.ymax-bbox.ymin,\n",
    "    #                                   fill=True, color='g', alpha=0.7, zorder=-1, figure=fig)])\n",
    "    \n",
    "    fig.patches.extend([plt.Rectangle((985, 45),\n",
    "                                      500, 460,\n",
    "                                      fill=True, color='g', alpha=0.7, zorder=-1,\n",
    "                                      transform=None, figure=fig)])\n",
    "    \n",
    "    ax_best.text(2.1, 2.6, \"Best\", c=\"w\", size='20')\n",
    "    if title!=None: fig.suptitle(title, size='25')"
   ]
  },
  {
   "cell_type": "markdown",
   "id": "7813c4b9",
   "metadata": {},
   "source": [
    "### Optical and Mode Crosstalk"
   ]
  },
  {
   "cell_type": "code",
   "execution_count": 11,
   "id": "9fd0f932",
   "metadata": {
    "ExecuteTime": {
     "end_time": "2024-05-30T19:31:16.272226Z",
     "start_time": "2024-05-30T19:31:16.163556Z"
    }
   },
   "outputs": [
    {
     "ename": "AttributeError",
     "evalue": "'numpy.ndarray' object has no attribute 'norm'",
     "output_type": "error",
     "traceback": [
      "\u001b[0;31m---------------------------------------------------------------------------\u001b[0m",
      "\u001b[0;31mAttributeError\u001b[0m                            Traceback (most recent call last)",
      "\u001b[0;32m<ipython-input-11-40f93f28d36c>\u001b[0m in \u001b[0;36m<module>\u001b[0;34m\u001b[0m\n\u001b[1;32m      5\u001b[0m     \u001b[0mmslaserspec\u001b[0m \u001b[0;34m=\u001b[0m \u001b[0mMSLaserSpec\u001b[0m\u001b[0;34m(\u001b[0m\u001b[0mωd\u001b[0m\u001b[0;34m,\u001b[0m \u001b[0mΩvals\u001b[0m\u001b[0;34m,\u001b[0m \u001b[0mϕB\u001b[0m\u001b[0;34m,\u001b[0m \u001b[0mϕR\u001b[0m\u001b[0;34m)\u001b[0m\u001b[0;34m\u001b[0m\u001b[0;34m\u001b[0m\u001b[0m\n\u001b[1;32m      6\u001b[0m     \u001b[0mmsopspec\u001b[0m \u001b[0;34m=\u001b[0m \u001b[0mMSOpSpec\u001b[0m\u001b[0;34m(\u001b[0m\u001b[0mdevicespec\u001b[0m\u001b[0;34m,\u001b[0m \u001b[0mmslaserspec\u001b[0m\u001b[0;34m,\u001b[0m \u001b[0mτ\u001b[0m\u001b[0;34m,\u001b[0m \u001b[0mtargets\u001b[0m\u001b[0;34m=\u001b[0m\u001b[0mtargets\u001b[0m\u001b[0;34m,\u001b[0m \u001b[0mm\u001b[0m\u001b[0;34m=\u001b[0m\u001b[0mm\u001b[0m\u001b[0;34m,\u001b[0m \u001b[0mmodetype\u001b[0m\u001b[0;34m=\u001b[0m\u001b[0mmodetype\u001b[0m\u001b[0;34m,\u001b[0m \u001b[0mK\u001b[0m\u001b[0;34m=\u001b[0m\u001b[0mK\u001b[0m\u001b[0;34m)\u001b[0m\u001b[0;34m\u001b[0m\u001b[0;34m\u001b[0m\u001b[0m\n\u001b[0;32m----> 7\u001b[0;31m     \u001b[0mρf\u001b[0m \u001b[0;34m=\u001b[0m \u001b[0mMS_Analytical_zeroinitalstate_tracemodes\u001b[0m\u001b[0;34m(\u001b[0m\u001b[0mmsopspec\u001b[0m\u001b[0;34m,\u001b[0m \u001b[0msimmodes\u001b[0m\u001b[0;34m=\u001b[0m\u001b[0mlist\u001b[0m\u001b[0;34m(\u001b[0m\u001b[0mrange\u001b[0m\u001b[0;34m(\u001b[0m\u001b[0mN\u001b[0m\u001b[0;34m)\u001b[0m\u001b[0;34m)\u001b[0m\u001b[0;34m,\u001b[0m\u001b[0mmodetype\u001b[0m\u001b[0;34m=\u001b[0m\u001b[0mmodetype\u001b[0m\u001b[0;34m,\u001b[0m \u001b[0mmodetrunc\u001b[0m\u001b[0;34m=\u001b[0m\u001b[0;36m2\u001b[0m\u001b[0;34m)\u001b[0m\u001b[0;34m\u001b[0m\u001b[0;34m\u001b[0m\u001b[0m\n\u001b[0m\u001b[1;32m      8\u001b[0m     \u001b[0;32mfor\u001b[0m \u001b[0mfidions\u001b[0m \u001b[0;32min\u001b[0m \u001b[0mitertools\u001b[0m\u001b[0;34m.\u001b[0m\u001b[0mcombinations\u001b[0m\u001b[0;34m(\u001b[0m\u001b[0mrange\u001b[0m\u001b[0;34m(\u001b[0m\u001b[0mN\u001b[0m\u001b[0;34m)\u001b[0m\u001b[0;34m,\u001b[0m\u001b[0;36m2\u001b[0m\u001b[0;34m)\u001b[0m\u001b[0;34m:\u001b[0m\u001b[0;34m\u001b[0m\u001b[0;34m\u001b[0m\u001b[0m\n\u001b[1;32m      9\u001b[0m         \u001b[0milluminated\u001b[0m \u001b[0;34m=\u001b[0m \u001b[0;34m[\u001b[0m\u001b[0mi\u001b[0m \u001b[0;32mfor\u001b[0m \u001b[0mi\u001b[0m \u001b[0;32min\u001b[0m \u001b[0mrange\u001b[0m\u001b[0;34m(\u001b[0m\u001b[0mN\u001b[0m\u001b[0;34m)\u001b[0m \u001b[0;32mif\u001b[0m \u001b[0mΩvals\u001b[0m\u001b[0;34m[\u001b[0m\u001b[0mi\u001b[0m\u001b[0;34m]\u001b[0m\u001b[0;34m!=\u001b[0m\u001b[0;36m0\u001b[0m\u001b[0;34m]\u001b[0m\u001b[0;34m\u001b[0m\u001b[0;34m\u001b[0m\u001b[0m\n",
      "\u001b[0;32m~/Documents/UW/Projects/Crosstalk/XTalkRobustMS/tools/MSFidelityEstimation.py\u001b[0m in \u001b[0;36mMS_Analytical_zeroinitalstate_tracemodes\u001b[0;34m(opspec, simmodes, modetype, modetrunc)\u001b[0m\n\u001b[1;32m    259\u001b[0m     \u001b[0mρqbit\u001b[0m \u001b[0;34m=\u001b[0m \u001b[0mqtp\u001b[0m\u001b[0;34m.\u001b[0m\u001b[0mQobj\u001b[0m\u001b[0;34m(\u001b[0m\u001b[0mρqbit_mat\u001b[0m\u001b[0;34m,\u001b[0m \u001b[0mdims\u001b[0m\u001b[0;34m=\u001b[0m\u001b[0;34m[\u001b[0m\u001b[0;34m[\u001b[0m\u001b[0;36m2\u001b[0m\u001b[0;34m]\u001b[0m\u001b[0;34m*\u001b[0m\u001b[0mNeff\u001b[0m\u001b[0;34m,\u001b[0m\u001b[0;34m[\u001b[0m\u001b[0;36m2\u001b[0m\u001b[0;34m]\u001b[0m\u001b[0;34m*\u001b[0m\u001b[0mNeff\u001b[0m\u001b[0;34m]\u001b[0m\u001b[0;34m)\u001b[0m\u001b[0;34m\u001b[0m\u001b[0;34m\u001b[0m\u001b[0m\n\u001b[1;32m    260\u001b[0m \u001b[0;34m\u001b[0m\u001b[0m\n\u001b[0;32m--> 261\u001b[0;31m     \u001b[0mσeigstates\u001b[0m \u001b[0;34m=\u001b[0m \u001b[0mσ\u001b[0m\u001b[0;34m(\u001b[0m\u001b[0mπ\u001b[0m\u001b[0;34m/\u001b[0m\u001b[0;36m2\u001b[0m\u001b[0;34m+\u001b[0m\u001b[0mϕs\u001b[0m\u001b[0;34m)\u001b[0m\u001b[0;34m.\u001b[0m\u001b[0meigenstates\u001b[0m\u001b[0;34m(\u001b[0m\u001b[0;34m)\u001b[0m\u001b[0;34m\u001b[0m\u001b[0;34m\u001b[0m\u001b[0m\n\u001b[0m\u001b[1;32m    262\u001b[0m     \u001b[0mσbasis\u001b[0m \u001b[0;34m=\u001b[0m \u001b[0mqtp\u001b[0m\u001b[0;34m.\u001b[0m\u001b[0mQobj\u001b[0m\u001b[0;34m(\u001b[0m\u001b[0mnp\u001b[0m\u001b[0;34m.\u001b[0m\u001b[0mc_\u001b[0m\u001b[0;34m[\u001b[0m\u001b[0mσeigstates\u001b[0m\u001b[0;34m[\u001b[0m\u001b[0;36m1\u001b[0m\u001b[0;34m]\u001b[0m\u001b[0;34m[\u001b[0m\u001b[0;36m0\u001b[0m\u001b[0;34m]\u001b[0m\u001b[0;34m.\u001b[0m\u001b[0mdata\u001b[0m\u001b[0;34m.\u001b[0m\u001b[0mA\u001b[0m\u001b[0;34m,\u001b[0m \u001b[0mσeigstates\u001b[0m\u001b[0;34m[\u001b[0m\u001b[0;36m1\u001b[0m\u001b[0;34m]\u001b[0m\u001b[0;34m[\u001b[0m\u001b[0;36m1\u001b[0m\u001b[0;34m]\u001b[0m\u001b[0;34m.\u001b[0m\u001b[0mdata\u001b[0m\u001b[0;34m.\u001b[0m\u001b[0mA\u001b[0m\u001b[0;34m]\u001b[0m\u001b[0;34m,\u001b[0m\u001b[0mdims\u001b[0m\u001b[0;34m=\u001b[0m\u001b[0;34m[\u001b[0m\u001b[0;34m[\u001b[0m\u001b[0;36m2\u001b[0m\u001b[0;34m]\u001b[0m\u001b[0;34m,\u001b[0m\u001b[0;34m[\u001b[0m\u001b[0;36m2\u001b[0m\u001b[0;34m]\u001b[0m\u001b[0;34m]\u001b[0m\u001b[0;34m)\u001b[0m\u001b[0;34m\u001b[0m\u001b[0;34m\u001b[0m\u001b[0m\n\u001b[1;32m    263\u001b[0m     \u001b[0mchange_of_basis\u001b[0m \u001b[0;34m=\u001b[0m \u001b[0mqtp\u001b[0m\u001b[0;34m.\u001b[0m\u001b[0mtensor\u001b[0m\u001b[0;34m(\u001b[0m\u001b[0;34m[\u001b[0m\u001b[0mσbasis\u001b[0m\u001b[0;34m]\u001b[0m\u001b[0;34m*\u001b[0m\u001b[0mNeff\u001b[0m\u001b[0;34m)\u001b[0m\u001b[0;34m\u001b[0m\u001b[0;34m\u001b[0m\u001b[0m\n",
      "\u001b[0;32m/opt/anaconda3/lib/python3.7/site-packages/qutip/qobj.py\u001b[0m in \u001b[0;36meigenstates\u001b[0;34m(self, sparse, sort, eigvals, tol, maxiter)\u001b[0m\n\u001b[1;32m   1666\u001b[0m         ekets = np.array([Qobj(vec, dims=new_dims) for vec in evecs],\n\u001b[1;32m   1667\u001b[0m                          dtype=object)\n\u001b[0;32m-> 1668\u001b[0;31m         \u001b[0mnorms\u001b[0m \u001b[0;34m=\u001b[0m \u001b[0mnp\u001b[0m\u001b[0;34m.\u001b[0m\u001b[0marray\u001b[0m\u001b[0;34m(\u001b[0m\u001b[0;34m[\u001b[0m\u001b[0mket\u001b[0m\u001b[0;34m.\u001b[0m\u001b[0mnorm\u001b[0m\u001b[0;34m(\u001b[0m\u001b[0;34m)\u001b[0m \u001b[0;32mfor\u001b[0m \u001b[0mket\u001b[0m \u001b[0;32min\u001b[0m \u001b[0mekets\u001b[0m\u001b[0;34m]\u001b[0m\u001b[0;34m)\u001b[0m\u001b[0;34m\u001b[0m\u001b[0;34m\u001b[0m\u001b[0m\n\u001b[0m\u001b[1;32m   1669\u001b[0m         \u001b[0;32mreturn\u001b[0m \u001b[0mevals\u001b[0m\u001b[0;34m,\u001b[0m \u001b[0mekets\u001b[0m \u001b[0;34m/\u001b[0m \u001b[0mnorms\u001b[0m\u001b[0;34m\u001b[0m\u001b[0;34m\u001b[0m\u001b[0m\n\u001b[1;32m   1670\u001b[0m \u001b[0;34m\u001b[0m\u001b[0m\n",
      "\u001b[0;32m/opt/anaconda3/lib/python3.7/site-packages/qutip/qobj.py\u001b[0m in \u001b[0;36m<listcomp>\u001b[0;34m(.0)\u001b[0m\n\u001b[1;32m   1666\u001b[0m         ekets = np.array([Qobj(vec, dims=new_dims) for vec in evecs],\n\u001b[1;32m   1667\u001b[0m                          dtype=object)\n\u001b[0;32m-> 1668\u001b[0;31m         \u001b[0mnorms\u001b[0m \u001b[0;34m=\u001b[0m \u001b[0mnp\u001b[0m\u001b[0;34m.\u001b[0m\u001b[0marray\u001b[0m\u001b[0;34m(\u001b[0m\u001b[0;34m[\u001b[0m\u001b[0mket\u001b[0m\u001b[0;34m.\u001b[0m\u001b[0mnorm\u001b[0m\u001b[0;34m(\u001b[0m\u001b[0;34m)\u001b[0m \u001b[0;32mfor\u001b[0m \u001b[0mket\u001b[0m \u001b[0;32min\u001b[0m \u001b[0mekets\u001b[0m\u001b[0;34m]\u001b[0m\u001b[0;34m)\u001b[0m\u001b[0;34m\u001b[0m\u001b[0;34m\u001b[0m\u001b[0m\n\u001b[0m\u001b[1;32m   1669\u001b[0m         \u001b[0;32mreturn\u001b[0m \u001b[0mevals\u001b[0m\u001b[0;34m,\u001b[0m \u001b[0mekets\u001b[0m \u001b[0;34m/\u001b[0m \u001b[0mnorms\u001b[0m\u001b[0;34m\u001b[0m\u001b[0;34m\u001b[0m\u001b[0m\n\u001b[1;32m   1670\u001b[0m \u001b[0;34m\u001b[0m\u001b[0m\n",
      "\u001b[0;31mAttributeError\u001b[0m: 'numpy.ndarray' object has no attribute 'norm'"
     ]
    }
   ],
   "source": [
    "fids = []\n",
    "for targets, m in itertools.product(itertools.combinations(range(N),2), range(N)):\n",
    "    ωd, Ω = calc_necessary_sideband_detuning_and_rabi_freq(devicespec, targets, m, modetype, τ, K=K)\n",
    "    Ωvals = Ω*Ωvals_from_fixed_neighbor_xtalk(N, targets, neighΩ, nneighΩ)\n",
    "    mslaserspec = MSLaserSpec(ωd, Ωvals, ϕB, ϕR)\n",
    "    msopspec = MSOpSpec(devicespec, mslaserspec, τ, targets=targets, m=m, modetype=modetype, K=K)\n",
    "    ρf = MS_Analytical_zeroinitalstate_tracemodes(msopspec, simmodes=list(range(N)),modetype=modetype, modetrunc=2)\n",
    "    for fidions in itertools.combinations(range(N),2):\n",
    "        illuminated = [i for i in range(N) if Ωvals[i]!=0]\n",
    "        traceindices = [illuminated.index(i) for i in fidions]\n",
    "        ρred = ρf.ptrace(traceindices)\n",
    "        parity_curve_amplitude = 2*abs(ρred[3,0])\n",
    "        pop00 = abs(ρred[0,0])\n",
    "        pop11 = abs(ρred[3,3])\n",
    "        measured_fid = (pop00 + pop11 + parity_curve_amplitude)/2\n",
    "        fidcalc = MSFidCalculation(opspec=msopspec, method='MS_Analytical_zeroinitalstate_tracemodes', fid=measured_fid, fidions=fidions)\n",
    "        fids.append(fidcalc)\n",
    "file = open('calculated_results/qscout_5ion_fidelities_withopticalxtalk_withmodextalk', \"w\")\n",
    "file.writelines([str(fidcalc)+'\\n' for fidcalc in fids])"
   ]
  },
  {
   "cell_type": "code",
   "execution_count": 12,
   "id": "08a3dfe1",
   "metadata": {
    "ExecuteTime": {
     "end_time": "2024-05-30T19:31:40.048988Z",
     "start_time": "2024-05-30T19:31:39.036994Z"
    }
   },
   "outputs": [
    {
     "ename": "TypeError",
     "evalue": "color_palette() got an unexpected keyword argument 'as_cmap'",
     "output_type": "error",
     "traceback": [
      "\u001b[0;31m---------------------------------------------------------------------------\u001b[0m",
      "\u001b[0;31mTypeError\u001b[0m                                 Traceback (most recent call last)",
      "\u001b[0;32m<ipython-input-12-1b61004475eb>\u001b[0m in \u001b[0;36m<module>\u001b[0;34m\u001b[0m\n\u001b[1;32m      7\u001b[0m         \u001b[0mm\u001b[0m \u001b[0;34m=\u001b[0m \u001b[0mfidcalc\u001b[0m\u001b[0;34m.\u001b[0m\u001b[0mopspec\u001b[0m\u001b[0;34m.\u001b[0m\u001b[0mm\u001b[0m\u001b[0;34m\u001b[0m\u001b[0;34m\u001b[0m\u001b[0m\n\u001b[1;32m      8\u001b[0m         \u001b[0mfidarr\u001b[0m\u001b[0;34m[\u001b[0m\u001b[0mtargets\u001b[0m\u001b[0;34m[\u001b[0m\u001b[0;36m0\u001b[0m\u001b[0;34m]\u001b[0m\u001b[0;34m,\u001b[0m\u001b[0mtargets\u001b[0m\u001b[0;34m[\u001b[0m\u001b[0;36m1\u001b[0m\u001b[0;34m]\u001b[0m\u001b[0;34m,\u001b[0m\u001b[0mm\u001b[0m\u001b[0;34m]\u001b[0m \u001b[0;34m=\u001b[0m \u001b[0mfidcalc\u001b[0m\u001b[0;34m.\u001b[0m\u001b[0mfid\u001b[0m\u001b[0;34m\u001b[0m\u001b[0;34m\u001b[0m\u001b[0m\n\u001b[0;32m----> 9\u001b[0;31m \u001b[0mplotBestModes\u001b[0m\u001b[0;34m(\u001b[0m\u001b[0mN\u001b[0m\u001b[0;34m,\u001b[0m \u001b[0mfidarr\u001b[0m\u001b[0;34m,\u001b[0m \u001b[0mtitle\u001b[0m\u001b[0;34m=\u001b[0m\u001b[0;34m\"QSCOUT Estimates, 5 Ions, Optical and Mode Xtalk\"\u001b[0m\u001b[0;34m)\u001b[0m\u001b[0;34m\u001b[0m\u001b[0;34m\u001b[0m\u001b[0m\n\u001b[0m",
      "\u001b[0;32m<ipython-input-10-925ec5d55260>\u001b[0m in \u001b[0;36mplotBestModes\u001b[0;34m(N, fidarr, title)\u001b[0m\n\u001b[1;32m      2\u001b[0m     \u001b[0mfig\u001b[0m\u001b[0;34m,\u001b[0m \u001b[0maxes\u001b[0m \u001b[0;34m=\u001b[0m \u001b[0mplt\u001b[0m\u001b[0;34m.\u001b[0m\u001b[0msubplots\u001b[0m\u001b[0;34m(\u001b[0m\u001b[0;36m2\u001b[0m\u001b[0;34m,\u001b[0m\u001b[0;36m3\u001b[0m\u001b[0;34m,\u001b[0m \u001b[0mfigsize\u001b[0m\u001b[0;34m=\u001b[0m\u001b[0;34m(\u001b[0m\u001b[0;36m18\u001b[0m\u001b[0;34m,\u001b[0m\u001b[0;36m11\u001b[0m\u001b[0;34m)\u001b[0m\u001b[0;34m,\u001b[0m \u001b[0msharex\u001b[0m\u001b[0;34m=\u001b[0m\u001b[0;32mTrue\u001b[0m\u001b[0;34m,\u001b[0m \u001b[0msharey\u001b[0m\u001b[0;34m=\u001b[0m\u001b[0;32mTrue\u001b[0m\u001b[0;34m)\u001b[0m\u001b[0;34m\u001b[0m\u001b[0;34m\u001b[0m\u001b[0m\n\u001b[1;32m      3\u001b[0m     \u001b[0mcbar_ax\u001b[0m \u001b[0;34m=\u001b[0m \u001b[0mfig\u001b[0m\u001b[0;34m.\u001b[0m\u001b[0madd_axes\u001b[0m\u001b[0;34m(\u001b[0m\u001b[0;34m[\u001b[0m\u001b[0;36m.93\u001b[0m\u001b[0;34m,\u001b[0m \u001b[0;36m.3\u001b[0m\u001b[0;34m,\u001b[0m \u001b[0;36m.02\u001b[0m\u001b[0;34m,\u001b[0m \u001b[0;36m0.5\u001b[0m\u001b[0;34m]\u001b[0m\u001b[0;34m)\u001b[0m\u001b[0;34m\u001b[0m\u001b[0;34m\u001b[0m\u001b[0m\n\u001b[0;32m----> 4\u001b[0;31m     \u001b[0mcmap\u001b[0m \u001b[0;34m=\u001b[0m \u001b[0msb\u001b[0m\u001b[0;34m.\u001b[0m\u001b[0mcolor_palette\u001b[0m\u001b[0;34m(\u001b[0m\u001b[0;34m\"rocket\"\u001b[0m\u001b[0;34m,\u001b[0m \u001b[0mas_cmap\u001b[0m\u001b[0;34m=\u001b[0m\u001b[0;32mTrue\u001b[0m\u001b[0;34m)\u001b[0m\u001b[0;34m\u001b[0m\u001b[0;34m\u001b[0m\u001b[0m\n\u001b[0m\u001b[1;32m      5\u001b[0m     \u001b[0;32mfor\u001b[0m \u001b[0mm\u001b[0m \u001b[0;32min\u001b[0m \u001b[0mrange\u001b[0m\u001b[0;34m(\u001b[0m\u001b[0mN\u001b[0m\u001b[0;34m)\u001b[0m\u001b[0;34m:\u001b[0m\u001b[0;34m\u001b[0m\u001b[0;34m\u001b[0m\u001b[0m\n\u001b[1;32m      6\u001b[0m         \u001b[0max\u001b[0m \u001b[0;34m=\u001b[0m \u001b[0maxes\u001b[0m\u001b[0;34m.\u001b[0m\u001b[0mflat\u001b[0m\u001b[0;34m[\u001b[0m\u001b[0mm\u001b[0m\u001b[0;34m]\u001b[0m\u001b[0;34m\u001b[0m\u001b[0;34m\u001b[0m\u001b[0m\n",
      "\u001b[0;31mTypeError\u001b[0m: color_palette() got an unexpected keyword argument 'as_cmap'"
     ]
    },
    {
     "data": {
      "image/png": "[encoded data removed]",
      "text/plain": [
       "<Figure size 1296x792 with 7 Axes>"
      ]
     },
     "metadata": {
      "needs_background": "light"
     },
     "output_type": "display_data"
    }
   ],
   "source": [
    "file = open('calculated_results/qscout_5ion_fidelities_withopticalxtalk_withmodextalk', \"r\")\n",
    "fids = [MSFidCalculation.fromDict(ast.literal_eval(line)) for line in file.readlines()]\n",
    "fidarr = np.zeros((N,N,N))\n",
    "for fidcalc in fids:\n",
    "    if fidcalc.fidions == fidcalc.opspec.targets:\n",
    "        targets = fidcalc.opspec.targets\n",
    "        m = fidcalc.opspec.m\n",
    "        fidarr[targets[0],targets[1],m] = fidcalc.fid\n",
    "plotBestModes(N, fidarr, title=\"QSCOUT Estimates, 5 Ions, Optical and Mode Xtalk\")"
   ]
  },
  {
   "cell_type": "markdown",
   "id": "480ad0f7",
   "metadata": {},
   "source": [
    "### Optical Crosstalk, No Mode Crosstalk"
   ]
  },
  {
   "cell_type": "code",
   "execution_count": 13,
   "id": "15af372c",
   "metadata": {
    "ExecuteTime": {
     "end_time": "2024-05-30T19:31:40.186449Z",
     "start_time": "2024-05-30T19:31:40.156196Z"
    }
   },
   "outputs": [
    {
     "ename": "AttributeError",
     "evalue": "'numpy.ndarray' object has no attribute 'norm'",
     "output_type": "error",
     "traceback": [
      "\u001b[0;31m---------------------------------------------------------------------------\u001b[0m",
      "\u001b[0;31mAttributeError\u001b[0m                            Traceback (most recent call last)",
      "\u001b[0;32m<ipython-input-13-79f64e520750>\u001b[0m in \u001b[0;36m<module>\u001b[0;34m\u001b[0m\n\u001b[1;32m      5\u001b[0m     \u001b[0mmslaserspec\u001b[0m \u001b[0;34m=\u001b[0m \u001b[0mMSLaserSpec\u001b[0m\u001b[0;34m(\u001b[0m\u001b[0mωd\u001b[0m\u001b[0;34m,\u001b[0m \u001b[0mΩvals\u001b[0m\u001b[0;34m,\u001b[0m \u001b[0mϕB\u001b[0m\u001b[0;34m,\u001b[0m \u001b[0mϕR\u001b[0m\u001b[0;34m)\u001b[0m\u001b[0;34m\u001b[0m\u001b[0;34m\u001b[0m\u001b[0m\n\u001b[1;32m      6\u001b[0m     \u001b[0mmsopspec\u001b[0m \u001b[0;34m=\u001b[0m \u001b[0mMSOpSpec\u001b[0m\u001b[0;34m(\u001b[0m\u001b[0mdevicespec\u001b[0m\u001b[0;34m,\u001b[0m \u001b[0mmslaserspec\u001b[0m\u001b[0;34m,\u001b[0m \u001b[0mτ\u001b[0m\u001b[0;34m,\u001b[0m \u001b[0mtargets\u001b[0m\u001b[0;34m=\u001b[0m\u001b[0mtargets\u001b[0m\u001b[0;34m,\u001b[0m \u001b[0mm\u001b[0m\u001b[0;34m=\u001b[0m\u001b[0mm\u001b[0m\u001b[0;34m,\u001b[0m \u001b[0mmodetype\u001b[0m\u001b[0;34m=\u001b[0m\u001b[0mmodetype\u001b[0m\u001b[0;34m,\u001b[0m \u001b[0mK\u001b[0m\u001b[0;34m=\u001b[0m\u001b[0mK\u001b[0m\u001b[0;34m)\u001b[0m\u001b[0;34m\u001b[0m\u001b[0;34m\u001b[0m\u001b[0m\n\u001b[0;32m----> 7\u001b[0;31m     \u001b[0mρf\u001b[0m \u001b[0;34m=\u001b[0m \u001b[0mMS_Analytical_zeroinitalstate_tracemodes\u001b[0m\u001b[0;34m(\u001b[0m\u001b[0mmsopspec\u001b[0m\u001b[0;34m,\u001b[0m \u001b[0msimmodes\u001b[0m\u001b[0;34m=\u001b[0m\u001b[0;34m[\u001b[0m\u001b[0mm\u001b[0m\u001b[0;34m]\u001b[0m\u001b[0;34m,\u001b[0m\u001b[0mmodetype\u001b[0m\u001b[0;34m=\u001b[0m\u001b[0mmodetype\u001b[0m\u001b[0;34m,\u001b[0m \u001b[0mmodetrunc\u001b[0m\u001b[0;34m=\u001b[0m\u001b[0;36m2\u001b[0m\u001b[0;34m)\u001b[0m\u001b[0;34m\u001b[0m\u001b[0;34m\u001b[0m\u001b[0m\n\u001b[0m\u001b[1;32m      8\u001b[0m     \u001b[0;32mfor\u001b[0m \u001b[0mfidions\u001b[0m \u001b[0;32min\u001b[0m \u001b[0mitertools\u001b[0m\u001b[0;34m.\u001b[0m\u001b[0mcombinations\u001b[0m\u001b[0;34m(\u001b[0m\u001b[0mrange\u001b[0m\u001b[0;34m(\u001b[0m\u001b[0mN\u001b[0m\u001b[0;34m)\u001b[0m\u001b[0;34m,\u001b[0m\u001b[0;36m2\u001b[0m\u001b[0;34m)\u001b[0m\u001b[0;34m:\u001b[0m\u001b[0;34m\u001b[0m\u001b[0;34m\u001b[0m\u001b[0m\n\u001b[1;32m      9\u001b[0m         \u001b[0mρred\u001b[0m \u001b[0;34m=\u001b[0m \u001b[0mρf\u001b[0m\u001b[0;34m.\u001b[0m\u001b[0mptrace\u001b[0m\u001b[0;34m(\u001b[0m\u001b[0mfidions\u001b[0m\u001b[0;34m)\u001b[0m\u001b[0;34m\u001b[0m\u001b[0;34m\u001b[0m\u001b[0m\n",
      "\u001b[0;32m~/Documents/UW/Projects/Crosstalk/XTalkRobustMS/tools/MSFidelityEstimation.py\u001b[0m in \u001b[0;36mMS_Analytical_zeroinitalstate_tracemodes\u001b[0;34m(opspec, simmodes, modetype, modetrunc)\u001b[0m\n\u001b[1;32m    259\u001b[0m     \u001b[0mρqbit\u001b[0m \u001b[0;34m=\u001b[0m \u001b[0mqtp\u001b[0m\u001b[0;34m.\u001b[0m\u001b[0mQobj\u001b[0m\u001b[0;34m(\u001b[0m\u001b[0mρqbit_mat\u001b[0m\u001b[0;34m,\u001b[0m \u001b[0mdims\u001b[0m\u001b[0;34m=\u001b[0m\u001b[0;34m[\u001b[0m\u001b[0;34m[\u001b[0m\u001b[0;36m2\u001b[0m\u001b[0;34m]\u001b[0m\u001b[0;34m*\u001b[0m\u001b[0mNeff\u001b[0m\u001b[0;34m,\u001b[0m\u001b[0;34m[\u001b[0m\u001b[0;36m2\u001b[0m\u001b[0;34m]\u001b[0m\u001b[0;34m*\u001b[0m\u001b[0mNeff\u001b[0m\u001b[0;34m]\u001b[0m\u001b[0;34m)\u001b[0m\u001b[0;34m\u001b[0m\u001b[0;34m\u001b[0m\u001b[0m\n\u001b[1;32m    260\u001b[0m \u001b[0;34m\u001b[0m\u001b[0m\n\u001b[0;32m--> 261\u001b[0;31m     \u001b[0mσeigstates\u001b[0m \u001b[0;34m=\u001b[0m \u001b[0mσ\u001b[0m\u001b[0;34m(\u001b[0m\u001b[0mπ\u001b[0m\u001b[0;34m/\u001b[0m\u001b[0;36m2\u001b[0m\u001b[0;34m+\u001b[0m\u001b[0mϕs\u001b[0m\u001b[0;34m)\u001b[0m\u001b[0;34m.\u001b[0m\u001b[0meigenstates\u001b[0m\u001b[0;34m(\u001b[0m\u001b[0;34m)\u001b[0m\u001b[0;34m\u001b[0m\u001b[0;34m\u001b[0m\u001b[0m\n\u001b[0m\u001b[1;32m    262\u001b[0m     \u001b[0mσbasis\u001b[0m \u001b[0;34m=\u001b[0m \u001b[0mqtp\u001b[0m\u001b[0;34m.\u001b[0m\u001b[0mQobj\u001b[0m\u001b[0;34m(\u001b[0m\u001b[0mnp\u001b[0m\u001b[0;34m.\u001b[0m\u001b[0mc_\u001b[0m\u001b[0;34m[\u001b[0m\u001b[0mσeigstates\u001b[0m\u001b[0;34m[\u001b[0m\u001b[0;36m1\u001b[0m\u001b[0;34m]\u001b[0m\u001b[0;34m[\u001b[0m\u001b[0;36m0\u001b[0m\u001b[0;34m]\u001b[0m\u001b[0;34m.\u001b[0m\u001b[0mdata\u001b[0m\u001b[0;34m.\u001b[0m\u001b[0mA\u001b[0m\u001b[0;34m,\u001b[0m \u001b[0mσeigstates\u001b[0m\u001b[0;34m[\u001b[0m\u001b[0;36m1\u001b[0m\u001b[0;34m]\u001b[0m\u001b[0;34m[\u001b[0m\u001b[0;36m1\u001b[0m\u001b[0;34m]\u001b[0m\u001b[0;34m.\u001b[0m\u001b[0mdata\u001b[0m\u001b[0;34m.\u001b[0m\u001b[0mA\u001b[0m\u001b[0;34m]\u001b[0m\u001b[0;34m,\u001b[0m\u001b[0mdims\u001b[0m\u001b[0;34m=\u001b[0m\u001b[0;34m[\u001b[0m\u001b[0;34m[\u001b[0m\u001b[0;36m2\u001b[0m\u001b[0;34m]\u001b[0m\u001b[0;34m,\u001b[0m\u001b[0;34m[\u001b[0m\u001b[0;36m2\u001b[0m\u001b[0;34m]\u001b[0m\u001b[0;34m]\u001b[0m\u001b[0;34m)\u001b[0m\u001b[0;34m\u001b[0m\u001b[0;34m\u001b[0m\u001b[0m\n\u001b[1;32m    263\u001b[0m     \u001b[0mchange_of_basis\u001b[0m \u001b[0;34m=\u001b[0m \u001b[0mqtp\u001b[0m\u001b[0;34m.\u001b[0m\u001b[0mtensor\u001b[0m\u001b[0;34m(\u001b[0m\u001b[0;34m[\u001b[0m\u001b[0mσbasis\u001b[0m\u001b[0;34m]\u001b[0m\u001b[0;34m*\u001b[0m\u001b[0mNeff\u001b[0m\u001b[0;34m)\u001b[0m\u001b[0;34m\u001b[0m\u001b[0;34m\u001b[0m\u001b[0m\n",
      "\u001b[0;32m/opt/anaconda3/lib/python3.7/site-packages/qutip/qobj.py\u001b[0m in \u001b[0;36meigenstates\u001b[0;34m(self, sparse, sort, eigvals, tol, maxiter)\u001b[0m\n\u001b[1;32m   1666\u001b[0m         ekets = np.array([Qobj(vec, dims=new_dims) for vec in evecs],\n\u001b[1;32m   1667\u001b[0m                          dtype=object)\n\u001b[0;32m-> 1668\u001b[0;31m         \u001b[0mnorms\u001b[0m \u001b[0;34m=\u001b[0m \u001b[0mnp\u001b[0m\u001b[0;34m.\u001b[0m\u001b[0marray\u001b[0m\u001b[0;34m(\u001b[0m\u001b[0;34m[\u001b[0m\u001b[0mket\u001b[0m\u001b[0;34m.\u001b[0m\u001b[0mnorm\u001b[0m\u001b[0;34m(\u001b[0m\u001b[0;34m)\u001b[0m \u001b[0;32mfor\u001b[0m \u001b[0mket\u001b[0m \u001b[0;32min\u001b[0m \u001b[0mekets\u001b[0m\u001b[0;34m]\u001b[0m\u001b[0;34m)\u001b[0m\u001b[0;34m\u001b[0m\u001b[0;34m\u001b[0m\u001b[0m\n\u001b[0m\u001b[1;32m   1669\u001b[0m         \u001b[0;32mreturn\u001b[0m \u001b[0mevals\u001b[0m\u001b[0;34m,\u001b[0m \u001b[0mekets\u001b[0m \u001b[0;34m/\u001b[0m \u001b[0mnorms\u001b[0m\u001b[0;34m\u001b[0m\u001b[0;34m\u001b[0m\u001b[0m\n\u001b[1;32m   1670\u001b[0m \u001b[0;34m\u001b[0m\u001b[0m\n",
      "\u001b[0;32m/opt/anaconda3/lib/python3.7/site-packages/qutip/qobj.py\u001b[0m in \u001b[0;36m<listcomp>\u001b[0;34m(.0)\u001b[0m\n\u001b[1;32m   1666\u001b[0m         ekets = np.array([Qobj(vec, dims=new_dims) for vec in evecs],\n\u001b[1;32m   1667\u001b[0m                          dtype=object)\n\u001b[0;32m-> 1668\u001b[0;31m         \u001b[0mnorms\u001b[0m \u001b[0;34m=\u001b[0m \u001b[0mnp\u001b[0m\u001b[0;34m.\u001b[0m\u001b[0marray\u001b[0m\u001b[0;34m(\u001b[0m\u001b[0;34m[\u001b[0m\u001b[0mket\u001b[0m\u001b[0;34m.\u001b[0m\u001b[0mnorm\u001b[0m\u001b[0;34m(\u001b[0m\u001b[0;34m)\u001b[0m \u001b[0;32mfor\u001b[0m \u001b[0mket\u001b[0m \u001b[0;32min\u001b[0m \u001b[0mekets\u001b[0m\u001b[0;34m]\u001b[0m\u001b[0;34m)\u001b[0m\u001b[0;34m\u001b[0m\u001b[0;34m\u001b[0m\u001b[0m\n\u001b[0m\u001b[1;32m   1669\u001b[0m         \u001b[0;32mreturn\u001b[0m \u001b[0mevals\u001b[0m\u001b[0;34m,\u001b[0m \u001b[0mekets\u001b[0m \u001b[0;34m/\u001b[0m \u001b[0mnorms\u001b[0m\u001b[0;34m\u001b[0m\u001b[0;34m\u001b[0m\u001b[0m\n\u001b[1;32m   1670\u001b[0m \u001b[0;34m\u001b[0m\u001b[0m\n",
      "\u001b[0;31mAttributeError\u001b[0m: 'numpy.ndarray' object has no attribute 'norm'"
     ]
    }
   ],
   "source": [
    "fids = []\n",
    "for targets, m in itertools.product(itertools.combinations(range(N),2), range(N)):\n",
    "    ωd, Ω = calc_necessary_sideband_detuning_and_rabi_freq(devicespec, targets, m, modetype, τ, K=K)\n",
    "    Ωvals = Ω*Ωvals_from_fixed_neighbor_xtalk(N, targets, neighΩ, nneighΩ)\n",
    "    mslaserspec = MSLaserSpec(ωd, Ωvals, ϕB, ϕR)\n",
    "    msopspec = MSOpSpec(devicespec, mslaserspec, τ, targets=targets, m=m, modetype=modetype, K=K)\n",
    "    ρf = MS_Analytical_zeroinitalstate_tracemodes(msopspec, simmodes=[m],modetype=modetype, modetrunc=2)\n",
    "    for fidions in itertools.combinations(range(N),2):\n",
    "        ρred = ρf.ptrace(fidions)\n",
    "        parity_curve_amplitude = 2*abs(ρred[3,0])\n",
    "        pop00 = abs(ρred[0,0])\n",
    "        pop11 = abs(ρred[3,3])\n",
    "        measured_fid = (pop00 + pop11 + parity_curve_amplitude)/2\n",
    "        fidcalc = MSFidCalculation(opspec=msopspec, method='MS_Analytical_zeroinitalstate_tracemodes', fid=measured_fid, fidions=fidions)\n",
    "        fids.append(fidcalc)\n",
    "file = open('calculated_results/qscout_5ion_fidelities_withopticalxtalk_withoutmodextalk', \"w\")\n",
    "file.writelines([str(fidcalc)+'\\n' for fidcalc in fids])"
   ]
  },
  {
   "cell_type": "code",
   "execution_count": null,
   "id": "8eff660d",
   "metadata": {},
   "outputs": [],
   "source": [
    "file = open('calculated_results/qscout_5ion_fidelities_withopticalxtalk_withoutmodextalk', \"r\")\n",
    "fids = [MSFidCalculation.fromDict(ast.literal_eval(line)) for line in file.readlines()]\n",
    "fidarr = np.zeros((N,N,N))\n",
    "for fidcalc in fids:\n",
    "    if fidcalc.fidions == fidcalc.opspec.targets:\n",
    "        targets = fidcalc.opspec.targets\n",
    "        m = fidcalc.opspec.m\n",
    "        fidarr[targets[0],targets[1],m] = fidcalc.fid\n",
    "plotBestModes(N, fidarr, title=\"QSCOUT Estimates, 5 Ions, Optical Xtalk, No Mode Xtalk\")"
   ]
  },
  {
   "cell_type": "markdown",
   "id": "927b8eae",
   "metadata": {},
   "source": [
    "### Mode Crosstalk, No Optical Crosstalk"
   ]
  },
  {
   "cell_type": "code",
   "execution_count": null,
   "id": "880011ca",
   "metadata": {},
   "outputs": [],
   "source": [
    "fids = []\n",
    "for targets, m in itertools.product(itertools.combinations(range(N),2), range(N)):\n",
    "    ωd, Ω = calc_necessary_sideband_detuning_and_rabi_freq(devicespec, targets, m, modetype, τ, K=K)\n",
    "    Ωvals = Ω*Ωvals_from_fixed_neighbor_xtalk(N, targets, 0, 0)\n",
    "    mslaserspec = MSLaserSpec(ωd, Ωvals, ϕB, ϕR)\n",
    "    msopspec = MSOpSpec(devicespec, mslaserspec, τ, targets=targets, m=m, modetype=modetype, K=K)\n",
    "    ρf = MS_Analytical_zeroinitalstate_tracemodes(msopspec, simmodes=list(range(N)),modetype=modetype, modetrunc=2)\n",
    "    for fidions in itertools.combinations(range(N),2):\n",
    "        ρred = ρf.ptrace(fidions)\n",
    "        parity_curve_amplitude = 2*abs(ρred[3,0])\n",
    "        pop00 = abs(ρred[0,0])\n",
    "        pop11 = abs(ρred[3,3])\n",
    "        measured_fid = (pop00 + pop11 + parity_curve_amplitude)/2\n",
    "        fidcalc = MSFidCalculation(opspec=msopspec, method='MS_Analytical_zeroinitalstate_tracemodes', fid=measured_fid, fidions=fidions)\n",
    "        fids.append(fidcalc)\n",
    "file = open('calculated_results/qscout_5ion_fidelities_withoutopticalxtalk_withmodextalk', \"w\")\n",
    "file.writelines([str(fidcalc)+'\\n' for fidcalc in fids])"
   ]
  },
  {
   "cell_type": "code",
   "execution_count": null,
   "id": "f09e7a6e",
   "metadata": {},
   "outputs": [],
   "source": [
    "file = open('calculated_results/qscout_5ion_fidelities_withoutopticalxtalk_withmodextalk', \"r\")\n",
    "fids = [MSFidCalculation.fromDict(ast.literal_eval(line)) for line in file.readlines()]\n",
    "fidarr = np.zeros((N,N,N))\n",
    "for fidcalc in fids:\n",
    "    if fidcalc.fidions == fidcalc.opspec.targets:\n",
    "        targets = fidcalc.opspec.targets\n",
    "        m = fidcalc.opspec.m\n",
    "        fidarr[targets[0],targets[1],m] = fidcalc.fid\n",
    "plotBestModes(N, fidarr, title=\"QSCOUT Estimates, 5 Ions, Mode Xtalk, No Optical Xtalk\")"
   ]
  },
  {
   "cell_type": "markdown",
   "id": "cbd30a0c",
   "metadata": {},
   "source": [
    "## Side Test: Consider spectator contributions in laser rabi freq calculation"
   ]
  },
  {
   "cell_type": "code",
   "execution_count": null,
   "id": "4f7b0874",
   "metadata": {},
   "outputs": [],
   "source": [
    "# def calc_necessary_sideband_detuning_and_rabi_freq_allmodecontrib(devicespec, targets, m, modetype, τ, K=1):\n",
    "#     δ = 2*π*K/τ # Detuning is restricted by requirement to close phase-space loop\n",
    "#     νm = devicespec.modes(modetype)[m].freq\n",
    "#     ηki = lambda k, i : devicespec.LDparam(k, modetype, i)\n",
    "#     pairηeff = 0\n",
    "#     for k in range(N):\n",
    "#         pairηeff += ηki(k,targets[0])*ηki(k,targets[1])/(δ+νm-devicespec.modes(modetype)[k].freq)\n",
    "#     Ω = np.sqrt(δ/abs(4*K*pairηeff)) # Single rabi freq, meant for both target ions\n",
    "#     return νm+δ, Ω"
   ]
  },
  {
   "cell_type": "markdown",
   "id": "4a4f1d34",
   "metadata": {},
   "source": [
    "## Simulated Parity Curves"
   ]
  },
  {
   "cell_type": "markdown",
   "id": "9c02134b",
   "metadata": {},
   "source": [
    "### Example"
   ]
  },
  {
   "cell_type": "code",
   "execution_count": null,
   "id": "d7f74e6b",
   "metadata": {},
   "outputs": [],
   "source": [
    "targets = (1,3)\n",
    "for m in range(N):\n",
    "    ωd, Ω = calc_necessary_sideband_detuning_and_rabi_freq(devicespec, targets, m, modetype, τ, K=K)\n",
    "    Ωvals = Ω*Ωvals_from_fixed_neighbor_xtalk(N, targets, neighΩ, nneighΩ)\n",
    "    mslaserspec = MSLaserSpec(ωd, Ωvals, ϕB, ϕR)\n",
    "    msopspec = MSOpSpec(devicespec, mslaserspec, τ, targets=targets, m=m, modetype=modetype, K=K)\n",
    "    ρf = MS_Analytical_zeroinitalstate_tracemodes(msopspec, simmodes=[0,1,2,3,4],modetype=modetype, modetrunc=2)\n",
    "    neighbors = [i for i in range(N) if i in [targets[0]-1,targets[0]+1,targets[1]-1,targets[1]+1] and i not in targets]\n",
    "    plt.figure()\n",
    "    ρred = ρf.ptrace(targets)\n",
    "    paritycurve = parityCurve(ρred)\n",
    "    amplitude = abs(np.max(paritycurve.T[1])-np.min(paritycurve.T[1]))\n",
    "    plt.plot(*paritycurve.T, label=f\"->{targets}:{amplitude}\")\n",
    "    for t in targets:\n",
    "        for n in neighbors:\n",
    "            ρred = ρf.ptrace((t,n))\n",
    "            paritycurve = parityCurve(ρred)\n",
    "            amplitude = abs(np.max(paritycurve.T[1])-np.min(paritycurve.T[1]))\n",
    "            plt.plot(*paritycurve.T, label=f\"{(t,n)}:{amplitude:.4f}\")\n",
    "    plt.legend()\n",
    "    plt.title(f\"Mode {m}\")"
   ]
  },
  {
   "cell_type": "markdown",
   "id": "19434523",
   "metadata": {},
   "source": [
    "## Non-Square Pulses"
   ]
  },
  {
   "cell_type": "markdown",
   "id": "8f0f4a8a",
   "metadata": {},
   "source": [
    "### Functions "
   ]
  },
  {
   "cell_type": "code",
   "execution_count": null,
   "id": "f6af0387",
   "metadata": {},
   "outputs": [],
   "source": [
    "def MS_non_square_pulse(opspec, simmodes=None, modetype='radial', modetrunc=2):\n",
    "    '''\n",
    "    Calculate\n",
    "    \n",
    "    '''\n",
    "    devspec = opspec.devicespec\n",
    "    N = devspec.N\n",
    "    τ = opspec.duration\n",
    "    Ωvals = opspec.mslaserspec.Ωvals\n",
    "    Ωvals_temp = opspec.mslaserspec.Ωvals\n",
    "    ωd = opspec.mslaserspec.ωd\n",
    "    if opspec.modetype!=None: modetype = opspec.modetype\n",
    "    ϕB = opspec.mslaserspec.ϕB\n",
    "    ϕR = opspec.mslaserspec.ϕR\n",
    "    ϕs = (ϕB+ϕR)/2\n",
    "    ϕm = (ϕB-ϕR)/2\n",
    "    laserphase = exp(1j*ϕm)\n",
    "\n",
    "    print(opspec)\n",
    "    νk = devspec.modes(modetype)[0].freq\n",
    "    print(ωd)\n",
    "    print(νk)\n",
    "    print('--->',sum([Ωvals_temp[0](t)*exp(-1j*(ωd-νk)*t) for t in np.linspace(0,τ,1001)[:-1]])*τ/1000)\n",
    "    \n",
    "    if simmodes == None:\n",
    "        simmodes = list(range(N))\n",
    "    \n",
    "    ρqbit_mat = np.zeros((2**N,2**N), dtype=np.cdouble)\n",
    "    \n",
    "    naturalbasis = list(itertools.product(*[[-1,+1]]*N))\n",
    "    innerprod = 0\n",
    "    for λ1,λ2 in itertools.product(naturalbasis, naturalbasis):\n",
    "        # λ is a N-element list, representing a qubit state in the X basis (-1=|0>, +1=|1>).\n",
    "        # We assume all λ values have equal initial coefficients\n",
    "        # which corresponds to all |0> initial state in Z basis.\n",
    "        λ1λ2coeff = 0\n",
    "        for γ in list(itertools.product(*[list(range(modetrunc))]*len(simmodes))):\n",
    "            # γ is a list of N integers, representing a mode state in the number basis\n",
    "            # Used because we're tracing over all mode states\n",
    "            displacementproduct = 1/2**(N) # Since each λ has equal coefficient to start\n",
    "            for k in simmodes:\n",
    "                νk = devspec.modes(modetype)[k].freq\n",
    "                αλ1k = αλ2k = 0\n",
    "                for i in range(N):\n",
    "                    time_dependence = sum([Ωvals_temp[i](t)*exp(-1j*(ωd-νk)*t) for t in np.linspace(0,τ,1001)[:-1]])*τ/1000\n",
    "                    ηki = devspec.LDparam(k, modetype, i)\n",
    "                    αλ1k += ηki*λ1[i]*time_dependence*laserphase/2\n",
    "                    αλ2k += ηki*λ2[i]*time_dependence*laserphase/2\n",
    "                    #print(abs(coherent_coeff(αλ1k,modetrunc+1)))\n",
    "                # if abs(αλ1k)>1 : print('++αλ1k', αλ1k, 'λ1', λ1, 'γ', γ, 'k', k)\n",
    "                # if abs(αλ1k)<1 : print('--αλ1k', αλ1k, 'λ1', λ1, 'γ', γ, 'k', k)\n",
    "                displacementproduct *= coherent_coeff(αλ1k, γ[simmodes.index(k)])\n",
    "                displacementproduct *= coherent_coeff(αλ2k, γ[simmodes.index(k)]).conjugate()\n",
    "            λ1λ2coeff += displacementproduct\n",
    "        if λ1 == λ2: print(λ1λ2coeff)\n",
    "        phaseangles = [0,0] # [λ1, λ2]\n",
    "        for k in simmodes:\n",
    "            νk = devspec.modes(modetype)[k].freq\n",
    "            for j1, j2 in itertools.product(range(N),range(N)):\n",
    "                ηkj1 = devspec.LDparam(k, modetype, j1)\n",
    "                ηkj2 = devspec.LDparam(k, modetype, j2)\n",
    "                time_dependence = sum([Ωvals[j1](time1)*\\\n",
    "                                       sum([Ωvals[j2](time2)*sin((ωd-νk)*(time1-time2))\n",
    "                                            for time2 in np.linspace(0,time1,501)[:-1]])*time1\n",
    "                                       for time1 in np.linspace(0,τ,501)[:-1]]) * τ/250000\n",
    "                for a, λ in enumerate((λ1, λ2)):\n",
    "                    #print(time_dependence*ηkj1*ηkj2*λ[j1]*λ[j2], flush=True)\n",
    "                    phaseangles[a] += time_dependence*ηkj1*ηkj2*λ[j1]*λ[j2]\n",
    "        λ1λ2coeff *= exp(-1j/4*phaseangles[0])*exp(-1j/4*phaseangles[1]).conjugate() # Conjugate for λ2\n",
    "        λ1_index = int(\"\".join(['0' if λ1[i]==-1 else '1' for i in range(N)]),2)\n",
    "        λ2_index = int(\"\".join(['0' if λ2[i]==-1 else '1' for i in range(N)]),2)\n",
    "        ρqbit_mat[λ1_index, λ2_index] = λ1λ2coeff\n",
    "        \n",
    "    ρqbit = qtp.Qobj(ρqbit_mat, dims=[[2]*N,[2]*N])\n",
    "    print(ρqbit.tr(),flush=True)\n",
    "    \n",
    "    σeigstates = σ(π/2+ϕs).eigenstates()\n",
    "    σbasis = qtp.Qobj(np.c_[σeigstates[1][0].data.A, σeigstates[1][1].data.A],dims=[[2],[2]])\n",
    "    change_of_basis = qtp.tensor([σbasis]*N)\n",
    "    ρqbit_zbasis = change_of_basis*ρqbit*change_of_basis.dag()\n",
    "    \n",
    "    return ρqbit_zbasis"
   ]
  },
  {
   "cell_type": "markdown",
   "id": "82d39bfa",
   "metadata": {},
   "source": [
    "### Running"
   ]
  },
  {
   "cell_type": "code",
   "execution_count": null,
   "id": "18153ffd",
   "metadata": {},
   "outputs": [],
   "source": [
    "N = 2\n",
    "modetype=\"radial\"\n",
    "K = 1\n",
    "τ = 200e-6 # 200μs\n",
    "\n",
    "trapspec = TrapSpec(νz, νr)\n",
    "devicespec = TIDeviceSpec(N, trapspec, qbit_splitting, raman_freq, M)\n",
    "\n",
    "m=0\n",
    "targets=(0,1)\n",
    "\n",
    "z=τ/10\n",
    "G = lambda t : exp(-(t-τ/2)**2/(2*z**2))\n",
    "\n",
    "\n",
    "δ = -30000*2*π\n",
    "ωd = devicespec.modes(modetype)[m].freq+δ\n",
    "\n",
    "td = sum([G(time1)*sum([G(time2)*sin((δ)*(time1-time2))\n",
    "                                            for time2 in np.linspace(0,time1,501)[:-1]])*time1\n",
    "                                       for time1 in np.linspace(0,τ,501)[:-1]]) * τ/250000\n",
    "\n",
    "td2 = sum([G(time1)*sum([G(time2)*sin((ωd-devicespec.modes(modetype)[1].freq)*(time1-time2))\n",
    "                                            for time2 in np.linspace(0,time1,501)[:-1]])*time1\n",
    "                                       for time1 in np.linspace(0,τ,501)[:-1]]) * τ/250000\n",
    "print('td2 frac', td2/td, (ωd-devicespec.modes(modetype)[1].freq))\n",
    "\n",
    "#ωd, Ω = calc_necessary_sideband_detuning_and_rabi_freq(devicespec, targets, m, modetype, τ, K=K)\n",
    "Ω = sqrt(abs((π/2)/(td*devicespec.LDparam(0,'radial',0)*devicespec.LDparam(0,'radial',1))))\n",
    "\n",
    "Ωvals = Ω*Ωvals_from_fixed_neighbor_xtalk(N, targets, 0, 0)\n",
    "\n",
    "Ωvals_timedep = [lambda t : Ωval*G(t) for Ωval in Ωvals]\n",
    "#Ωvals_timedep = [lambda t : Ωval for Ωval in Ωvals]\n",
    "\n",
    "mslaserspec = MSLaserSpec(ωd, Ωvals_timedep, ϕB, ϕR)\n",
    "msopspec = MSOpSpec(devicespec, mslaserspec, τ, targets=targets, m=0, modetype=modetype, K=K)\n",
    "\n",
    "ρf = MS_non_square_pulse(msopspec, simmodes=[],modetype=modetype, modetrunc=2)\n",
    "\n",
    "fidions = targets\n",
    "ρred = ρf.ptrace(fidions)\n",
    "parity_curve_amplitude = 2*abs(ρred[3,0])\n",
    "pop00 = abs(ρred[0,0])\n",
    "pop11 = abs(ρred[3,3])\n",
    "measured_fid = (pop00 + pop11 + parity_curve_amplitude)/2\n",
    "print(measured_fid)"
   ]
  },
  {
   "cell_type": "code",
   "execution_count": null,
   "id": "dcc6bc59",
   "metadata": {},
   "outputs": [],
   "source": [
    "(devicespec.modes('radial')[0].freq-devicespec.modes('radial')[1].freq)/(2*π)"
   ]
  },
  {
   "cell_type": "code",
   "execution_count": null,
   "id": "ebc158f3",
   "metadata": {},
   "outputs": [],
   "source": [
    "Ω"
   ]
  },
  {
   "cell_type": "code",
   "execution_count": null,
   "id": "01bcc592",
   "metadata": {},
   "outputs": [],
   "source": [
    "ωd - devicespec.modes('radial')[0].freq"
   ]
  },
  {
   "cell_type": "code",
   "execution_count": null,
   "id": "aa7df4a2",
   "metadata": {},
   "outputs": [],
   "source": [
    "ρred"
   ]
  },
  {
   "cell_type": "code",
   "execution_count": null,
   "id": "15a72b15",
   "metadata": {},
   "outputs": [],
   "source": [
    "N = 2\n",
    "modetype=\"radial\"\n",
    "K = 1\n",
    "τ = 200e-6 # 200μs\n",
    "\n",
    "trapspec = TrapSpec(νz, νr)\n",
    "devicespec = TIDeviceSpec(N, trapspec, qbit_splitting, raman_freq, M)\n",
    "\n",
    "m=0\n",
    "targets=(0,1)\n",
    "\n",
    "z=τ/10\n",
    "G = lambda t : exp(-(t-τ/2)**2/(2*z**2))\n",
    "\n",
    "\n",
    "δ = 40000*2*π\n",
    "ωd = devicespec.modes(modetype)[m].freq+δ\n",
    "\n",
    "td = sum([G(time1)*sum([G(time2)*sin((δ)*(time1-time2))\n",
    "                                            for time2 in np.linspace(0,time1,501)[:-1]])*time1\n",
    "                                       for time1 in np.linspace(0,τ,501)[:-1]]) * τ/250000\n",
    "\n",
    "ωd, Ω = calc_necessary_sideband_detuning_and_rabi_freq(devicespec, targets, m, modetype, τ, K=K)\n",
    "#Ω = sqrt(abs((π/2)/(td*devicespec.LDparam(0,'radial',0)*devicespec.LDparam(0,'radial',1))))\n",
    "\n",
    "Ωvals = Ω*Ωvals_from_fixed_neighbor_xtalk(N, targets, 0, 0)\n",
    "\n",
    "#Ωvals_timedep = [lambda t : Ωval*G(t) for Ωval in Ωvals]\n",
    "Ωvals_timedep = [lambda t : Ωval for Ωval in Ωvals]\n",
    "\n",
    "mslaserspec = MSLaserSpec(ωd, Ωvals, ϕB, ϕR)\n",
    "msopspec = MSOpSpec(devicespec, mslaserspec, τ, targets=targets, m=0, modetype=modetype, K=K)\n",
    "\n",
    "ρf = MS_Analytical_zeroinitalstate_tracemodes(msopspec, simmodes=[0,1],modetype=modetype, modetrunc=2)\n",
    "\n",
    "fidions = targets\n",
    "ρred = ρf.ptrace(fidions)\n",
    "parity_curve_amplitude = 2*abs(ρred[3,0])\n",
    "pop00 = abs(ρred[0,0])\n",
    "pop11 = abs(ρred[3,3])\n",
    "measured_fid = (pop00 + pop11 + parity_curve_amplitude)/2\n",
    "print(measured_fid)"
   ]
  },
  {
   "cell_type": "code",
   "execution_count": null,
   "id": "440b9442",
   "metadata": {},
   "outputs": [],
   "source": [
    "z=τ/10\n",
    "G = lambda t : exp(-(t-τ/2)**2/(2*z**2))\n",
    "sum([G(time1)*sum([G(time2)*sin((1000*2*π)*(time1-time2))\n",
    "                                            for time2 in np.linspace(0,time1,1001)[:-1]])*time1\n",
    "                                       for time1 in np.linspace(0,τ,1001)[:-1]]) * τ/1000000"
   ]
  },
  {
   "cell_type": "code",
   "execution_count": null,
   "id": "e774beef",
   "metadata": {},
   "outputs": [],
   "source": [
    "νz/(2*π)"
   ]
  },
  {
   "cell_type": "code",
   "execution_count": null,
   "id": "d00772d0",
   "metadata": {},
   "outputs": [],
   "source": [
    "νr/(2*π)"
   ]
  },
  {
   "cell_type": "code",
   "execution_count": null,
   "id": "f35503f7",
   "metadata": {},
   "outputs": [],
   "source": [
    "devicespec5 = TIDeviceSpec(5, trapspec, qbit_splitting, raman_freq, M)"
   ]
  },
  {
   "cell_type": "code",
   "execution_count": null,
   "id": "e25f0a94",
   "metadata": {},
   "outputs": [],
   "source": [
    "(devicespec5.modes('radial')[4].freq-devicespec5.modes('radial')[3].freq)/(2*π)"
   ]
  },
  {
   "cell_type": "code",
   "execution_count": null,
   "id": "a1400ade",
   "metadata": {},
   "outputs": [],
   "source": [
    "1/τ"
   ]
  },
  {
   "cell_type": "code",
   "execution_count": null,
   "id": "d813b701",
   "metadata": {},
   "outputs": [],
   "source": [
    "5/65"
   ]
  },
  {
   "cell_type": "code",
   "execution_count": null,
   "id": "fc872568",
   "metadata": {},
   "outputs": [],
   "source": [
    "for numions in range(5,25):\n",
    "    modes = ict.calcRadialModes(numions, νratio=6)\n",
    "    freqs = np.array([(m, mode[0]) for m, mode in enumerate(modes)])\n",
    "    plt.scatter([numions]*len(freqs), freqs[:,1], label=numions)\n",
    "plt.legend()"
   ]
  },
  {
   "cell_type": "code",
   "execution_count": null,
   "id": "5603c062",
   "metadata": {},
   "outputs": [],
   "source": [
    "freqs[0,:]"
   ]
  },
  {
   "cell_type": "code",
   "execution_count": null,
   "id": "6b923d9c",
   "metadata": {},
   "outputs": [],
   "source": [
    "N=5\n",
    "numgatessum = 0\n",
    "for m in range(N):\n",
    "    for t1, t2 in itertools.combinations(range(N),2):\n",
    "        if N%2==1 and m%2==1 and (t1==N//2 or t2==N//2): continue\n",
    "        neighbors = [i for i in range(N) if i in (t1-1,t1+1,t2-1,t2+1) and i not in (t1,t2)]\n",
    "        numgates = 1+len(neighbors)*2\n",
    "        print(t1, t2, numgates)\n",
    "        numgatessum+=numgates\n",
    "numgatessum"
   ]
  },
  {
   "cell_type": "code",
   "execution_count": null,
   "id": "ab694bce",
   "metadata": {},
   "outputs": [],
   "source": []
  }
 ],
 "metadata": {
  "kernelspec": {
   "display_name": "Python 3 (ipykernel)",
   "language": "python",
   "name": "python3"
  },
  "language_info": {
   "codemirror_mode": {
    "name": "ipython",
    "version": 3
   },
   "file_extension": ".py",
   "mimetype": "text/x-python",
   "name": "python",
   "nbconvert_exporter": "python",
   "pygments_lexer": "ipython3",
   "version": "3.10.14"
  },
  "toc": {
   "base_numbering": 1,
   "nav_menu": {},
   "number_sections": true,
   "sideBar": true,
   "skip_h1_title": false,
   "title_cell": "Table of Contents",
   "title_sidebar": "Contents",
   "toc_cell": false,
   "toc_position": {},
   "toc_section_display": true,
   "toc_window_display": false
  },
  "varInspector": {
   "cols": {
    "lenName": 16,
    "lenType": 16,
    "lenVar": 40
   },
   "kernels_config": {
    "python": {
     "delete_cmd_postfix": "",
     "delete_cmd_prefix": "del ",
     "library": "var_list.py",
     "varRefreshCmd": "print(var_dic_list())"
    },
    "r": {
     "delete_cmd_postfix": ") ",
     "delete_cmd_prefix": "rm(",
     "library": "var_list.r",
     "varRefreshCmd": "cat(var_dic_list()) "
    }
   },
   "types_to_exclude": [
    "module",
    "function",
    "builtin_function_or_method",
    "instance",
    "_Feature"
   ],
   "window_display": false
  }
 },
 "nbformat": 4,
 "nbformat_minor": 5
}
