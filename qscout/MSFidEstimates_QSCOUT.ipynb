{
 "cells": [
  {
   "cell_type": "markdown",
   "id": "39899938-3f1e-430b-b045-755a92ded7aa",
   "metadata": {},
   "source": [
    "# MS Fidelity Estimations for QSCOUT"
   ]
  },
  {
   "cell_type": "code",
   "execution_count": 1,
   "id": "ae8e14d5-fe07-4c18-a94a-8ef05dd2a8b2",
   "metadata": {},
   "outputs": [],
   "source": [
    "import scipy.constants\n",
    "from scipy.constants import physical_constants\n",
    "import qutip as qtp\n",
    "import numpy as np\n",
    "from numpy import exp, sqrt, sin\n",
    "from math import factorial\n",
    "import itertools\n",
    "from operator import mul, add\n",
    "import matplotlib.pyplot as plt\n",
    "import seaborn as sb\n",
    "import ast"
   ]
  },
  {
   "cell_type": "code",
   "execution_count": 2,
   "id": "9cfbb66c-9a9d-462f-bc01-cf7488070943",
   "metadata": {},
   "outputs": [],
   "source": [
    "import importlib\n",
    "import sys, os\n",
    "from pathlib import Path\n",
    "sys.path.append('../tools/')\n",
    "import IonChainTools as ict\n",
    "import MSFidelityEstimation as msfe\n",
    "importlib.reload(msfe)\n",
    "from MSFidelityEstimation import *"
   ]
  },
  {
   "cell_type": "code",
   "execution_count": null,
   "id": "24ea439a-5d49-43ac-8f9a-01c96c47b2bb",
   "metadata": {},
   "outputs": [],
   "source": []
  },
  {
   "cell_type": "code",
   "execution_count": 3,
   "id": "5a1b8fa3-9ef1-4ca1-875e-5ca1ad37eeee",
   "metadata": {},
   "outputs": [],
   "source": [
    "π = np.pi"
   ]
  },
  {
   "cell_type": "markdown",
   "id": "33675caa-2df8-425f-96c6-39c1c6147d7a",
   "metadata": {},
   "source": [
    "## QSCOUT parameters"
   ]
  },
  {
   "cell_type": "code",
   "execution_count": 4,
   "id": "89a7e756-c6bc-48eb-9357-fc5f6923be50",
   "metadata": {},
   "outputs": [],
   "source": [
    "# Ytterbium171\n",
    "M=171*physical_constants['atomic mass constant'][0]\n",
    "\n",
    "# Laser wavelength\n",
    "# carrier_wavelen = # 355*1e-9 # 355nm, from \"frequency robust ...\" paper\n",
    "# carrier_wavenum = 2*π/carrier_wavelen # Laser wavenumber (k)\n",
    "# carrier_freq = scipy.constants.c*carrier_wavenum\n",
    "qbit_splitting = 2*π*12.643*1e6 # qubit splitting, from \"Engineering The ...\" paper\n",
    "raman_wavelen = 355*1e-9 # 355nm, from \"frequency robust ...\" paper\n",
    "raman_freq = 2*π*scipy.constants.c/raman_wavelen\n",
    "kvec = qbit_splitting/scipy.constants.c*np.sqrt(2)\n",
    "\n",
    "# Rabi rate\n",
    "Ωpeak = 2*π*190*1e3 # 190MHz, quoted in \"Frequency-robust MS ...\" paper"
   ]
  },
  {
   "cell_type": "code",
   "execution_count": 5,
   "id": "0fc9200b-f9bd-426f-a261-8aed3bc0b140",
   "metadata": {},
   "outputs": [],
   "source": [
    "# Trap specifications\n",
    "# Axial COM of 0.52MHz and highest radial mode of 2.296MHz are quoted in \n",
    "# \"Frequency-robust Mølmer-Sørensen gates via balanced contributions of multiple motional modes\"\n",
    "νz = 2*π*0.52*1e6 # 0.52MHz\n",
    "νr = 2*π*2.296*1e6 # 2.296MHz"
   ]
  },
  {
   "cell_type": "code",
   "execution_count": 6,
   "id": "7bdc8311-61bb-47e8-bfa1-b330b96008fb",
   "metadata": {},
   "outputs": [],
   "source": [
    "# Optical Crosstalk, from \"ENGINEERING THE QUANTUM SCIENTIFIC COMPUTING OPEN USER TESTBED\"\n",
    "# These values are scaled such that Ω=1 for the target ion\n",
    "neighΩ = 0.0236 # Rabi frequency on neighbor of target ion\n",
    "nneighΩ = 0.006 # Rabi frequency on next neighbor of target ion"
   ]
  },
  {
   "cell_type": "code",
   "execution_count": 7,
   "id": "1003896a-b247-4224-9e07-e95bedbf4fd3",
   "metadata": {},
   "outputs": [],
   "source": [
    "# Blue and Red beam phases\n",
    "# Below should implement X gate\n",
    "ϕB = π/2\n",
    "ϕR = π/2"
   ]
  },
  {
   "cell_type": "code",
   "execution_count": 8,
   "id": "9298ac77-c437-46a2-8748-e3bf226fa41f",
   "metadata": {},
   "outputs": [],
   "source": [
    "N = 5\n",
    "modetype=\"radial\"\n",
    "K = 1\n",
    "τ = 200e-6 # 200μs"
   ]
  },
  {
   "cell_type": "markdown",
   "id": "39cfeddc-c3f9-4902-9ecb-6aa7c065ee2d",
   "metadata": {},
   "source": [
    "## Fidelity Calculations"
   ]
  },
  {
   "cell_type": "code",
   "execution_count": 9,
   "id": "0c67e977-58a1-4766-beac-397e3d415a4c",
   "metadata": {},
   "outputs": [],
   "source": [
    "N = 5\n",
    "modetype=\"radial\"\n",
    "K = 1\n",
    "τ = 200e-6 # 200μs\n",
    "\n",
    "trapspec = TrapSpec(νz, νr)\n",
    "devicespec = TIDeviceSpec(N, trapspec, qbit_splitting, raman_freq, M)"
   ]
  },
  {
   "cell_type": "markdown",
   "id": "71bcece0-2da0-4ac6-8901-c6b1fda8a905",
   "metadata": {
    "jp-MarkdownHeadingCollapsed": true
   },
   "source": [
    "### Plot Generation Functions"
   ]
  },
  {
   "cell_type": "code",
   "execution_count": 10,
   "id": "2dad3206-adb6-4973-bde6-af10e764681a",
   "metadata": {},
   "outputs": [],
   "source": [
    "def plotBestModes(N, fidarr, title=None):\n",
    "    fig, axes = plt.subplots(2,3, figsize=(18,11), sharex=True, sharey=True)\n",
    "    cbar_ax = fig.add_axes([.93, .3, .02, 0.5])\n",
    "    cmap = sb.color_palette(\"rocket\", as_cmap=True)\n",
    "    for m in range(N):\n",
    "        ax = axes.flat[m]\n",
    "        annot = [[f\"{m if m!=N-1 else 'COM'}\" if (i==N//2 and j==N//2) else \"\" for i in range(N)] for j in range(N)]\n",
    "        sb.heatmap(fidarr[:,:,m], ax=ax, vmin=0.94, vmax=1.0, cbar=(m==0),cbar_ax=None if m==1 else cbar_ax,\n",
    "                   annot=annot, annot_kws={'c':'w', 'size':20}, fmt=\"\", cmap=cmap,\n",
    "                  xticklabels=[f\"{i}\" for i in range(N)])\n",
    "        ax.set_yticklabels(ax.get_yticks(), size = 20)\n",
    "        ax.set_xticklabels(ax.get_xticks(), size = 20)\n",
    "    annot = [[\"\" for i in range(N)] for j in range(N)]\n",
    "    annot[N//2][N//2] = \"Best\"\n",
    "    bestmodes = np.argmax(fidarr,2)\n",
    "    bestfids = np.max(fidarr,2)\n",
    "    for i in range(N):\n",
    "        for j in range(i+1, N):\n",
    "            annot[i][j] = f\"{bestmodes[i,j]}\"\n",
    "            annot[j][i] = annot[i][j]\n",
    "    ax_best = axes.flat[-1]\n",
    "    sb.heatmap(bestfids, ax=ax_best, vmin=0.95, vmax=1.0, cbar=False,cbar_ax=cbar_ax,\n",
    "              annot=annot, annot_kws={'c':'k', 'size':20}, fmt=\"\", cmap=cmap)\n",
    "    ax_best.set_xticklabels([f\"{i}\" for i in range(N)], size = 20)\n",
    "    cbar_ax.figure.axes[-1].tick_params(labelsize=20)\n",
    "    \n",
    "    # bbox = ax_best.get_window_extent()\n",
    "    # fig.patches.extend([plt.Rectangle((bbox.xmin, bbox.ymin),\n",
    "    #                                   bbox.xmax-bbox.xmin, bbox.ymax-bbox.ymin,\n",
    "    #                                   fill=True, color='g', alpha=0.7, zorder=-1, figure=fig)])\n",
    "    \n",
    "    fig.patches.extend([plt.Rectangle((985, 45),\n",
    "                                      500, 460,\n",
    "                                      fill=True, color='g', alpha=0.7, zorder=-1,\n",
    "                                      transform=None, figure=fig)])\n",
    "    \n",
    "    ax_best.text(2.1, 2.6, \"Best\", c=\"w\", size='20')\n",
    "    if title!=None: fig.suptitle(title, size='25')"
   ]
  },
  {
   "cell_type": "markdown",
   "id": "5cc3f6af-4bb5-41a5-9868-fd9452471940",
   "metadata": {},
   "source": [
    "### Optical and Mode Crosstalk"
   ]
  },
  {
   "cell_type": "code",
   "execution_count": 12,
   "id": "a52b35ba-60c6-4e91-96be-8dc8a096d3e5",
   "metadata": {},
   "outputs": [
    {
     "ename": "ValueError",
     "evalue": "4 is not in list",
     "output_type": "error",
     "traceback": [
      "\u001b[0;31m---------------------------------------------------------------------------\u001b[0m",
      "\u001b[0;31mValueError\u001b[0m                                Traceback (most recent call last)",
      "Cell \u001b[0;32mIn[12], line 10\u001b[0m\n\u001b[1;32m      8\u001b[0m \u001b[38;5;28;01mfor\u001b[39;00m fidions \u001b[38;5;129;01min\u001b[39;00m itertools\u001b[38;5;241m.\u001b[39mcombinations(\u001b[38;5;28mrange\u001b[39m(N),\u001b[38;5;241m2\u001b[39m):\n\u001b[1;32m      9\u001b[0m     illuminated \u001b[38;5;241m=\u001b[39m [i \u001b[38;5;28;01mfor\u001b[39;00m i \u001b[38;5;129;01min\u001b[39;00m \u001b[38;5;28mrange\u001b[39m(N) \u001b[38;5;28;01mif\u001b[39;00m Ωvals[i]\u001b[38;5;241m!=\u001b[39m\u001b[38;5;241m0\u001b[39m]\n\u001b[0;32m---> 10\u001b[0m     traceindices \u001b[38;5;241m=\u001b[39m \u001b[43m[\u001b[49m\u001b[43milluminated\u001b[49m\u001b[38;5;241;43m.\u001b[39;49m\u001b[43mindex\u001b[49m\u001b[43m(\u001b[49m\u001b[43mi\u001b[49m\u001b[43m)\u001b[49m\u001b[43m \u001b[49m\u001b[38;5;28;43;01mfor\u001b[39;49;00m\u001b[43m \u001b[49m\u001b[43mi\u001b[49m\u001b[43m \u001b[49m\u001b[38;5;129;43;01min\u001b[39;49;00m\u001b[43m \u001b[49m\u001b[43mfidions\u001b[49m\u001b[43m]\u001b[49m\n\u001b[1;32m     11\u001b[0m     ρred \u001b[38;5;241m=\u001b[39m ρf\u001b[38;5;241m.\u001b[39mptrace(traceindices)\n\u001b[1;32m     12\u001b[0m     parity_curve_amplitude \u001b[38;5;241m=\u001b[39m \u001b[38;5;241m2\u001b[39m\u001b[38;5;241m*\u001b[39m\u001b[38;5;28mabs\u001b[39m(ρred[\u001b[38;5;241m3\u001b[39m,\u001b[38;5;241m0\u001b[39m])\n",
      "Cell \u001b[0;32mIn[12], line 10\u001b[0m, in \u001b[0;36m<listcomp>\u001b[0;34m(.0)\u001b[0m\n\u001b[1;32m      8\u001b[0m \u001b[38;5;28;01mfor\u001b[39;00m fidions \u001b[38;5;129;01min\u001b[39;00m itertools\u001b[38;5;241m.\u001b[39mcombinations(\u001b[38;5;28mrange\u001b[39m(N),\u001b[38;5;241m2\u001b[39m):\n\u001b[1;32m      9\u001b[0m     illuminated \u001b[38;5;241m=\u001b[39m [i \u001b[38;5;28;01mfor\u001b[39;00m i \u001b[38;5;129;01min\u001b[39;00m \u001b[38;5;28mrange\u001b[39m(N) \u001b[38;5;28;01mif\u001b[39;00m Ωvals[i]\u001b[38;5;241m!=\u001b[39m\u001b[38;5;241m0\u001b[39m]\n\u001b[0;32m---> 10\u001b[0m     traceindices \u001b[38;5;241m=\u001b[39m [illuminated\u001b[38;5;241m.\u001b[39mindex(i) \u001b[38;5;28;01mfor\u001b[39;00m i \u001b[38;5;129;01min\u001b[39;00m fidions]\n\u001b[1;32m     11\u001b[0m     ρred \u001b[38;5;241m=\u001b[39m ρf\u001b[38;5;241m.\u001b[39mptrace(traceindices)\n\u001b[1;32m     12\u001b[0m     parity_curve_amplitude \u001b[38;5;241m=\u001b[39m \u001b[38;5;241m2\u001b[39m\u001b[38;5;241m*\u001b[39m\u001b[38;5;28mabs\u001b[39m(ρred[\u001b[38;5;241m3\u001b[39m,\u001b[38;5;241m0\u001b[39m])\n",
      "\u001b[0;31mValueError\u001b[0m: 4 is not in list"
     ]
    }
   ],
   "source": [
    "fids = []\n",
    "for targets, m in itertools.product(itertools.combinations(range(N),2), range(N)):\n",
    "    ωd, Ω = calc_necessary_sideband_detuning_and_rabi_freq(devicespec, targets, m, modetype, τ, K=K)\n",
    "    Ωvals = Ω*Ωvals_from_fixed_neighbor_xtalk(N, targets, neighΩ, nneighΩ)\n",
    "    mslaserspec = MSLaserSpec(ωd, Ωvals, ϕB, ϕR)\n",
    "    msopspec = MSOpSpec(devicespec, mslaserspec, τ, targets=targets, m=m, modetype=modetype, K=K)\n",
    "    ρf = MS_Analytical_zeroinitalstate_tracemodes(msopspec, simmodes=list(range(N)),modetype=modetype, modetrunc=2)\n",
    "    for fidions in itertools.combinations(range(N),2):\n",
    "        illuminated = [i for i in range(N) if Ωvals[i]!=0]\n",
    "        traceindices = [illuminated.index(i) for i in fidions]\n",
    "        ρred = ρf.ptrace(traceindices)\n",
    "        parity_curve_amplitude = 2*abs(ρred[3,0])\n",
    "        pop00 = abs(ρred[0,0])\n",
    "        pop11 = abs(ρred[3,3])\n",
    "        measured_fid = (pop00 + pop11 + parity_curve_amplitude)/2\n",
    "        fidcalc = MSFidCalculation(opspec=msopspec, method='MS_Analytical_zeroinitalstate_tracemodes', fid=measured_fid, fidions=fidions)\n",
    "        fids.append(fidcalc)\n",
    "file = open('calculated_results/qscout_5ion_fidelities_withopticalxtalk_withmodextalk', \"w\")\n",
    "file.writelines([str(fidcalc)+'\\n' for fidcalc in fids])"
   ]
  },
  {
   "cell_type": "code",
   "execution_count": null,
   "id": "c1c1c7ce-6f48-486f-bc09-bbe34ecce0bc",
   "metadata": {},
   "outputs": [],
   "source": [
    "file = open('calculated_results/qscout_5ion_fidelities_withopticalxtalk_withmodextalk', \"r\")\n",
    "fids = [MSFidCalculation.fromDict(ast.literal_eval(line)) for line in file.readlines()]\n",
    "fidarr = np.zeros((N,N,N))\n",
    "for fidcalc in fids:\n",
    "    if fidcalc.fidions == fidcalc.opspec.targets:\n",
    "        targets = fidcalc.opspec.targets\n",
    "        m = fidcalc.opspec.m\n",
    "        fidarr[targets[0],targets[1],m] = fidcalc.fid\n",
    "plotBestModes(N, fidarr, title=\"QSCOUT Estimates, 5 Ions, Optical and Mode Xtalk\")"
   ]
  },
  {
   "cell_type": "markdown",
   "id": "94d28956-3e1b-49a4-8c99-b6f140e3af11",
   "metadata": {},
   "source": [
    "### Optical Crosstalk, No Mode Crosstalk"
   ]
  },
  {
   "cell_type": "code",
   "execution_count": null,
   "id": "76cd0700-e9a2-4700-bc95-cdc4c03ff140",
   "metadata": {},
   "outputs": [],
   "source": [
    "fids = []\n",
    "for targets, m in itertools.product(itertools.combinations(range(N),2), range(N)):\n",
    "    ωd, Ω = calc_necessary_sideband_detuning_and_rabi_freq(devicespec, targets, m, modetype, τ, K=K)\n",
    "    Ωvals = Ω*Ωvals_from_fixed_neighbor_xtalk(N, targets, neighΩ, nneighΩ)\n",
    "    mslaserspec = MSLaserSpec(ωd, Ωvals, ϕB, ϕR)\n",
    "    msopspec = MSOpSpec(devicespec, mslaserspec, τ, targets=targets, m=m, modetype=modetype, K=K)\n",
    "    ρf = MS_Analytical_zeroinitalstate_tracemodes(msopspec, simmodes=[m],modetype=modetype, modetrunc=2)\n",
    "    for fidions in itertools.combinations(range(N),2):\n",
    "        ρred = ρf.ptrace(fidions)\n",
    "        parity_curve_amplitude = 2*abs(ρred[3,0])\n",
    "        pop00 = abs(ρred[0,0])\n",
    "        pop11 = abs(ρred[3,3])\n",
    "        measured_fid = (pop00 + pop11 + parity_curve_amplitude)/2\n",
    "        fidcalc = MSFidCalculation(opspec=msopspec, method='MS_Analytical_zeroinitalstate_tracemodes', fid=measured_fid, fidions=fidions)\n",
    "        fids.append(fidcalc)\n",
    "file = open('calculated_results/qscout_5ion_fidelities_withopticalxtalk_withoutmodextalk', \"w\")\n",
    "file.writelines([str(fidcalc)+'\\n' for fidcalc in fids])"
   ]
  },
  {
   "cell_type": "code",
   "execution_count": null,
   "id": "2ad657d1-0ba7-4818-ae4d-1b2c6a4ddb82",
   "metadata": {},
   "outputs": [],
   "source": [
    "file = open('calculated_results/qscout_5ion_fidelities_withopticalxtalk_withoutmodextalk', \"r\")\n",
    "fids = [MSFidCalculation.fromDict(ast.literal_eval(line)) for line in file.readlines()]\n",
    "fidarr = np.zeros((N,N,N))\n",
    "for fidcalc in fids:\n",
    "    if fidcalc.fidions == fidcalc.opspec.targets:\n",
    "        targets = fidcalc.opspec.targets\n",
    "        m = fidcalc.opspec.m\n",
    "        fidarr[targets[0],targets[1],m] = fidcalc.fid\n",
    "plotBestModes(N, fidarr, title=\"QSCOUT Estimates, 5 Ions, Optical Xtalk, No Mode Xtalk\")"
   ]
  },
  {
   "cell_type": "markdown",
   "id": "6d086fc5-eca1-4945-94fc-2825321398d4",
   "metadata": {},
   "source": [
    "### Mode Crosstalk, No Optical Crosstalk"
   ]
  },
  {
   "cell_type": "code",
   "execution_count": null,
   "id": "7efc0ff7-2ec5-4512-a88d-333aa28e5ac9",
   "metadata": {},
   "outputs": [],
   "source": [
    "fids = []\n",
    "for targets, m in itertools.product(itertools.combinations(range(N),2), range(N)):\n",
    "    ωd, Ω = calc_necessary_sideband_detuning_and_rabi_freq(devicespec, targets, m, modetype, τ, K=K)\n",
    "    Ωvals = Ω*Ωvals_from_fixed_neighbor_xtalk(N, targets, 0, 0)\n",
    "    mslaserspec = MSLaserSpec(ωd, Ωvals, ϕB, ϕR)\n",
    "    msopspec = MSOpSpec(devicespec, mslaserspec, τ, targets=targets, m=m, modetype=modetype, K=K)\n",
    "    ρf = MS_Analytical_zeroinitalstate_tracemodes(msopspec, simmodes=list(range(N)),modetype=modetype, modetrunc=2)\n",
    "    for fidions in itertools.combinations(range(N),2):\n",
    "        ρred = ρf.ptrace(fidions)\n",
    "        parity_curve_amplitude = 2*abs(ρred[3,0])\n",
    "        pop00 = abs(ρred[0,0])\n",
    "        pop11 = abs(ρred[3,3])\n",
    "        measured_fid = (pop00 + pop11 + parity_curve_amplitude)/2\n",
    "        fidcalc = MSFidCalculation(opspec=msopspec, method='MS_Analytical_zeroinitalstate_tracemodes', fid=measured_fid, fidions=fidions)\n",
    "        fids.append(fidcalc)\n",
    "file = open('calculated_results/qscout_5ion_fidelities_withoutopticalxtalk_withmodextalk', \"w\")\n",
    "file.writelines([str(fidcalc)+'\\n' for fidcalc in fids])"
   ]
  },
  {
   "cell_type": "code",
   "execution_count": null,
   "id": "2205bf6c-7ffe-479e-8cc9-ad73a61cc9a4",
   "metadata": {},
   "outputs": [],
   "source": [
    "file = open('calculated_results/qscout_5ion_fidelities_withoutopticalxtalk_withmodextalk', \"r\")\n",
    "fids = [MSFidCalculation.fromDict(ast.literal_eval(line)) for line in file.readlines()]\n",
    "fidarr = np.zeros((N,N,N))\n",
    "for fidcalc in fids:\n",
    "    if fidcalc.fidions == fidcalc.opspec.targets:\n",
    "        targets = fidcalc.opspec.targets\n",
    "        m = fidcalc.opspec.m\n",
    "        fidarr[targets[0],targets[1],m] = fidcalc.fid\n",
    "plotBestModes(N, fidarr, title=\"QSCOUT Estimates, 5 Ions, Mode Xtalk, No Optical Xtalk\")"
   ]
  },
  {
   "cell_type": "markdown",
   "id": "72480e93-f724-421b-950e-bd511cd55275",
   "metadata": {},
   "source": [
    "## Side Test: Consider spectator contributions in laser rabi freq calculation"
   ]
  },
  {
   "cell_type": "code",
   "execution_count": null,
   "id": "a2ea412f-f317-4ff9-a06e-0a4c0f41b726",
   "metadata": {},
   "outputs": [],
   "source": [
    "# def calc_necessary_sideband_detuning_and_rabi_freq_allmodecontrib(devicespec, targets, m, modetype, τ, K=1):\n",
    "#     δ = 2*π*K/τ # Detuning is restricted by requirement to close phase-space loop\n",
    "#     νm = devicespec.modes(modetype)[m].freq\n",
    "#     ηki = lambda k, i : devicespec.LDparam(k, modetype, i)\n",
    "#     pairηeff = 0\n",
    "#     for k in range(N):\n",
    "#         pairηeff += ηki(k,targets[0])*ηki(k,targets[1])/(δ+νm-devicespec.modes(modetype)[k].freq)\n",
    "#     Ω = np.sqrt(δ/abs(4*K*pairηeff)) # Single rabi freq, meant for both target ions\n",
    "#     return νm+δ, Ω"
   ]
  },
  {
   "cell_type": "markdown",
   "id": "5d019aaa-5591-4954-ad7e-774cd021c8c2",
   "metadata": {},
   "source": [
    "## Simulated Parity Curves"
   ]
  },
  {
   "cell_type": "markdown",
   "id": "10c88c3c-b359-499e-babe-ce0afa5e9a76",
   "metadata": {},
   "source": [
    "### Example"
   ]
  },
  {
   "cell_type": "code",
   "execution_count": null,
   "id": "c72a7664-af1e-43b6-a1a9-a4e3c57b2971",
   "metadata": {},
   "outputs": [],
   "source": [
    "targets = (1,3)\n",
    "for m in range(N):\n",
    "    ωd, Ω = calc_necessary_sideband_detuning_and_rabi_freq(devicespec, targets, m, modetype, τ, K=K)\n",
    "    Ωvals = Ω*Ωvals_from_fixed_neighbor_xtalk(N, targets, neighΩ, nneighΩ)\n",
    "    mslaserspec = MSLaserSpec(ωd, Ωvals, ϕB, ϕR)\n",
    "    msopspec = MSOpSpec(devicespec, mslaserspec, τ, targets=targets, m=m, modetype=modetype, K=K)\n",
    "    ρf = MS_Analytical_zeroinitalstate_tracemodes(msopspec, simmodes=[0,1,2,3,4],modetype=modetype, modetrunc=2)\n",
    "    neighbors = [i for i in range(N) if i in [targets[0]-1,targets[0]+1,targets[1]-1,targets[1]+1] and i not in targets]\n",
    "    plt.figure()\n",
    "    ρred = ρf.ptrace(targets)\n",
    "    paritycurve = parityCurve(ρred)\n",
    "    amplitude = abs(np.max(paritycurve.T[1])-np.min(paritycurve.T[1]))\n",
    "    plt.plot(*paritycurve.T, label=f\"->{targets}:{amplitude}\")\n",
    "    for t in targets:\n",
    "        for n in neighbors:\n",
    "            ρred = ρf.ptrace((t,n))\n",
    "            paritycurve = parityCurve(ρred)\n",
    "            amplitude = abs(np.max(paritycurve.T[1])-np.min(paritycurve.T[1]))\n",
    "            plt.plot(*paritycurve.T, label=f\"{(t,n)}:{amplitude:.4f}\")\n",
    "    plt.legend()\n",
    "    plt.title(f\"Mode {m}\")"
   ]
  },
  {
   "cell_type": "markdown",
   "id": "f9fc7ab4-7628-43eb-9c2e-640bfbc4bca2",
   "metadata": {},
   "source": [
    "## Non-Square Pulses"
   ]
  },
  {
   "cell_type": "markdown",
   "id": "4d9329c0-1037-4a07-a7bf-e3c59db06bd4",
   "metadata": {},
   "source": [
    "### Functions "
   ]
  },
  {
   "cell_type": "code",
   "execution_count": null,
   "id": "5834b0dd-07ba-49ab-9300-aca5604560c8",
   "metadata": {},
   "outputs": [],
   "source": [
    "def MS_non_square_pulse(opspec, simmodes=None, modetype='radial', modetrunc=2):\n",
    "    '''\n",
    "    Calculate\n",
    "    \n",
    "    '''\n",
    "    devspec = opspec.devicespec\n",
    "    N = devspec.N\n",
    "    τ = opspec.duration\n",
    "    Ωvals = opspec.mslaserspec.Ωvals\n",
    "    Ωvals_temp = opspec.mslaserspec.Ωvals\n",
    "    ωd = opspec.mslaserspec.ωd\n",
    "    if opspec.modetype!=None: modetype = opspec.modetype\n",
    "    ϕB = opspec.mslaserspec.ϕB\n",
    "    ϕR = opspec.mslaserspec.ϕR\n",
    "    ϕs = (ϕB+ϕR)/2\n",
    "    ϕm = (ϕB-ϕR)/2\n",
    "    laserphase = exp(1j*ϕm)\n",
    "\n",
    "    print(opspec)\n",
    "    νk = devspec.modes(modetype)[0].freq\n",
    "    print(ωd)\n",
    "    print(νk)\n",
    "    print('--->',sum([Ωvals_temp[0](t)*exp(-1j*(ωd-νk)*t) for t in np.linspace(0,τ,1001)[:-1]])*τ/1000)\n",
    "    \n",
    "    if simmodes == None:\n",
    "        simmodes = list(range(N))\n",
    "    \n",
    "    ρqbit_mat = np.zeros((2**N,2**N), dtype=np.cdouble)\n",
    "    \n",
    "    naturalbasis = list(itertools.product(*[[-1,+1]]*N))\n",
    "    innerprod = 0\n",
    "    for λ1,λ2 in itertools.product(naturalbasis, naturalbasis):\n",
    "        # λ is a N-element list, representing a qubit state in the X basis (-1=|0>, +1=|1>).\n",
    "        # We assume all λ values have equal initial coefficients\n",
    "        # which corresponds to all |0> initial state in Z basis.\n",
    "        λ1λ2coeff = 0\n",
    "        for γ in list(itertools.product(*[list(range(modetrunc))]*len(simmodes))):\n",
    "            # γ is a list of N integers, representing a mode state in the number basis\n",
    "            # Used because we're tracing over all mode states\n",
    "            displacementproduct = 1/2**(N) # Since each λ has equal coefficient to start\n",
    "            for k in simmodes:\n",
    "                νk = devspec.modes(modetype)[k].freq\n",
    "                αλ1k = αλ2k = 0\n",
    "                for i in range(N):\n",
    "                    time_dependence = sum([Ωvals_temp[i](t)*exp(-1j*(ωd-νk)*t) for t in np.linspace(0,τ,1001)[:-1]])*τ/1000\n",
    "                    ηki = devspec.LDparam(k, modetype, i)\n",
    "                    αλ1k += ηki*λ1[i]*time_dependence*laserphase/2\n",
    "                    αλ2k += ηki*λ2[i]*time_dependence*laserphase/2\n",
    "                    #print(abs(coherent_coeff(αλ1k,modetrunc+1)))\n",
    "                # if abs(αλ1k)>1 : print('++αλ1k', αλ1k, 'λ1', λ1, 'γ', γ, 'k', k)\n",
    "                # if abs(αλ1k)<1 : print('--αλ1k', αλ1k, 'λ1', λ1, 'γ', γ, 'k', k)\n",
    "                displacementproduct *= coherent_coeff(αλ1k, γ[simmodes.index(k)])\n",
    "                displacementproduct *= coherent_coeff(αλ2k, γ[simmodes.index(k)]).conjugate()\n",
    "            λ1λ2coeff += displacementproduct\n",
    "        if λ1 == λ2: print(λ1λ2coeff)\n",
    "        phaseangles = [0,0] # [λ1, λ2]\n",
    "        for k in simmodes:\n",
    "            νk = devspec.modes(modetype)[k].freq\n",
    "            for j1, j2 in itertools.product(range(N),range(N)):\n",
    "                ηkj1 = devspec.LDparam(k, modetype, j1)\n",
    "                ηkj2 = devspec.LDparam(k, modetype, j2)\n",
    "                time_dependence = sum([Ωvals[j1](time1)*\\\n",
    "                                       sum([Ωvals[j2](time2)*sin((ωd-νk)*(time1-time2))\n",
    "                                            for time2 in np.linspace(0,time1,501)[:-1]])*time1\n",
    "                                       for time1 in np.linspace(0,τ,501)[:-1]]) * τ/250000\n",
    "                for a, λ in enumerate((λ1, λ2)):\n",
    "                    #print(time_dependence*ηkj1*ηkj2*λ[j1]*λ[j2], flush=True)\n",
    "                    phaseangles[a] += time_dependence*ηkj1*ηkj2*λ[j1]*λ[j2]\n",
    "        λ1λ2coeff *= exp(-1j/4*phaseangles[0])*exp(-1j/4*phaseangles[1]).conjugate() # Conjugate for λ2\n",
    "        λ1_index = int(\"\".join(['0' if λ1[i]==-1 else '1' for i in range(N)]),2)\n",
    "        λ2_index = int(\"\".join(['0' if λ2[i]==-1 else '1' for i in range(N)]),2)\n",
    "        ρqbit_mat[λ1_index, λ2_index] = λ1λ2coeff\n",
    "        \n",
    "    ρqbit = qtp.Qobj(ρqbit_mat, dims=[[2]*N,[2]*N])\n",
    "    print(ρqbit.tr(),flush=True)\n",
    "    \n",
    "    σeigstates = σ(π/2+ϕs).eigenstates()\n",
    "    σbasis = qtp.Qobj(np.c_[σeigstates[1][0].data.A, σeigstates[1][1].data.A],dims=[[2],[2]])\n",
    "    change_of_basis = qtp.tensor([σbasis]*N)\n",
    "    ρqbit_zbasis = change_of_basis*ρqbit*change_of_basis.dag()\n",
    "    \n",
    "    return ρqbit_zbasis"
   ]
  },
  {
   "cell_type": "markdown",
   "id": "403c8524-ae4a-4902-b222-ee45a1d36351",
   "metadata": {},
   "source": [
    "### Running"
   ]
  },
  {
   "cell_type": "code",
   "execution_count": null,
   "id": "67cb2d32-cf82-47da-a1db-4043747509c4",
   "metadata": {},
   "outputs": [],
   "source": [
    "N = 2\n",
    "modetype=\"radial\"\n",
    "K = 1\n",
    "τ = 200e-6 # 200μs\n",
    "\n",
    "trapspec = TrapSpec(νz, νr)\n",
    "devicespec = TIDeviceSpec(N, trapspec, qbit_splitting, raman_freq, M)\n",
    "\n",
    "m=0\n",
    "targets=(0,1)\n",
    "\n",
    "z=τ/10\n",
    "G = lambda t : exp(-(t-τ/2)**2/(2*z**2))\n",
    "\n",
    "\n",
    "δ = -30000*2*π\n",
    "ωd = devicespec.modes(modetype)[m].freq+δ\n",
    "\n",
    "td = sum([G(time1)*sum([G(time2)*sin((δ)*(time1-time2))\n",
    "                                            for time2 in np.linspace(0,time1,501)[:-1]])*time1\n",
    "                                       for time1 in np.linspace(0,τ,501)[:-1]]) * τ/250000\n",
    "\n",
    "td2 = sum([G(time1)*sum([G(time2)*sin((ωd-devicespec.modes(modetype)[1].freq)*(time1-time2))\n",
    "                                            for time2 in np.linspace(0,time1,501)[:-1]])*time1\n",
    "                                       for time1 in np.linspace(0,τ,501)[:-1]]) * τ/250000\n",
    "print('td2 frac', td2/td, (ωd-devicespec.modes(modetype)[1].freq))\n",
    "\n",
    "#ωd, Ω = calc_necessary_sideband_detuning_and_rabi_freq(devicespec, targets, m, modetype, τ, K=K)\n",
    "Ω = sqrt(abs((π/2)/(td*devicespec.LDparam(0,'radial',0)*devicespec.LDparam(0,'radial',1))))\n",
    "\n",
    "Ωvals = Ω*Ωvals_from_fixed_neighbor_xtalk(N, targets, 0, 0)\n",
    "\n",
    "Ωvals_timedep = [lambda t : Ωval*G(t) for Ωval in Ωvals]\n",
    "#Ωvals_timedep = [lambda t : Ωval for Ωval in Ωvals]\n",
    "\n",
    "mslaserspec = MSLaserSpec(ωd, Ωvals_timedep, ϕB, ϕR)\n",
    "msopspec = MSOpSpec(devicespec, mslaserspec, τ, targets=targets, m=0, modetype=modetype, K=K)\n",
    "\n",
    "ρf = MS_non_square_pulse(msopspec, simmodes=[],modetype=modetype, modetrunc=2)\n",
    "\n",
    "fidions = targets\n",
    "ρred = ρf.ptrace(fidions)\n",
    "parity_curve_amplitude = 2*abs(ρred[3,0])\n",
    "pop00 = abs(ρred[0,0])\n",
    "pop11 = abs(ρred[3,3])\n",
    "measured_fid = (pop00 + pop11 + parity_curve_amplitude)/2\n",
    "print(measured_fid)"
   ]
  },
  {
   "cell_type": "code",
   "execution_count": null,
   "id": "ac7f9c6d-a0d0-4616-88ab-f494c97eea69",
   "metadata": {},
   "outputs": [],
   "source": [
    "(devicespec.modes('radial')[0].freq-devicespec.modes('radial')[1].freq)/(2*π)"
   ]
  },
  {
   "cell_type": "code",
   "execution_count": null,
   "id": "7f61221d-b7aa-4b77-b6e2-18866022ce02",
   "metadata": {},
   "outputs": [],
   "source": [
    "Ω"
   ]
  },
  {
   "cell_type": "code",
   "execution_count": null,
   "id": "cace3cf4-c4bb-4ee7-b5e5-8b987fd52d96",
   "metadata": {},
   "outputs": [],
   "source": [
    "ωd - devicespec.modes('radial')[0].freq"
   ]
  },
  {
   "cell_type": "code",
   "execution_count": null,
   "id": "bd19afb6-51f3-4aec-a350-ce44c9cea72c",
   "metadata": {},
   "outputs": [],
   "source": [
    "ρred"
   ]
  },
  {
   "cell_type": "code",
   "execution_count": null,
   "id": "681a889f-4fa6-46cb-ad50-844cd3200e03",
   "metadata": {},
   "outputs": [],
   "source": [
    "N = 2\n",
    "modetype=\"radial\"\n",
    "K = 1\n",
    "τ = 200e-6 # 200μs\n",
    "\n",
    "trapspec = TrapSpec(νz, νr)\n",
    "devicespec = TIDeviceSpec(N, trapspec, qbit_splitting, raman_freq, M)\n",
    "\n",
    "m=0\n",
    "targets=(0,1)\n",
    "\n",
    "z=τ/10\n",
    "G = lambda t : exp(-(t-τ/2)**2/(2*z**2))\n",
    "\n",
    "\n",
    "δ = 40000*2*π\n",
    "ωd = devicespec.modes(modetype)[m].freq+δ\n",
    "\n",
    "td = sum([G(time1)*sum([G(time2)*sin((δ)*(time1-time2))\n",
    "                                            for time2 in np.linspace(0,time1,501)[:-1]])*time1\n",
    "                                       for time1 in np.linspace(0,τ,501)[:-1]]) * τ/250000\n",
    "\n",
    "ωd, Ω = calc_necessary_sideband_detuning_and_rabi_freq(devicespec, targets, m, modetype, τ, K=K)\n",
    "#Ω = sqrt(abs((π/2)/(td*devicespec.LDparam(0,'radial',0)*devicespec.LDparam(0,'radial',1))))\n",
    "\n",
    "Ωvals = Ω*Ωvals_from_fixed_neighbor_xtalk(N, targets, 0, 0)\n",
    "\n",
    "#Ωvals_timedep = [lambda t : Ωval*G(t) for Ωval in Ωvals]\n",
    "Ωvals_timedep = [lambda t : Ωval for Ωval in Ωvals]\n",
    "\n",
    "mslaserspec = MSLaserSpec(ωd, Ωvals, ϕB, ϕR)\n",
    "msopspec = MSOpSpec(devicespec, mslaserspec, τ, targets=targets, m=0, modetype=modetype, K=K)\n",
    "\n",
    "ρf = MS_Analytical_zeroinitalstate_tracemodes(msopspec, simmodes=[0,1],modetype=modetype, modetrunc=2)\n",
    "\n",
    "fidions = targets\n",
    "ρred = ρf.ptrace(fidions)\n",
    "parity_curve_amplitude = 2*abs(ρred[3,0])\n",
    "pop00 = abs(ρred[0,0])\n",
    "pop11 = abs(ρred[3,3])\n",
    "measured_fid = (pop00 + pop11 + parity_curve_amplitude)/2\n",
    "print(measured_fid)"
   ]
  },
  {
   "cell_type": "code",
   "execution_count": null,
   "id": "ab6edb45-320a-4340-a8d1-de5302c5645b",
   "metadata": {},
   "outputs": [],
   "source": [
    "z=τ/10\n",
    "G = lambda t : exp(-(t-τ/2)**2/(2*z**2))\n",
    "sum([G(time1)*sum([G(time2)*sin((1000*2*π)*(time1-time2))\n",
    "                                            for time2 in np.linspace(0,time1,1001)[:-1]])*time1\n",
    "                                       for time1 in np.linspace(0,τ,1001)[:-1]]) * τ/1000000"
   ]
  },
  {
   "cell_type": "code",
   "execution_count": null,
   "id": "8eac8677-b9d4-4005-9e76-b4a0aae88321",
   "metadata": {},
   "outputs": [],
   "source": [
    "νz/(2*π)"
   ]
  },
  {
   "cell_type": "code",
   "execution_count": null,
   "id": "8393ccf2-351c-4fc9-801a-1dc21ec4dcc7",
   "metadata": {},
   "outputs": [],
   "source": [
    "νr/(2*π)"
   ]
  },
  {
   "cell_type": "code",
   "execution_count": null,
   "id": "63acb358-3747-4e87-b5c4-248e7fe76446",
   "metadata": {},
   "outputs": [],
   "source": [
    "devicespec5 = TIDeviceSpec(5, trapspec, qbit_splitting, raman_freq, M)"
   ]
  },
  {
   "cell_type": "code",
   "execution_count": null,
   "id": "af36e310-f5dc-4b5c-bb82-6322bc469fe1",
   "metadata": {},
   "outputs": [],
   "source": [
    "(devicespec5.modes('radial')[4].freq-devicespec5.modes('radial')[3].freq)/(2*π)"
   ]
  },
  {
   "cell_type": "code",
   "execution_count": null,
   "id": "890a9620-194f-42a7-b147-e59d773b1f9f",
   "metadata": {},
   "outputs": [],
   "source": [
    "1/τ"
   ]
  },
  {
   "cell_type": "code",
   "execution_count": null,
   "id": "4b214a20-adf7-4269-8121-2da7fd81cb92",
   "metadata": {},
   "outputs": [],
   "source": [
    "5/65"
   ]
  },
  {
   "cell_type": "code",
   "execution_count": null,
   "id": "90b996b6-312f-4418-9553-c61a8f3a4594",
   "metadata": {},
   "outputs": [],
   "source": [
    "for numions in range(5,25):\n",
    "    modes = ict.calcRadialModes(numions, νratio=6)\n",
    "    freqs = np.array([(m, mode[0]) for m, mode in enumerate(modes)])\n",
    "    plt.scatter([numions]*len(freqs), freqs[:,1], label=numions)\n",
    "plt.legend()"
   ]
  },
  {
   "cell_type": "code",
   "execution_count": null,
   "id": "e97d6c15-0805-4c1e-aab3-a183063e9abd",
   "metadata": {},
   "outputs": [],
   "source": [
    "freqs[0,:]"
   ]
  },
  {
   "cell_type": "code",
   "execution_count": null,
   "id": "0a100877-4daf-4f50-a0e7-007b35d9883b",
   "metadata": {},
   "outputs": [],
   "source": [
    "N=5\n",
    "numgatessum = 0\n",
    "for m in range(N):\n",
    "    for t1, t2 in itertools.combinations(range(N),2):\n",
    "        if N%2==1 and m%2==1 and (t1==N//2 or t2==N//2): continue\n",
    "        neighbors = [i for i in range(N) if i in (t1-1,t1+1,t2-1,t2+1) and i not in (t1,t2)]\n",
    "        numgates = 1+len(neighbors)*2\n",
    "        print(t1, t2, numgates)\n",
    "        numgatessum+=numgates\n",
    "numgatessum"
   ]
  },
  {
   "cell_type": "code",
   "execution_count": null,
   "id": "a84e8a74-10a8-4bb1-867f-8e477d8955ce",
   "metadata": {},
   "outputs": [],
   "source": []
  }
 ],
 "metadata": {
  "kernelspec": {
   "display_name": "Python 3 (ipykernel)",
   "language": "python",
   "name": "python3"
  },
  "language_info": {
   "codemirror_mode": {
    "name": "ipython",
    "version": 3
   },
   "file_extension": ".py",
   "mimetype": "text/x-python",
   "name": "python",
   "nbconvert_exporter": "python",
   "pygments_lexer": "ipython3",
   "version": "3.11.6"
  }
 },
 "nbformat": 4,
 "nbformat_minor": 5
}
