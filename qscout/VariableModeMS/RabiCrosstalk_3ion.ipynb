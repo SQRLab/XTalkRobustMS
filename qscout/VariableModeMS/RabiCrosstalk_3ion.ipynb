{
 "cells": [
  {
   "cell_type": "code",
   "execution_count": 17,
   "metadata": {},
   "outputs": [],
   "source": [
    "import numpy as np\n",
    "from jaqalpaq import run\n",
    "from jaqalpaq.run import run_jaqal_string\n",
    "import json"
   ]
  },
  {
   "cell_type": "markdown",
   "metadata": {},
   "source": [
    "# Measure crosstalk with rabi oscillations\n",
    "\n",
    "Carrier excitation on each of three ions, measuring population of all three. If crosstalk is similar to previous reported values expect measurable crosstalk on next nearest neighbor.\n",
    "\n",
    "**All crosstalk mitigation should be turned off.**"
   ]
  },
  {
   "cell_type": "code",
   "execution_count": 18,
   "metadata": {},
   "outputs": [],
   "source": [
    "SingleIonRabi = f\"\"\"\n",
    "\n",
    "//Pulse Definitions Import Statement\n",
    "from qscout.v1.std usepulses *\n",
    "\n",
    "//Define let parameters\n",
    "let alpha 0.1\n",
    "let qtarget 1\n",
    "\n",
    "//Select your register of qubits\n",
    "register q[3]\n",
    "\n",
    "//jaqal circuit\n",
    "prepare_all\n",
    "Rx q[qtarget] alpha\n",
    "measure_all\n",
    "\"\"\""
   ]
  },
  {
   "cell_type": "code",
   "execution_count": 20,
   "metadata": {},
   "outputs": [],
   "source": [
    "angles = list(np.linspace(0,40*np.pi, 100))\n",
    "\n",
    "results = []\n",
    "\n",
    "for t in np.arange(3):\n",
    "    #override dictionary\n",
    "    override_dict={ \"alpha\": angles,\n",
    "               \"qtarget\": t,\n",
    "                \"__repeats__\": 100}\n",
    "\n",
    "    #Run the circuit with the parameters being overwritten\n",
    "    res = run_jaqal_string(SingleIonRabi, overrides=override_dict)\n",
    "    \n",
    "    exp_probs = res.subcircuits[0].probability_by_str\n",
    "    np.save('RabiCrosstalkIon'+str(t), exp_probs)\n",
    "    "
   ]
  }
 ],
 "metadata": {
  "kernelspec": {
   "display_name": "jaqal310",
   "language": "python",
   "name": "jaqal310"
  },
  "language_info": {
   "codemirror_mode": {
    "name": "ipython",
    "version": 3
   },
   "file_extension": ".py",
   "mimetype": "text/x-python",
   "name": "python",
   "nbconvert_exporter": "python",
   "pygments_lexer": "ipython3",
   "version": "3.10.14"
  },
  "toc": {
   "base_numbering": 1,
   "nav_menu": {},
   "number_sections": true,
   "sideBar": true,
   "skip_h1_title": false,
   "title_cell": "Table of Contents",
   "title_sidebar": "Contents",
   "toc_cell": false,
   "toc_position": {},
   "toc_section_display": true,
   "toc_window_display": false
  },
  "varInspector": {
   "cols": {
    "lenName": 16,
    "lenType": 16,
    "lenVar": 40
   },
   "kernels_config": {
    "python": {
     "delete_cmd_postfix": "",
     "delete_cmd_prefix": "del ",
     "library": "var_list.py",
     "varRefreshCmd": "print(var_dic_list())"
    },
    "r": {
     "delete_cmd_postfix": ") ",
     "delete_cmd_prefix": "rm(",
     "library": "var_list.r",
     "varRefreshCmd": "cat(var_dic_list()) "
    }
   },
   "types_to_exclude": [
    "module",
    "function",
    "builtin_function_or_method",
    "instance",
    "_Feature"
   ],
   "window_display": false
  }
 },
 "nbformat": 4,
 "nbformat_minor": 5
}
