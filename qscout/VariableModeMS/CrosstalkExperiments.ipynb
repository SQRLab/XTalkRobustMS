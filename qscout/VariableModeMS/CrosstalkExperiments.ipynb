{
 "cells": [
  {
   "cell_type": "code",
   "execution_count": 17,
   "id": "47fedebd-1a9b-4244-8987-005ef7c7b10a",
   "metadata": {},
   "outputs": [],
   "source": [
    "import numpy as np\n",
    "import matplotlib.pyplot as plt\n",
    "import numpy as np\n",
    "import matplotlib.pyplot as plt\n",
    "import matplotlib as mpl\n",
    "import itertools\n",
    "from jaqalpaq import run\n",
    "from jaqalpaq import emulator\n",
    "from jaqalpaq.run import run_jaqal_file, run_jaqal_string, run_jaqal_batch, run_jaqal_circuit, frontend\n",
    "# from jaqalpaq.run import * (identical to from jaqalpaq import run aside from needing \"run\" before everything)\n",
    "# from jaqalpaq.run import frontend (needed to switch between emulator and experiment)\n",
    "from jaqalpaq.parser import parse_jaqal_string"
   ]
  },
  {
   "cell_type": "markdown",
   "id": "dfe1e740-b484-47a8-9e91-75b4fec6b29c",
   "metadata": {},
   "source": [
    "## 3 qubits"
   ]
  },
  {
   "cell_type": "markdown",
   "id": "71c137b4-cf63-47d0-aeb8-2155a7bfa19f",
   "metadata": {},
   "source": [
    "### Measure crosstalk with rabi oscillations"
   ]
  },
  {
   "cell_type": "code",
   "execution_count": 18,
   "id": "3cda4881-1f98-4018-af42-63d100d0874a",
   "metadata": {},
   "outputs": [],
   "source": [
    "SingleIonRabi = f\"\"\"\n",
    "\n",
    "//Pulse Definitions Import Statement\n",
    "from qscout.v1.std usepulses *\n",
    "\n",
    "//Define let parameters\n",
    "let alpha 0.1\n",
    "let qtarget 1\n",
    "\n",
    "//Select your register of qubits\n",
    "register q[3]\n",
    "\n",
    "//jaqal circuit\n",
    "prepare_all\n",
    "Rx q[qtarget] alpha\n",
    "measure_all\n",
    "\"\"\""
   ]
  },
  {
   "cell_type": "code",
   "execution_count": 20,
   "id": "bff2caed-1eb8-44c0-9e4f-08fcf5db3451",
   "metadata": {},
   "outputs": [],
   "source": [
    "angles = list(np.linspace(0,40*np.pi, 100))\n",
    "\n",
    "results = []\n",
    "\n",
    "for t in np.arange(3):\n",
    "    #override dictionary\n",
    "    override_dict={ \"alpha\": angles,\n",
    "               \"qtarget\": t,\n",
    "                \"__repeats__\": 100}\n",
    "\n",
    "    #Run the circuit with the parameters being overwritten\n",
    "    res = run_jaqal_string(SingleIonRabi, overrides=override_dict)\n",
    "    results.append(res)"
   ]
  },
  {
   "cell_type": "markdown",
   "id": "efad7052-f4fa-4753-a60e-cdc097cf8be6",
   "metadata": {},
   "source": [
    "## Slow single-mode MS"
   ]
  },
  {
   "cell_type": "code",
   "execution_count": 26,
   "id": "e21749b6-2b5e-41fe-a00d-b14a9f26137c",
   "metadata": {},
   "outputs": [],
   "source": [
    "MSmode = f\"\"\"\n",
    "// Import JaqalPaw Code.\n",
    "from .VariableModeMS usepulses *\n",
    "from qscout.v1.std usepulses *\n",
    "\n",
    "// Declare variables.\n",
    "let target1 1\n",
    "let target2 3\n",
    "let mode 2\n",
    "let global_duration -1\n",
    "let beta 0.1\n",
    "let beta2 {np.pi/2.}\n",
    "\n",
    "register q[3]\n",
    "\n",
    "// Prepare = Sideband cool, then Pump to F=0\n",
    "prepare_all\n",
    "\n",
    "VariableModeMS q[target1] q[target2] mode global_duration\n",
    "<R q[0] beta beta2 | R q[1] beta beta2 | R q[2] beta beta2> \n",
    "\n",
    "measure_all\n",
    "\"\"\""
   ]
  },
  {
   "cell_type": "code",
   "execution_count": 27,
   "id": "35e184ec-81ab-4a50-8a73-1bcd17859504",
   "metadata": {},
   "outputs": [],
   "source": [
    "MSParity = f\"\"\"\n",
    "\n",
    "//Pulse Definitions Import Statement\n",
    "from qscout.v1.std usepulses *\n",
    "\n",
    "//Define let parameters\n",
    "let alpha {np.pi/2.}\n",
    "let eta 0.0\n",
    "let t1 0\n",
    "let t2 1\n",
    "\n",
    "let beta 0.1\n",
    "let beta2 {np.pi/2.}\n",
    "\n",
    "//Select your register of qubits\n",
    "register q[3]\n",
    "\n",
    "//jaqal circuit\n",
    "prepare_all\n",
    "MS q[t1] q[t2] eta alpha\n",
    "<R q[0] beta beta2 | R q[1] beta beta2 | R q[2] beta beta2> \n",
    "measure_all\n",
    "\"\"\""
   ]
  },
  {
   "cell_type": "code",
   "execution_count": 25,
   "id": "91e5fb5f-7ad0-4d4a-b13f-00e8c1ae67ee",
   "metadata": {},
   "outputs": [
    {
     "ename": "ModuleNotFoundError",
     "evalue": "No module named 'jaqalpaw'",
     "output_type": "error",
     "traceback": [
      "\u001b[0;31m---------------------------------------------------------------------------\u001b[0m",
      "\u001b[0;31mModuleNotFoundError\u001b[0m                       Traceback (most recent call last)",
      "Cell \u001b[0;32mIn[25], line 12\u001b[0m\n\u001b[1;32m      6\u001b[0m override_dict\u001b[38;5;241m=\u001b[39m{ \u001b[38;5;124m\"\u001b[39m\u001b[38;5;124mtarget1\u001b[39m\u001b[38;5;124m\"\u001b[39m: \u001b[38;5;241m1\u001b[39m,\n\u001b[1;32m      7\u001b[0m                    \u001b[38;5;124m\"\u001b[39m\u001b[38;5;124mtarget2\u001b[39m\u001b[38;5;124m\"\u001b[39m: \u001b[38;5;241m3\u001b[39m,\n\u001b[1;32m      8\u001b[0m                \u001b[38;5;124m\"\u001b[39m\u001b[38;5;124mmode\u001b[39m\u001b[38;5;124m\"\u001b[39m: \u001b[38;5;241m0\u001b[39m,\n\u001b[1;32m      9\u001b[0m                 \u001b[38;5;124m\"\u001b[39m\u001b[38;5;124m__repeats__\u001b[39m\u001b[38;5;124m\"\u001b[39m: \u001b[38;5;241m100\u001b[39m}\n\u001b[1;32m     11\u001b[0m \u001b[38;5;66;03m#Run the circuit with the parameters being overwritten\u001b[39;00m\n\u001b[0;32m---> 12\u001b[0m resCM \u001b[38;5;241m=\u001b[39m \u001b[43mrun_jaqal_string\u001b[49m\u001b[43m(\u001b[49m\u001b[43mMSmode\u001b[49m\u001b[43m,\u001b[49m\u001b[43m \u001b[49m\u001b[43moverrides\u001b[49m\u001b[38;5;241;43m=\u001b[39;49m\u001b[43moverride_dict\u001b[49m\u001b[43m)\u001b[49m\n\u001b[1;32m     14\u001b[0m \u001b[38;5;66;03m#BestMode\u001b[39;00m\n\u001b[1;32m     15\u001b[0m override_dict\u001b[38;5;241m=\u001b[39m{ \u001b[38;5;124m\"\u001b[39m\u001b[38;5;124mtarget1\u001b[39m\u001b[38;5;124m\"\u001b[39m: \u001b[38;5;241m1\u001b[39m,\n\u001b[1;32m     16\u001b[0m                    \u001b[38;5;124m\"\u001b[39m\u001b[38;5;124mtarget2\u001b[39m\u001b[38;5;124m\"\u001b[39m: \u001b[38;5;241m3\u001b[39m,\n\u001b[1;32m     17\u001b[0m                \u001b[38;5;124m\"\u001b[39m\u001b[38;5;124mmode\u001b[39m\u001b[38;5;124m\"\u001b[39m: \u001b[38;5;241m1\u001b[39m,\n\u001b[1;32m     18\u001b[0m                 \u001b[38;5;124m\"\u001b[39m\u001b[38;5;124m__repeats__\u001b[39m\u001b[38;5;124m\"\u001b[39m: \u001b[38;5;241m100\u001b[39m}\n",
      "File \u001b[0;32m/opt/anaconda3/envs/jaqal310/lib/python3.10/site-packages/jaqalpaq/run/frontend.py:106\u001b[0m, in \u001b[0;36mrun_jaqal_string\u001b[0;34m(jaqal, import_path, **kwargs)\u001b[0m\n\u001b[1;32m     92\u001b[0m \u001b[38;5;28;01mdef\u001b[39;00m \u001b[38;5;21mrun_jaqal_string\u001b[39m(jaqal, import_path\u001b[38;5;241m=\u001b[39m\u001b[38;5;28;01mNone\u001b[39;00m, \u001b[38;5;241m*\u001b[39m\u001b[38;5;241m*\u001b[39mkwargs):\n\u001b[1;32m     93\u001b[0m \u001b[38;5;250m    \u001b[39m\u001b[38;5;124;03m\"\"\"Execute a Jaqal string using either an emulator or by communicating\u001b[39;00m\n\u001b[1;32m     94\u001b[0m \u001b[38;5;124;03m    over IPC with another process.\u001b[39;00m\n\u001b[1;32m     95\u001b[0m \n\u001b[0;32m   (...)\u001b[0m\n\u001b[1;32m    103\u001b[0m \u001b[38;5;124;03m        See :meth:`run_jaqal_circuit` for additional arguments\u001b[39;00m\n\u001b[1;32m    104\u001b[0m \u001b[38;5;124;03m    \"\"\"\u001b[39;00m\n\u001b[1;32m    105\u001b[0m     \u001b[38;5;28;01mreturn\u001b[39;00m run_jaqal_circuit(\n\u001b[0;32m--> 106\u001b[0m         \u001b[43mparse_jaqal_string\u001b[49m\u001b[43m(\u001b[49m\n\u001b[1;32m    107\u001b[0m \u001b[43m            \u001b[49m\u001b[43mjaqal\u001b[49m\u001b[43m,\u001b[49m\n\u001b[1;32m    108\u001b[0m \u001b[43m            \u001b[49m\u001b[43mautoload_pulses\u001b[49m\u001b[38;5;241;43m=\u001b[39;49m\u001b[43m_should_autoload_pulses\u001b[49m\u001b[43m(\u001b[49m\u001b[38;5;241;43m*\u001b[39;49m\u001b[38;5;241;43m*\u001b[39;49m\u001b[43mkwargs\u001b[49m\u001b[43m)\u001b[49m\u001b[43m,\u001b[49m\n\u001b[1;32m    109\u001b[0m \u001b[43m            \u001b[49m\u001b[43mimport_path\u001b[49m\u001b[38;5;241;43m=\u001b[39;49m\u001b[43mimport_path\u001b[49m\u001b[43m,\u001b[49m\n\u001b[1;32m    110\u001b[0m \u001b[43m        \u001b[49m\u001b[43m)\u001b[49m,\n\u001b[1;32m    111\u001b[0m         \u001b[38;5;241m*\u001b[39m\u001b[38;5;241m*\u001b[39mkwargs\n\u001b[1;32m    112\u001b[0m     )\n",
      "File \u001b[0;32m/opt/anaconda3/envs/jaqal310/lib/python3.10/site-packages/jaqalpaq/parser/parser.py:100\u001b[0m, in \u001b[0;36mparse_jaqal_string\u001b[0;34m(jaqal, override_dict, expand_macro, expand_let, expand_let_map, return_usepulses, inject_pulses, autoload_pulses, import_path, name_hint)\u001b[0m\n\u001b[1;32m     96\u001b[0m _monkeypatch_sly()\n\u001b[1;32m     98\u001b[0m sexpr, usepulses \u001b[38;5;241m=\u001b[39m parse_to_sexpression(jaqal, return_usepulses\u001b[38;5;241m=\u001b[39m\u001b[38;5;28;01mTrue\u001b[39;00m)\n\u001b[0;32m--> 100\u001b[0m circuit \u001b[38;5;241m=\u001b[39m \u001b[43mbuild\u001b[49m\u001b[43m(\u001b[49m\n\u001b[1;32m    101\u001b[0m \u001b[43m    \u001b[49m\u001b[43msexpr\u001b[49m\u001b[43m,\u001b[49m\n\u001b[1;32m    102\u001b[0m \u001b[43m    \u001b[49m\u001b[43minject_pulses\u001b[49m\u001b[38;5;241;43m=\u001b[39;49m\u001b[43minject_pulses\u001b[49m\u001b[43m,\u001b[49m\n\u001b[1;32m    103\u001b[0m \u001b[43m    \u001b[49m\u001b[43mautoload_pulses\u001b[49m\u001b[38;5;241;43m=\u001b[39;49m\u001b[43mautoload_pulses\u001b[49m\u001b[43m,\u001b[49m\n\u001b[1;32m    104\u001b[0m \u001b[43m    \u001b[49m\u001b[43mimport_path\u001b[49m\u001b[38;5;241;43m=\u001b[39;49m\u001b[43mimport_path\u001b[49m\u001b[43m,\u001b[49m\n\u001b[1;32m    105\u001b[0m \u001b[43m\u001b[49m\u001b[43m)\u001b[49m\n\u001b[1;32m    107\u001b[0m \u001b[38;5;28;01mif\u001b[39;00m expand_macro:\n\u001b[1;32m    108\u001b[0m     \u001b[38;5;66;03m# preserve_definitions maintains old API behavior\u001b[39;00m\n\u001b[1;32m    109\u001b[0m     circuit \u001b[38;5;241m=\u001b[39m expand_macros(circuit, preserve_definitions\u001b[38;5;241m=\u001b[39m\u001b[38;5;28;01mTrue\u001b[39;00m)\n",
      "File \u001b[0;32m/opt/anaconda3/envs/jaqal310/lib/python3.10/site-packages/jaqalpaq/core/circuitbuilder.py:71\u001b[0m, in \u001b[0;36mbuild\u001b[0;34m(expression, inject_pulses, autoload_pulses, import_path)\u001b[0m\n\u001b[1;32m     23\u001b[0m \u001b[38;5;250m\u001b[39m\u001b[38;5;124;03m\"\"\"Given an expression in a specific format, return the appropriate type, recursively\u001b[39;00m\n\u001b[1;32m     24\u001b[0m \u001b[38;5;124;03mconstructed, from the core types library.\u001b[39;00m\n\u001b[1;32m     25\u001b[0m \n\u001b[0;32m   (...)\u001b[0m\n\u001b[1;32m     63\u001b[0m \n\u001b[1;32m     64\u001b[0m \u001b[38;5;124;03m\"\"\"\u001b[39;00m\n\u001b[1;32m     66\u001b[0m builder \u001b[38;5;241m=\u001b[39m Builder(\n\u001b[1;32m     67\u001b[0m     inject_pulses\u001b[38;5;241m=\u001b[39minject_pulses,\n\u001b[1;32m     68\u001b[0m     autoload_pulses\u001b[38;5;241m=\u001b[39mautoload_pulses,\n\u001b[1;32m     69\u001b[0m     import_path\u001b[38;5;241m=\u001b[39mimport_path,\n\u001b[1;32m     70\u001b[0m )\n\u001b[0;32m---> 71\u001b[0m \u001b[38;5;28;01mreturn\u001b[39;00m \u001b[43mbuilder\u001b[49m\u001b[38;5;241;43m.\u001b[39;49m\u001b[43mbuild\u001b[49m\u001b[43m(\u001b[49m\u001b[43mexpression\u001b[49m\u001b[43m)\u001b[49m\n",
      "File \u001b[0;32m/opt/anaconda3/envs/jaqal310/lib/python3.10/site-packages/jaqalpaq/core/circuitbuilder.py:109\u001b[0m, in \u001b[0;36mBuilder.build\u001b[0;34m(self, expression, context, gate_context)\u001b[0m\n\u001b[1;32m    107\u001b[0m \u001b[38;5;28;01mif\u001b[39;00m \u001b[38;5;129;01mnot\u001b[39;00m \u001b[38;5;28mhasattr\u001b[39m(\u001b[38;5;28mself\u001b[39m, method_name):\n\u001b[1;32m    108\u001b[0m     \u001b[38;5;28;01mraise\u001b[39;00m JaqalError(\u001b[38;5;124mf\u001b[39m\u001b[38;5;124m\"\u001b[39m\u001b[38;5;124mCannot handle object of type \u001b[39m\u001b[38;5;132;01m{\u001b[39;00msexpression\u001b[38;5;241m.\u001b[39mcommand\u001b[38;5;132;01m}\u001b[39;00m\u001b[38;5;124m\"\u001b[39m)\n\u001b[0;32m--> 109\u001b[0m \u001b[38;5;28;01mreturn\u001b[39;00m \u001b[38;5;28;43mgetattr\u001b[39;49m\u001b[43m(\u001b[49m\u001b[38;5;28;43mself\u001b[39;49m\u001b[43m,\u001b[49m\u001b[43m \u001b[49m\u001b[43mmethod_name\u001b[49m\u001b[43m)\u001b[49m\u001b[43m(\u001b[49m\u001b[43msexpression\u001b[49m\u001b[43m,\u001b[49m\u001b[43m \u001b[49m\u001b[43mcontext\u001b[49m\u001b[43m,\u001b[49m\u001b[43m \u001b[49m\u001b[43mgate_context\u001b[49m\u001b[43m)\u001b[49m\n",
      "File \u001b[0;32m/opt/anaconda3/envs/jaqal310/lib/python3.10/site-packages/jaqalpaq/core/circuitbuilder.py:156\u001b[0m, in \u001b[0;36mBuilder.build_circuit\u001b[0;34m(self, sexpression, context, gate_context)\u001b[0m\n\u001b[1;32m    154\u001b[0m     usepulses\u001b[38;5;241m.\u001b[39mappend(obj)\n\u001b[1;32m    155\u001b[0m     \u001b[38;5;28;01mif\u001b[39;00m \u001b[38;5;28mself\u001b[39m\u001b[38;5;241m.\u001b[39mautoload_pulses:\n\u001b[0;32m--> 156\u001b[0m         \u001b[43mobj\u001b[49m\u001b[38;5;241;43m.\u001b[39;49m\u001b[43mupdate_gates\u001b[49m\u001b[43m(\u001b[49m\u001b[43mgate_context\u001b[49m\u001b[43m,\u001b[49m\u001b[43m \u001b[49m\u001b[43minject_pulses\u001b[49m\u001b[38;5;241;43m=\u001b[39;49m\u001b[38;5;28;43mself\u001b[39;49m\u001b[38;5;241;43m.\u001b[39;49m\u001b[43minject_pulses\u001b[49m\u001b[43m)\u001b[49m\n\u001b[1;32m    157\u001b[0m         obj\u001b[38;5;241m.\u001b[39mupdate_gates(native_gates, inject_pulses\u001b[38;5;241m=\u001b[39m\u001b[38;5;28mself\u001b[39m\u001b[38;5;241m.\u001b[39minject_pulses)\n\u001b[1;32m    158\u001b[0m \u001b[38;5;28;01melse\u001b[39;00m:\n",
      "File \u001b[0;32m/opt/anaconda3/envs/jaqal310/lib/python3.10/site-packages/jaqalpaq/core/usepulses.py:66\u001b[0m, in \u001b[0;36mUsePulsesStatement.update_gates\u001b[0;34m(self, gates, inject_pulses)\u001b[0m\n\u001b[1;32m     64\u001b[0m \u001b[38;5;28;01mdef\u001b[39;00m \u001b[38;5;21mupdate_gates\u001b[39m(\u001b[38;5;28mself\u001b[39m, gates, inject_pulses\u001b[38;5;241m=\u001b[39m\u001b[38;5;28;01mFalse\u001b[39;00m):\n\u001b[1;32m     65\u001b[0m     \u001b[38;5;28;01mif\u001b[39;00m \u001b[38;5;129;01mnot\u001b[39;00m \u001b[38;5;28mself\u001b[39m\u001b[38;5;241m.\u001b[39m_gates:\n\u001b[0;32m---> 66\u001b[0m         \u001b[38;5;28;43mself\u001b[39;49m\u001b[38;5;241;43m.\u001b[39;49m\u001b[43m_load\u001b[49m\u001b[43m(\u001b[49m\u001b[43m)\u001b[49m\n\u001b[1;32m     68\u001b[0m     \u001b[38;5;28;01mif\u001b[39;00m \u001b[38;5;28mself\u001b[39m\u001b[38;5;241m.\u001b[39m_names \u001b[38;5;129;01mis\u001b[39;00m \u001b[38;5;129;01mnot\u001b[39;00m \u001b[38;5;28mall\u001b[39m:\n\u001b[1;32m     69\u001b[0m         \u001b[38;5;66;03m# Todo: filter the native gates based on self._names\u001b[39;00m\n\u001b[1;32m     70\u001b[0m         \u001b[38;5;28;01mraise\u001b[39;00m JaqalError(\u001b[38;5;124m\"\u001b[39m\u001b[38;5;124mOnly from ... usepulses * currently supported.\u001b[39m\u001b[38;5;124m\"\u001b[39m)\n",
      "File \u001b[0;32m/opt/anaconda3/envs/jaqal310/lib/python3.10/site-packages/jaqalpaq/core/usepulses.py:83\u001b[0m, in \u001b[0;36mUsePulsesStatement._load\u001b[0;34m(self)\u001b[0m\n\u001b[1;32m     80\u001b[0m \u001b[38;5;28;01mdef\u001b[39;00m \u001b[38;5;21m_load\u001b[39m(\u001b[38;5;28mself\u001b[39m):\n\u001b[1;32m     81\u001b[0m     \u001b[38;5;28;01mfrom\u001b[39;00m \u001b[38;5;21;01mjaqalpaq\u001b[39;00m\u001b[38;5;21;01m.\u001b[39;00m\u001b[38;5;21;01m_import\u001b[39;00m \u001b[38;5;28;01mimport\u001b[39;00m get_jaqal_gates\n\u001b[0;32m---> 83\u001b[0m     \u001b[38;5;28mself\u001b[39m\u001b[38;5;241m.\u001b[39m_gates \u001b[38;5;241m=\u001b[39m \u001b[43mget_jaqal_gates\u001b[49m\u001b[43m(\u001b[49m\u001b[38;5;28;43mself\u001b[39;49m\u001b[38;5;241;43m.\u001b[39;49m\u001b[43m_module\u001b[49m\u001b[43m,\u001b[49m\u001b[43m \u001b[49m\u001b[43mimport_path\u001b[49m\u001b[38;5;241;43m=\u001b[39;49m\u001b[38;5;28;43mself\u001b[39;49m\u001b[38;5;241;43m.\u001b[39;49m\u001b[43m_import_path\u001b[49m\u001b[43m)\u001b[49m\n",
      "File \u001b[0;32m/opt/anaconda3/envs/jaqal310/lib/python3.10/site-packages/jaqalpaq/_import.py:128\u001b[0m, in \u001b[0;36mget_jaqal_gates\u001b[0;34m(jaqal_module, import_path)\u001b[0m\n\u001b[1;32m    125\u001b[0m \u001b[38;5;28;01mif\u001b[39;00m \u001b[38;5;129;01mnot\u001b[39;00m import_path:\n\u001b[1;32m    126\u001b[0m     import_path \u001b[38;5;241m=\u001b[39m os\u001b[38;5;241m.\u001b[39mgetcwd()\n\u001b[0;32m--> 128\u001b[0m jg \u001b[38;5;241m=\u001b[39m \u001b[43mjaqal_import\u001b[49m\u001b[43m(\u001b[49m\u001b[38;5;28;43mstr\u001b[39;49m\u001b[43m(\u001b[49m\u001b[43mjaqal_module\u001b[49m\u001b[43m)\u001b[49m\u001b[43m,\u001b[49m\u001b[43m \u001b[49m\u001b[38;5;124;43m\"\u001b[39;49m\u001b[38;5;124;43mjaqal_gates\u001b[39;49m\u001b[38;5;124;43m\"\u001b[39;49m\u001b[43m,\u001b[49m\u001b[43m \u001b[49m\u001b[43mimport_path\u001b[49m\u001b[38;5;241;43m=\u001b[39;49m\u001b[43mPath\u001b[49m\u001b[43m(\u001b[49m\u001b[43mimport_path\u001b[49m\u001b[43m)\u001b[49m\u001b[43m)\u001b[49m\n\u001b[1;32m    129\u001b[0m \u001b[38;5;28;01mreturn\u001b[39;00m jg\u001b[38;5;241m.\u001b[39mALL_GATES\n",
      "File \u001b[0;32m/opt/anaconda3/envs/jaqal310/lib/python3.10/site-packages/jaqalpaq/_import.py:104\u001b[0m, in \u001b[0;36mjaqal_import\u001b[0;34m(mod_name, obj_name, import_path, reload_module, full_reload)\u001b[0m\n\u001b[1;32m    102\u001b[0m \u001b[38;5;28;01mif\u001b[39;00m module \u001b[38;5;129;01mis\u001b[39;00m \u001b[38;5;28;01mNone\u001b[39;00m:\n\u001b[1;32m    103\u001b[0m     \u001b[38;5;28;01mif\u001b[39;00m relative:\n\u001b[0;32m--> 104\u001b[0m         module \u001b[38;5;241m=\u001b[39m \u001b[43m_jaqal_import_module_relative\u001b[49m\u001b[43m(\u001b[49m\u001b[43mmod_name\u001b[49m\u001b[43m,\u001b[49m\u001b[43m \u001b[49m\u001b[43mimport_path\u001b[49m\u001b[43m)\u001b[49m\n\u001b[1;32m    105\u001b[0m     \u001b[38;5;28;01melse\u001b[39;00m:\n\u001b[1;32m    106\u001b[0m         module \u001b[38;5;241m=\u001b[39m importlib\u001b[38;5;241m.\u001b[39mimport_module(mod_name)\n",
      "File \u001b[0;32m/opt/anaconda3/envs/jaqal310/lib/python3.10/site-packages/jaqalpaq/_import.py:64\u001b[0m, in \u001b[0;36m_jaqal_import_module_relative\u001b[0;34m(mod_name, import_path)\u001b[0m\n\u001b[1;32m     62\u001b[0m module \u001b[38;5;241m=\u001b[39m importlib\u001b[38;5;241m.\u001b[39mutil\u001b[38;5;241m.\u001b[39mmodule_from_spec(spec)\n\u001b[1;32m     63\u001b[0m sys\u001b[38;5;241m.\u001b[39mmodules[mod_name] \u001b[38;5;241m=\u001b[39m module\n\u001b[0;32m---> 64\u001b[0m \u001b[43mspec\u001b[49m\u001b[38;5;241;43m.\u001b[39;49m\u001b[43mloader\u001b[49m\u001b[38;5;241;43m.\u001b[39;49m\u001b[43mexec_module\u001b[49m\u001b[43m(\u001b[49m\u001b[43mmodule\u001b[49m\u001b[43m)\u001b[49m\n\u001b[1;32m     66\u001b[0m \u001b[38;5;28;01mreturn\u001b[39;00m module\n",
      "File \u001b[0;32m<frozen importlib._bootstrap_external>:883\u001b[0m, in \u001b[0;36mexec_module\u001b[0;34m(self, module)\u001b[0m\n",
      "File \u001b[0;32m<frozen importlib._bootstrap>:241\u001b[0m, in \u001b[0;36m_call_with_frames_removed\u001b[0;34m(f, *args, **kwds)\u001b[0m\n",
      "File \u001b[0;32m~/Documents/UW/Projects/Crosstalk/XTalkRobustMS/qscout/VariableModeMS/VariableModeMS.py:5\u001b[0m\n\u001b[1;32m      1\u001b[0m \u001b[38;5;124;03m\"\"\" Variable Mode MS Gate\u001b[39;00m\n\u001b[1;32m      2\u001b[0m \u001b[38;5;124;03m    Used to generate MS gates using a specified mode.\u001b[39;00m\n\u001b[1;32m      3\u001b[0m \u001b[38;5;124;03m\"\"\"\u001b[39;00m\n\u001b[0;32m----> 5\u001b[0m \u001b[38;5;28;01mfrom\u001b[39;00m \u001b[38;5;21;01mjaqalpaw\u001b[39;00m\u001b[38;5;21;01m.\u001b[39;00m\u001b[38;5;21;01mir\u001b[39;00m\u001b[38;5;21;01m.\u001b[39;00m\u001b[38;5;21;01mpulse_data\u001b[39;00m \u001b[38;5;28;01mimport\u001b[39;00m PulseData\n\u001b[1;32m      6\u001b[0m \u001b[38;5;28;01mfrom\u001b[39;00m \u001b[38;5;21;01mjaqalpaw\u001b[39;00m\u001b[38;5;21;01m.\u001b[39;00m\u001b[38;5;21;01mutilities\u001b[39;00m\u001b[38;5;21;01m.\u001b[39;00m\u001b[38;5;21;01mhelper_functions\u001b[39;00m \u001b[38;5;28;01mimport\u001b[39;00m discretize_frequency\n\u001b[1;32m      7\u001b[0m \u001b[38;5;28;01mimport\u001b[39;00m \u001b[38;5;21;01mnumpy\u001b[39;00m \u001b[38;5;28;01mas\u001b[39;00m \u001b[38;5;21;01mnp\u001b[39;00m\n",
      "\u001b[0;31mModuleNotFoundError\u001b[0m: No module named 'jaqalpaw'"
     ]
    }
   ],
   "source": [
    "angles = list(np.linspace(0,2*np.pi, 100))\n",
    "t1 = 1\n",
    "t2 = 3\n",
    "results = []\n",
    "\n",
    "#CommonMode\n",
    "override_dict={ \"target1\": t1,\n",
    "                   \"target2\": t2,\n",
    "               \"mode\": 0,\n",
    "               \"beta\": angles,\n",
    "                \"__repeats__\": 100}\n",
    "\n",
    "#Run the circuit with the parameters being overwritten\n",
    "resCM = run_jaqal_string(MSmode, overrides=override_dict)\n",
    "\n",
    "#BestMode\n",
    "override_dict={ \"target1\": t1,\n",
    "                   \"target2\": t2,\n",
    "               \"mode\": 1,\n",
    "               \"beta\":angles,\n",
    "                \"__repeats__\": 100}\n",
    "\n",
    "#Run the circuit with the parameters being overwritten\n",
    "resBM = run_jaqal_string(MSmode, overrides=override_dict)\n",
    "\n",
    "#QSCOUT standard MD\n",
    "override_dict={\"beta\":angles,\n",
    "               \"t1\": t1,\n",
    "                   \"t2\":t2,\n",
    "                \"__repeats__\": 100}\n",
    "#Run the circuit with the parameters being overwritten\n",
    "resQS = run_jaqal_string(MSParity, overrides=override_dict)\n"
   ]
  }
 ],
 "metadata": {
  "kernelspec": {
   "display_name": "jaqal310",
   "language": "python",
   "name": "jaqal310"
  },
  "language_info": {
   "codemirror_mode": {
    "name": "ipython",
    "version": 3
   },
   "file_extension": ".py",
   "mimetype": "text/x-python",
   "name": "python",
   "nbconvert_exporter": "python",
   "pygments_lexer": "ipython3",
   "version": "3.10.14"
  }
 },
 "nbformat": 4,
 "nbformat_minor": 5
}
