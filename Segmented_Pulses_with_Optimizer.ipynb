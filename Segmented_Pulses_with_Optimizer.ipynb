{
 "cells": [
  {
   "cell_type": "markdown",
   "id": "480f46b5-612c-47fb-a5c2-3fcf336cbb3d",
   "metadata": {},
   "source": [
    "# Ion Entanglement Using Segmented Pulses"
   ]
  },
  {
   "cell_type": "markdown",
   "id": "e633226f-5893-4234-b97b-7db5b3f048f8",
   "metadata": {},
   "source": [
    "### Code Setup"
   ]
  },
  {
   "cell_type": "code",
   "execution_count": 1,
   "id": "abf3135c-bd0c-4140-adaa-bb51e8b50d7f",
   "metadata": {},
   "outputs": [],
   "source": [
    "import numpy as np\n",
    "from numpy import sin, cos, exp, sqrt, angle\n",
    "import scipy.integrate as integrate\n",
    "import scipy.linalg as linalg\n",
    "import matplotlib.pyplot as plt"
   ]
  },
  {
   "cell_type": "code",
   "execution_count": 2,
   "id": "cc2fdd66-1697-4ad6-b6c7-5ae13418389e",
   "metadata": {},
   "outputs": [],
   "source": [
    "import importlib\n",
    "import sys, os\n",
    "from pathlib import Path\n",
    "sys.path.append('tools/')\n",
    "import IonChainTools as ict\n",
    "import MSFidelityEstimation as msfe\n",
    "importlib.reload(msfe)\n",
    "from MSFidelityEstimation import *"
   ]
  },
  {
   "cell_type": "markdown",
   "id": "e1f38c83-5828-4dcd-b943-fb587e0e3e20",
   "metadata": {},
   "source": [
    "We perform calculations to demonstrate how to use segmented pulses to perform entangling gates at any detuning, as described in [\"Optimal Quantum Control of Multimode Couplings between Trapped Ion Qubits\n",
    "for Scalable Entanglement\"(2014)](https://journals.aps.org/prl/abstract/10.1103/PhysRevLett.112.190502)."
   ]
  },
  {
   "cell_type": "markdown",
   "id": "338d3f62-7f1a-40b9-934d-dc228590e65a",
   "metadata": {},
   "source": [
    "### Tools"
   ]
  },
  {
   "cell_type": "code",
   "execution_count": 3,
   "id": "5811ad09-9ac0-49b1-96ec-11fbcdca784c",
   "metadata": {},
   "outputs": [],
   "source": [
    "def separateStrengthAndPhase(vec):\n",
    "    ''' Take a vector of complex values and split each value into a magnitude and a phase. '''\n",
    "    magnitudes = [abs(a) for a in vec]\n",
    "    phases = [angle(a) for a in vec]\n",
    "    return magnitudes, phases"
   ]
  },
  {
   "cell_type": "code",
   "execution_count": 4,
   "id": "aeff9a87-9fe1-4020-a82e-9b67fa28260f",
   "metadata": {},
   "outputs": [],
   "source": [
    "def get_bin(x, n):\n",
    "    ''' Turn a number x into a binary representation as a n-long vector of integers 0 or 1. '''\n",
    "    string = format(x, 'b').zfill(n)\n",
    "    return [int(c) for c in string]"
   ]
  },
  {
   "cell_type": "code",
   "execution_count": 5,
   "id": "69a7c888-ca21-4b8d-a4b8-4cd571411872",
   "metadata": {},
   "outputs": [],
   "source": [
    "def coherent_innerprod(αbra, αket):\n",
    "    ''' Inner product of two coherent states, i.e. <αbra|αket>'''\n",
    "    return exp(-1/2*(abs(αket)**2+abs(αbra)**2-2*αbra.conjugate()*αket))"
   ]
  },
  {
   "cell_type": "code",
   "execution_count": 6,
   "id": "2a8030e5-d1c4-4aed-acb3-1ea3a17358e7",
   "metadata": {},
   "outputs": [],
   "source": [
    "def trace_over_motion(qbitstate, motionalstate):\n",
    "    ''' Trace over motional state to get only state of qubits.\n",
    "        Params :\n",
    "            qbitstate : Vector of coefficients for each qubit eigenstate (ex. [1,0,0,-i] is a bell state)\n",
    "            motionalstate : Vector of vector of α values for modes. motionalstate[3][1] is the α value for\n",
    "                        the second mode associated with the qubit state |10> (assuming there are 2 qubits).\n",
    "        Returns :\n",
    "            ρ : qutip.Qobj density matrix describing qubits.\n",
    "    '''\n",
    "    N = int(np.log2(len(qbitstate)))\n",
    "    ρ = np.zeros((2**N,2**N),dtype=np.complex_)\n",
    "    for estateket_index in range(2**N):\n",
    "        for estatebra_index in range(2**N):\n",
    "            tracecoeff = np.prod([coherent_innerprod(motionalstate[estatebra_index][k], motionalstate[estateket_index][k]) for k in range(N)])\n",
    "            ρ[estatebra_index, estateket_index] = qbitstate[estatebra_index].conjugate()*qbitstate[estateket_index]*tracecoeff\n",
    "    ρ = qtp.Qobj(ρ, [[2]*N,[2]*N], [2**N,2**N])\n",
    "    return ρ"
   ]
  },
  {
   "cell_type": "code",
   "execution_count": 7,
   "id": "cb1e934f-355f-446a-ab6c-062c0a5c41b3",
   "metadata": {},
   "outputs": [],
   "source": [
    "def convert_x_to_z_basis(ρ):\n",
    "    ''' Convert ρ from x basis to z basis.'''\n",
    "    x_to_z_operator = tensor([qtp.Qobj(1/sqrt(2)*np.array([[1,1],[1,-1]]),[[2],[2]],[2,2])]*N)\n",
    "    return x_to_z_operator*ρ*x_to_z_operator.dag()"
   ]
  },
  {
   "cell_type": "markdown",
   "id": "e94895ea-f6cc-4090-80fd-d16a6dcb191d",
   "metadata": {},
   "source": [
    "## Pulse Optimization"
   ]
  },
  {
   "cell_type": "markdown",
   "id": "933e4849-39ab-4c82-90c3-7fdeb27bd94b",
   "metadata": {},
   "source": [
    "### Unitary"
   ]
  },
  {
   "cell_type": "markdown",
   "id": "a9a4f1b1-b0fa-4920-a747-02a1018fc472",
   "metadata": {},
   "source": [
    "The gate unitary is given by\n",
    "\n",
    "$$\n",
    "U_{MS}(t) = \\exp\\left( \\sum_{i,k} \\sigma_{i} (\\alpha_{i,k}a_k^\\dagger + \\alpha_{i,k}a_k) + \\sum_{i,j} \\chi_{i,j} \\sigma_{i} \\sigma_{j} \\right)\n",
    "$$\n",
    "\n",
    "where $\\sigma_i$ is a rotation on qubit $i$ around some axis determined by the relative phases of the lasers and $a_k$ is the lowering operator for mode $k$. We'll assume that $\\sigma$ is an X rotation."
   ]
  },
  {
   "cell_type": "markdown",
   "id": "0c487761-80b8-46b0-8eb0-ead906ba9c31",
   "metadata": {},
   "source": [
    "### Mode Loop Closure Constraints"
   ]
  },
  {
   "cell_type": "markdown",
   "id": "3f609fed-132c-4637-8d0f-43beda18dec2",
   "metadata": {},
   "source": [
    "In order to close the phase space loop associated with each ion, we must satisfy the condition\n",
    "\n",
    "$$\n",
    "\\alpha_{i,k} = -\\frac{i}{2} \\eta_{i,k} \\int_0^\\tau \\Omega_i(t) e^{i(\\nu_k-\\omega_d)t} dt = 0.\n",
    "$$\n",
    "\n",
    "We define this as a linear constraint of finite dimension by segmenting the pulse into $D$ segments. We'll also assume that $\\Omega_{t_1}(t)=\\Omega_{t_2}(t)$ for the target ions $t_1, t_2$ and also assume that $\\Omega_{i}(t)=0$ for all spectator ions $i$. Thus instead of searching for functions $\\Omega_i(t)$, we will look for a single D-element vector $\\Omega$ where each vector element is the rabi frequency for the corresponding segment of the pulse being applied to the target ions.\n",
    "\n",
    "$$\n",
    "\\Omega_{t_1}(t) = \\Omega_{t_2}(t) = \\Omega_{\\lfloor tD/\\tau \\rfloor}\n",
    "$$\n",
    "\n",
    "For each target ion $i$, we can now state\n",
    "\n",
    "\\begin{align}\n",
    "\\alpha_{i,k} &= -\\frac{i}{2}\\eta_{i,k} \\sum_{s=0}^{D-1} \\Omega_s \\left( \\int_{s\\tau/D}^{(s+1)\\tau/D} e^{i(\\nu_k-\\omega_d)t} dt \\right) = 0\n",
    "\\\\\n",
    "&= -\\frac{i}{2} \\sum_{s=0}^{D-1} \\Omega_s \\left(-i\\eta_{i,k}\\frac{e^{i(\\nu_k-\\omega_d)(s+1)\\tau/D}-e^{i(\\nu_k-\\omega_d)s\\tau/D}}{\\nu_k-\\omega_d}\\right)\n",
    "\\\\\n",
    "&=: \\sum_{s=0}^{D-1} \\Omega_s A_{i,k,s}\n",
    "\\end{align}\n",
    "\n",
    "For each of the target ions $i$, we can define $A_{i}$ as a matrix with one row for each mode and the requirement that $\\Omega$ must be perpendicular to each row. However we can now note that factor of the Lamb-Dicke parameter doesn't affect the null space, so we can calculate a mode-closing $\\Omega$ vector just from the detuning $\\omega_d$ and have it work when the pulse is applied to any ion in the string. Thus we use the same pulse shape for both target ions."
   ]
  },
  {
   "cell_type": "code",
   "execution_count": 8,
   "id": "a0044b10-cab9-47ad-adf2-e1d74fc4778e",
   "metadata": {},
   "outputs": [],
   "source": [
    "def getModeClosingPulseBasis(targets, D, τ, ωd, devicespec):\n",
    "    ν_k = lambda k : devicespec.modes('radial')[k].freq\n",
    "    A = []\n",
    "    for k in range(devicespec.N):\n",
    "        complex_requirement = [(exp(1j*(ν_k(k)-ωd)*(s+1)*τ/D)-exp(1j*(ν_k(k)-ωd)*s*τ/D))/(ν_k(k)-ωd)\n",
    "                    for s in range(D)]\n",
    "        complex_requirement = np.array(complex_requirement)\n",
    "        A.append(complex_requirement.real)\n",
    "        A.append(complex_requirement.imag)\n",
    "    A = np.array(A)\n",
    "    return linalg.null_space(A).T"
   ]
  },
  {
   "cell_type": "markdown",
   "id": "e5e183c0-3053-43ee-bf5e-4d0ab043a867",
   "metadata": {},
   "source": [
    "### Target Gate Angle Constraint"
   ]
  },
  {
   "cell_type": "markdown",
   "id": "96cb85c2-8b93-4999-bf05-b63834b9a945",
   "metadata": {},
   "source": [
    "The XX rotation angle between ions $i$ and $j$ is given by\n",
    "\n",
    "$$\n",
    "\\chi_{i, j} = -\\frac{1}{4} \\sum_k \\eta^k_{i}\\eta^k_{j} \\int_0^\\tau \\int_0^t \\Omega_{i}(t) \\Omega_{j}(t') \\sin((\\omega_d-\\nu_k)(t-t')) dt' dt\n",
    "$$"
   ]
  },
  {
   "cell_type": "markdown",
   "id": "b73f5b70-ac63-4c31-930c-71529d652564",
   "metadata": {},
   "source": [
    "Working with $i=t_1, j=t_2$, we once again chop the time integral up into segments. Chopping up the outer integral into $D$ equal segments is as straightforward as for the mode displacement calculation. Segmenting the inner integral is slightly more complicated because the upper bound of the inner integral does not always fall at the end of a segment. We can visualize the double integral as being over a triangular region with axes $t$ and $t'$. Segmenting the triangle along lines $t=s\\tau/D$ and $t'=s'\\tau/D$ for integer values of $s, s'$ divides the triangle into rectangular regions off the diangonal and triangular regions on the diagonal. In the below expression, the summation over $s'$ indicates the rectangular regions while the second term in the parenthesis handles integration over triangular regions where $s=s'$.\n",
    "\n",
    "\\begin{align}\n",
    "\\chi_{t_1,t_2} & = -\\frac{1}{4} \\sum_k \\eta_{t_1}^k \\eta_{t_2}^k \\sum_{s_1=0}^{D-1} \\Omega_{t_1,s_1} \\int_{s_1\\tau/D}^{(s_1+1)\\tau/D} \\left( \\sum_{s_2=0}^{s_1-1} \\Omega_{t_2,s_2} \\int_{s_2\\tau/D}^{(s_2+1)\\tau/D} \\sin((\\omega_d - \\nu_k)(t-t')) dt' dt + \\Omega_{t_2,s_1} \\int_{s_1\\tau/D}^t \\sin((\\omega_d - \\nu_k)(t-t')) dt' dt\\right)\n",
    "\\\\\n",
    "& = \\pi/4\n",
    "\\end{align}"
   ]
  },
  {
   "cell_type": "markdown",
   "id": "561bcee2-2dd9-4673-ba76-adab506db542",
   "metadata": {},
   "source": [
    "Once again we evaluate the integrals and package the requirement into a matrix-vector equation:\n",
    "\n",
    "$$\n",
    "\\chi_{t_1, t_2} = \\sum_{s_1=0}^{D-1} \\sum_{s_2=0}^{D-1} B_{t_1, t_2, s_1, s_2} \\Omega_{t_1,s_1} \\Omega_{t_2,t_2} = \\Omega_{t_1}^{\\text{T}} B_{t_1, t_2} \\Omega_{t_2} = \\pi/4\n",
    "$$\n",
    "\n",
    "where\n",
    "\n",
    "$$\n",
    "B_{t_1,t_2,s_1,s_2} = -\\frac{1}{4} \\sum_k \\eta^k_{t_1} \\eta^k_{t_2}\n",
    "\\begin{cases}\n",
    "\\int_{s_1\\tau/D}^{(s_1+1)\\tau/D} \\int_{s_2\\tau/D}^{(s_2+1)\\tau/D} \\sin((\\omega_d-\\nu_k)(t-t')) dt' dt & \\quad \\text{if} \\quad s_2 < s_1\n",
    "\\\\\n",
    "\\int_{s_1\\tau/D}^{(s_1+1)\\tau/D} \\int_{s_2\\tau/D}^t \\sin((\\omega_d-\\nu_k)(t-t')) dt' dt & \\quad \\text{if} \\quad s_2=s_1\n",
    "\\\\\n",
    "0 & \\quad \\text{if} \\quad s_2>s_1\n",
    "\\end{cases}\n",
    "$$"
   ]
  },
  {
   "cell_type": "markdown",
   "id": "22803a3a-6182-42f8-88e3-50b95ba6fc1a",
   "metadata": {},
   "source": [
    "Furthermore we can evaluate the integrals used to define the $B$ matrix. This gives us\n",
    "\n",
    "\\begin{align}\n",
    "& \\int_{s_1\\tau/D}^{(s_1+1)\\tau/D} \\int_{s_2\\tau/D}^{(s_2+1)\\tau/D} \\sin((\\omega_d-\\nu_k)(t-t')) dt' dt\n",
    "\\\\\n",
    "& \\quad = \\frac{2\\sin((\\omega_d-\\nu_k)((s_1-s_2)\\tau/D))-\\sin((\\omega_d-\\nu_k)((s_1-s_2+1)\\tau/D))-\\sin((\\omega_d-\\nu_k)((s_1-s_2-1)\\tau/D))}{(\\omega_d-\\nu_k)^2}\n",
    "\\\\\n",
    "& \\quad \\text{for} \\quad s_2\\lt s_1\n",
    "\\end{align}\n",
    "\n",
    "\\begin{align}\n",
    "& \\int_{s_1\\tau/D}^{(s_1+1)\\tau/D} \\int_{s_1\\tau/D}^t \\sin((\\omega_d-\\nu_k)(t-t')) dt' dt\n",
    "\\\\\n",
    "& \\quad = \\frac{\\tau/D}{\\omega_d-\\nu_k} - \\frac{\\sin((\\omega_d-\\nu_k)\\tau/D)}{(\\omega_d-\\nu_k)^2}\n",
    "\\\\\n",
    "& \\quad \\text{for} \\quad s_2=s_1\n",
    "\\end{align}"
   ]
  },
  {
   "cell_type": "code",
   "execution_count": 9,
   "id": "f0505592-3e2d-4dcc-86c2-7e19404d599b",
   "metadata": {},
   "outputs": [],
   "source": [
    "def getGateAngle(ionpair, Ω, τ, ωd, devicespec):\n",
    "    ''' Angle of XX rotation between ionpair. Ω is 2-vector of pulse shape vectors. '''\n",
    "    N = devicespec.N\n",
    "    D = len(Ω[0])\n",
    "    θ = 0\n",
    "    for k in range(N):\n",
    "        δ = ωd-devicespec.modes('radial')[k].freq\n",
    "        LD_product = devicespec.LDparam(k,'radial',ionpair[0])*devicespec.LDparam(k,'radial',ionpair[1])\n",
    "        for s0 in range(D):\n",
    "            for s1 in range(D):\n",
    "                if s1 < s0:\n",
    "                    θ += Ω[0][s0]*Ω[1][s1]*LD_product*-1/4*(2*sin(δ*(s0-s1)*τ/D)-sin(δ*(s0-s1+1)*τ/D)-sin(δ*(s0-s1-1)*τ/D))/δ**2\n",
    "                    θ += Ω[1][s0]*Ω[0][s1]*LD_product*-1/4*(2*sin(δ*(s0-s1)*τ/D)-sin(δ*(s0-s1+1)*τ/D)-sin(δ*(s0-s1-1)*τ/D))/δ**2\n",
    "                elif s1 == s0:\n",
    "                    θ += Ω[0][s0]*Ω[1][s1]*LD_product*-1/4*((τ/D)/δ - sin(δ*τ/D)/δ**2)\n",
    "                    θ += Ω[1][s0]*Ω[0][s1]*LD_product*-1/4*((τ/D)/δ - sin(δ*τ/D)/δ**2)\n",
    "    return θ"
   ]
  },
  {
   "cell_type": "markdown",
   "id": "145dff31-aea8-4f88-a105-5a72764df17f",
   "metadata": {},
   "source": [
    "## MS Gate Unitary"
   ]
  },
  {
   "cell_type": "code",
   "execution_count": 10,
   "id": "5628f9da-66b7-4d73-b3d6-94896380ae90",
   "metadata": {},
   "outputs": [],
   "source": [
    "def getMSState(t, τ, Ω, ωd, devicespec):\n",
    "    '''\n",
    "        t : Time to get state for\n",
    "        τ : Total gate time (used for interpreting Ω)\n",
    "        Ω : Rabi freqs, indexed as [ion index, segment index]\n",
    "        ωd : Detuning from carrier (for blue beam)\n",
    "        devicespec : TIDeviceSpec object\n",
    "    '''\n",
    "    N = devicespec.N\n",
    "    qbitstate = np.ones(2**N, dtype=np.complex_)/sqrt(2**N) # Coefficients in x-basis (All coeffeficients equal corresponds to 0z state)\n",
    "    motionalstate = np.zeros((2**N,N),dtype=np.complex_) # Coherent state α values for each mode for each qubit state\n",
    "\n",
    "    D = len(Ω[0]) # Number of segments\n",
    "\n",
    "    # αki[k,i] is the contribution of ion i to the α-value displacement of mode k\n",
    "    αki = np.zeros((N,N), dtype=np.complex_)\n",
    "    G = np.zeros((N,D,D)) # Triangular matrix for each mode\n",
    "    for k in range(N):\n",
    "        νk = devicespec.modes('radial')[k].freq\n",
    "        δ = ωd-νk\n",
    "        for i in range(N):\n",
    "            αk_without_η = 0\n",
    "            for s in range(D):\n",
    "                # s dictates start time of pulse segment\n",
    "                if (s+1)*τ/D < t: uppertime = (s+1)*τ/D\n",
    "                else: uppertime = t # If t occurs before end of segment, use only run until time t\n",
    "                αk_without_η += -1*Ω[i][s]*(exp(1j*(νk-ωd)*uppertime)-exp(1j*(νk-ωd)*(s*τ/D)))/(νk-ωd)\n",
    "                if (s+1)*τ/D >= t: break\n",
    "            η = devicespec.LDparam(k, \"radial\", i)\n",
    "            αki[k,i] = αk_without_η*η\n",
    "        for s in range(D):\n",
    "            for sprime in range(D):\n",
    "                if sprime < s:\n",
    "                    G[k,s,sprime] = -1/4*(2*sin(δ*(s-sprime)*τ/D)+sin(δ*(s-sprime+1)*τ/D)+sin(δ*(s-sprime-1)*τ/D))/δ**2\n",
    "                elif sprime == s:\n",
    "                    G[k,s,sprime] = -1/4*((τ/D)/δ - sin(δ*τ/D)/δ**2)\n",
    "                # Else if sprime>s, leave G entry as 0\n",
    "\n",
    "    # Calculate angle of XX rotation between all ion pairs (i,j)\n",
    "    χij = np.zeros((N,N), dtype=np.complex_)\n",
    "    for i,j in itertools.product(range(N),range(N)):\n",
    "        B = sum([devicespec.LDparam(k, \"radial\", i)*devicespec.LDparam(k, \"radial\", j)*G[k] for k in range(N)])\n",
    "        χij[i,j] = Ω[i].T@B@Ω[j] # i corresponds to s, j corresponds to s'\n",
    "            \n",
    "    # eigenstateindex is an integer whose binary representation indicate an x-basis eigenstate of the string\n",
    "    for eigenstateindex in range(2**N):\n",
    "        eigenstatevals = np.array(get_bin(eigenstateindex, N))*-2+1 # Convert int to bitstring to vector with 0->+1, 1->-1\n",
    "        # Calculate motional state corresponding to this qubit eigenstate\n",
    "        for k in range(N):\n",
    "            # Sum state-dependent contributions to motional mode displacement\n",
    "            motionalstate[eigenstateindex][k] = sum([αki[k,i]*eigenstatevals[i] for i in range(N)])\n",
    "        # Calculate phase imparted on this eigenstate by all XX interactions\n",
    "        totalXXrotationangle = sum(eigenstatevals[i]*eigenstatevals[j]*χij[i,j] for i,j in itertools.product(range(N),range(N)))\n",
    "        qbitstate[eigenstateindex] *= exp(1j*totalXXrotationangle)\n",
    "    \n",
    "    return qbitstate, motionalstate"
   ]
  },
  {
   "cell_type": "markdown",
   "id": "64bd5947-747f-425b-953b-539fb28be7df",
   "metadata": {},
   "source": [
    "## Testing"
   ]
  },
  {
   "cell_type": "code",
   "execution_count": 11,
   "id": "5db76bdb-b975-4068-b05d-7765735376d0",
   "metadata": {},
   "outputs": [],
   "source": [
    "from scipy.constants import physical_constants\n",
    "M=40*physical_constants['atomic mass constant'][0]\n",
    "\n",
    "qbit_splitting = 2*π*4.1115503520574475e14 # 729nm\n",
    "#raman_wavelen = 355*1e-9 # 355nm, from \"frequency robust ...\" paper\n",
    "#raman_freq = 2*π*scipy.constants.c/raman_wavelen\n",
    "kvec = qbit_splitting/scipy.constants.c\n",
    "\n",
    "νz = 2*π*0.32*1e6 # 0.52MHz + 0.5MHz to make radial mode spacing larger\n",
    "νr = 2*π*2.296*1e6 # 2.296MHz\n",
    "\n",
    "N = 5\n",
    "\n",
    "D = 2*N+1\n",
    "τ = 60-6\n",
    "\n",
    "targets=(0,1)\n",
    "\n",
    "trapspec = TrapSpec(νz, νr)\n",
    "devicespec = TIDeviceSpec(N, trapspec, qbit_splitting, M=M)"
   ]
  },
  {
   "cell_type": "code",
   "execution_count": 12,
   "id": "fe281542-8d89-4150-899e-bad9752a9035",
   "metadata": {},
   "outputs": [],
   "source": [
    "def calcFidelityForModeClosedPulse(targets, ωd, τ, D, xtfrac, devicespec):\n",
    "    N = devicespec.N\n",
    "    neighbors = [i for i in range(N) if i in (targets[0]-1,targets[0]+1,targets[1]-1,targets[1]+1) and i not in targets]\n",
    "    Ω = getModeClosingPulseBasis(targets, D, τ, ωd, devicespec)[0]\n",
    "    θ_before_scaling = getGateAngle(targets, np.array([Ω,Ω]), τ, ωd, devicespec)\n",
    "    Ω *= sqrt((π/4)/abs(θ_before_scaling))\n",
    "    Ω_byion = []\n",
    "    for i in range(N):\n",
    "        if i== targets[0]: Ω_byion.append(Ω)\n",
    "        # Flip phase on second target ion if necessary to make gate angle positive (+π/4 instead of -π/4)\n",
    "        elif i==targets[1]: Ω_byion.append(Ω*np.sign(θ_before_scaling))\n",
    "        # Consider crosstalk on nearest neighbors to simply be some fraction of the pulse on the first target ion\n",
    "        # This doesn't account for a neighbor of the second target ion having crosstalk with a flipped phase if\n",
    "        # the pulse on the second target ion is flipped.\n",
    "        elif i==targets[0]+1 and i==targets[1]-1: Ω_byion.append(Ω*xtfrac*2)\n",
    "        elif i==targets[0]-1 and i==targets[1]+1: Ω_byion.append(Ω*xtfrac*2)\n",
    "        elif i in neighbors: Ω_byion.append(Ω*xtfrac)\n",
    "        else: Ω_byion.append(np.zeros(D))\n",
    "    qbitstate, motionalstate = getMSState(τ, τ, Ω_byion, ωd, devicespec)\n",
    "    ρ_xbasis = trace_over_motion(qbitstate, motionalstate)\n",
    "    ρ = convert_x_to_z_basis(ρ_xbasis)\n",
    "    ψbell1 = qtp.ket2dm(1/sqrt(2)*(tensor(basis(2,0),basis(2,0))+1j*tensor(basis(2,1),basis(2,1))))\n",
    "    ψbell2 = qtp.ket2dm(1/sqrt(2)*(tensor(basis(2,0),basis(2,0))-1j*tensor(basis(2,1),basis(2,1))))\n",
    "    fid = (ψbell2.dag()*ρ.ptrace(targets)).tr()\n",
    "    return fid"
   ]
  },
  {
   "cell_type": "code",
   "execution_count": 13,
   "id": "8b47d15a-521c-4e78-a21f-8967577d9638",
   "metadata": {},
   "outputs": [],
   "source": [
    "def plotFidelityByDetuning(targets, τ, D, xtfrac, devicespec, plotmodes=False):\n",
    "    N = devicespec.N\n",
    "    neighbors = [i for i in range(N) if i in (targets[0]-1,targets[0]+1,targets[1]-1,targets[1]+1) and i not in targets]\n",
    "    min_detuning = devicespec.modes('radial')[0].freq - 0.1e6*2*π\n",
    "    max_detuning = devicespec.modes('radial')[-1].freq + 0.1e6*2*π\n",
    "    fid_by_detuning = []\n",
    "    for ωd in np.arange(min_detuning,max_detuning,1e3*2*π+1):\n",
    "        fid = calcFidelityForModeClosedPulse(targets, ωd, τ, D, xtfrac, devicespec)\n",
    "        fid_by_detuning.append((ωd, fid.real))\n",
    "    fid_by_detuning = np.array(fid_by_detuning)\n",
    "    fig, ax = plt.subplots()\n",
    "    ax.plot(fid_by_detuning[:,0]/(2*π),abs(fid_by_detuning[:,1]))\n",
    "    ax.hlines(np.max(fid_by_detuning[:,1]),xmin=np.min(fid_by_detuning[:,0]/(2*np.pi)),xmax=np.max(fid_by_detuning[:,0]/(2*np.pi)),color=\"red\")\n",
    "    for i in range(len(fid_by_detuning)):\n",
    "        if fid_by_detuning[i,1] == np.max(fid_by_detuning[:,1]):\n",
    "            ax.vlines(x=fid_by_detuning[i,0]/(2*np.pi),ymin=0,ymax=np.max(fid_by_detuning[:,1]),color=\"red\")\n",
    "    if plotmodes:\n",
    "        for mode in devicespec.modes('radial'):\n",
    "            ax.vlines(x=mode.freq/(2*π),ymin=0,ymax=np.max(fid_by_detuning[:,1]), color=\"green\") \n",
    "    ax.set_ylim(0,1)"
   ]
  },
  {
   "cell_type": "code",
   "execution_count": 14,
   "id": "20eae1da-67be-46e2-8843-43253f3a5930",
   "metadata": {},
   "outputs": [
    {
     "data": {
      "image/png": "[encoded data removed]",
      "text/plain": [
       "<Figure size 640x480 with 1 Axes>"
      ]
     },
     "metadata": {},
     "output_type": "display_data"
    }
   ],
   "source": [
    "plotFidelityByDetuning((0,3), τ, D, 0.0236, devicespec, plotmodes=True)"
   ]
  },
  {
   "cell_type": "code",
   "execution_count": 15,
   "id": "6be67e58-748b-4c21-97e8-9ef0fdc31361",
   "metadata": {},
   "outputs": [
    {
     "data": {
      "image/png": "[encoded data removed]",
      "text/plain": [
       "<Figure size 640x480 with 1 Axes>"
      ]
     },
     "metadata": {},
     "output_type": "display_data"
    }
   ],
   "source": [
    "plotFidelityByDetuning((0,3), τ, D, 0.075, devicespec, plotmodes=True)"
   ]
  },
  {
   "cell_type": "code",
   "execution_count": 16,
   "id": "be72426c-95f6-49ed-a136-53428fc6b8a7",
   "metadata": {},
   "outputs": [
    {
     "data": {
      "image/png": "[encoded data removed]",
      "text/plain": [
       "<Figure size 640x480 with 1 Axes>"
      ]
     },
     "metadata": {},
     "output_type": "display_data"
    }
   ],
   "source": [
    "plotFidelityByDetuning((0,4), τ, D, 0.0, devicespec, plotmodes=True)"
   ]
  },
  {
   "cell_type": "code",
   "execution_count": 17,
   "id": "8caf9915-7605-4580-9af0-6e5b145230df",
   "metadata": {},
   "outputs": [
    {
     "data": {
      "text/plain": [
       "[2152418.252618771,\n",
       " 2201138.2850037958,\n",
       " 2241640.0152531406,\n",
       " 2273590.9922632086,\n",
       " 2296000.0]"
      ]
     },
     "execution_count": 17,
     "metadata": {},
     "output_type": "execute_result"
    }
   ],
   "source": [
    "[mode.freq/(2*π) for mode in devicespec.modes('radial')]"
   ]
  },
  {
   "cell_type": "markdown",
   "id": "71755f31-258d-4b92-84d1-8562142be1aa",
   "metadata": {},
   "source": [
    "## Optimization Functions\n",
    "Collection of functions for the optimization routine and pre-existing functions. Some functinos needed to be redefined to work properly with scipys optimization function."
   ]
  },
  {
   "cell_type": "code",
   "execution_count": 18,
   "id": "58c3ec15-c151-49c8-88d6-11fc6dfe67ce",
   "metadata": {},
   "outputs": [],
   "source": [
    "import matplotlib.cm as cm\n",
    "import scipy.optimize as opt"
   ]
  },
  {
   "cell_type": "code",
   "execution_count": 19,
   "id": "da90417e",
   "metadata": {},
   "outputs": [],
   "source": [
    "def generateOptimalPulse(targets, D, τ, devicespec):\n",
    "    N = devicespec.N\n",
    "    neighbors = [i for i in range(N) if i in (targets[0]-1,targets[0]+1,targets[1]-1,targets[1]+1) and i not in targets]\n",
    "    xtalkpairs = list(itertools.product(targets, neighbors))\n",
    "    min_detuning = devicespec.modes('radial')[0].freq - 0.1e6*2*π\n",
    "    max_detuning = devicespec.modes('radial')[-1].freq + 0.1e6*2*π\n",
    "    errgate_str_by_detuning = []\n",
    "    for ωd in np.arange(min_detuning,max_detuning,1e3*2*π+1):\n",
    "        Ω = getModeClosingPulseBasis(targets, D, τ, ωd, devicespec)[0]\n",
    "        target_strength = getGateAngle(targets, np.array([Ω,Ω]), τ, ωd, devicespec)\n",
    "        errgate_str = sum([(getGateAngle(xtalkpair, np.array([Ω,Ω/10]), τ, ωd, devicespec)/target_strength)**2 for xtalkpair in xtalkpairs])\n",
    "        errgate_str_by_detuning.append((ωd, errgate_str))\n",
    "    errgate_str_by_detuning = np.array(errgate_str_by_detuning)\n",
    "    bestωd = errgate_str_by_detuning[np.argmin(errgate_str_by_detuning[:,1])][0]\n",
    "    error = errgate_str_by_detuning[np.argmin(errgate_str_by_detuning[:,1])][1]\n",
    "    Ω = getModeClosingPulseBasis(targets, D, τ, bestωd, devicespec)[0]\n",
    "    unscaledθ = getGateAngle(targets, np.array([Ω,Ω]), τ, bestωd, devicespec)\n",
    "    Ω *= sqrt((π/4)/abs(unscaledθ)) # Make sure gate is XX(π/4)\n",
    "    return bestωd, [Ω, Ω*np.sign(unscaledθ)], error # Flip the phase on one ion to get positive gate angle\n",
    "\n",
    "def plotXTalkbyDetuning(targets, D, τ, devicespec, plotmodes=True):\n",
    "    N = devicespec.N\n",
    "    neighbors = [i for i in range(N) if i in (targets[0]-1,targets[0]+1,targets[1]-1,targets[1]+1) and i not in targets]\n",
    "    xtalkpairs = list(itertools.product(targets, neighbors))\n",
    "    min_detuning = devicespec.modes('radial')[0].freq - 0.1e6*2*π\n",
    "    max_detuning = devicespec.modes('radial')[-1].freq + 0.1e6*2*π\n",
    "    errgate_str_by_detuning = []\n",
    "    for ωd in np.arange(min_detuning,max_detuning,1e3*2*π+1):\n",
    "        Ω = getModeClosingPulseBasis(targets, D, τ, ωd, devicespec)[0]\n",
    "        target_strength = getGateAngle(targets, np.array([Ω,Ω]), τ, ωd, devicespec)\n",
    "        errgate_str = sum([(getGateAngle(xtalkpair, np.array([Ω,Ω/10]), τ, ωd, devicespec)/target_strength)**2 for xtalkpair in xtalkpairs])\n",
    "        errgate_str_by_detuning.append((ωd, errgate_str))\n",
    "    errgate_str_by_detuning = np.array(errgate_str_by_detuning)\n",
    "    fig, ax = plt.subplots()\n",
    "    ax.plot(errgate_str_by_detuning[:,0]/(2*π),abs(errgate_str_by_detuning[:,1]))\n",
    "    ax.hlines(np.min(errgate_str_by_detuning[:,1]),xmin=np.min(errgate_str_by_detuning[:,0]/(2*np.pi)),xmax=np.max(errgate_str_by_detuning[:,0]/(2*np.pi)),color=\"red\")\n",
    "    for i in range(len(errgate_str_by_detuning)):\n",
    "        if errgate_str_by_detuning[i,1] == np.min(errgate_str_by_detuning[:,1]):\n",
    "            ax.vlines(x=errgate_str_by_detuning[i,0]/(2*np.pi),ymin=np.min(errgate_str_by_detuning[:,1]),ymax=1,color=\"red\")\n",
    "    if plotmodes:\n",
    "        for mode in devicespec.modes('radial'):\n",
    "            ax.vlines(x=mode.freq/(2*π),ymin=np.min(errgate_str_by_detuning[:,1]),ymax=1, color=\"green\")\n",
    "    ax.set_ylim(0,1) \n",
    "\n",
    "def getGateAngleMinimize(ωd, ionpair, Ω, τ, devicespec):\n",
    "    ''' Angle of XX rotation between ionpair. Ω is 2-vector of pulse shape vectors. '''\n",
    "    N = devicespec.N\n",
    "    D = len(Ω[0])\n",
    "    θ = 0\n",
    "    for k in range(N):\n",
    "        δ = ωd-devicespec.modes('radial')[k].freq\n",
    "        LD_product = devicespec.LDparam(k,'radial',ionpair[0])*devicespec.LDparam(k,'radial',ionpair[1])\n",
    "        for s0 in range(D):\n",
    "            for s1 in range(D):\n",
    "                if s1 < s0:\n",
    "                    θ += Ω[0][s0]*Ω[1][s1]*LD_product*-1/4*(2*sin(δ*(s0-s1)*τ/D)-sin(δ*(s0-s1+1)*τ/D)-sin(δ*(s0-s1-1)*τ/D))/δ**2\n",
    "                    θ += Ω[1][s0]*Ω[0][s1]*LD_product*-1/4*(2*sin(δ*(s0-s1)*τ/D)-sin(δ*(s0-s1+1)*τ/D)-sin(δ*(s0-s1-1)*τ/D))/δ**2\n",
    "                elif s1 == s0:\n",
    "                    θ += Ω[0][s0]*Ω[1][s1]*LD_product*-1/4*((τ/D)/δ - sin(δ*τ/D)/δ**2)\n",
    "                    θ += Ω[1][s0]*Ω[0][s1]*LD_product*-1/4*((τ/D)/δ - sin(δ*τ/D)/δ**2)\n",
    "    return θ\n",
    "\n",
    "def getModeClosingPulseBasisMinimize(ωd,targets, D, τ, devicespec):\n",
    "    ν_k = lambda k : devicespec.modes('radial')[k].freq\n",
    "    A = []\n",
    "    for k in range(devicespec.N):\n",
    "        complex_requirement = [(exp(1j*(ν_k(k)-ωd)*(s+1)*τ/D)-exp(1j*(ν_k(k)-ωd)*s*τ/D))/(ν_k(k)-ωd)\n",
    "                    for s in range(D)]\n",
    "        complex_requirement = np.array(complex_requirement)\n",
    "        A.append(complex_requirement.real)\n",
    "        A.append(complex_requirement.imag)\n",
    "    A = np.array(A)\n",
    "    return linalg.null_space(A).T\n",
    "\n",
    "def angleError(ωd, targets, D, τ, devicespec, xtalkpairs):\n",
    "    Ω = getModeClosingPulseBasisMinimize(ωd[0],targets, D, τ, devicespec)[0]\n",
    "    target_strength = getGateAngleMinimize(ωd[0], targets, np.array([Ω,Ω]), τ, devicespec)\n",
    "    return sum([(getGateAngleMinimize(ωd[0], xtalkpair, np.array([Ω,Ω/10]), τ, devicespec)/target_strength)**2 for xtalkpair in xtalkpairs])\n",
    "\n",
    "def minimizeError(targets, D, τ, devicespec, mode_dict = None, has_dict = False):\n",
    "    min_detuning = devicespec.modes('radial')[0].freq - 0.1e6*2*π\n",
    "    max_detuning = devicespec.modes('radial')[-1].freq + 0.1e6*2*π\n",
    "    if has_dict:\n",
    "        ωd0 = devicespec.modes('radial')[mode_dict[targets]].freq +1000\n",
    "    else:\n",
    "        ωd0 = (max_detuning+min_detuning)/2\n",
    "    neighbors = [i for i in range(N) if i in (targets[0]-1,targets[0]+1,targets[1]-1,targets[1]+1) and i not in targets]\n",
    "    xtalkpairs = list(itertools.product(targets, neighbors))\n",
    "    result = opt.least_squares(angleError, ωd0, args=(targets, D, τ, devicespec, xtalkpairs), bounds=(min_detuning, max_detuning), \\\n",
    "                              method='trf', ftol=1e-12)\n",
    "    return result.x\n",
    "    \n"
   ]
  },
  {
   "cell_type": "code",
   "execution_count": 20,
   "id": "2dfd50d2",
   "metadata": {},
   "outputs": [
    {
     "data": {
      "image/png": "[encoded data removed]",
      "text/plain": [
       "<Figure size 640x480 with 1 Axes>"
      ]
     },
     "metadata": {},
     "output_type": "display_data"
    }
   ],
   "source": [
    "plotXTalkbyDetuning((0,4), D, τ, devicespec)"
   ]
  },
  {
   "cell_type": "code",
   "execution_count": 21,
   "id": "7a34dd92",
   "metadata": {},
   "outputs": [],
   "source": [
    "#used this matrix to find the best detuning to minimize crosstalk for a 5 ion chain\n",
    "best_mode = np.matrix('-1 1 2 3 3; 1 -1 0 1 3; 2 0 -1 0 2; 3 1 0 -1 1; 3 3 2 1 -1')"
   ]
  },
  {
   "cell_type": "code",
   "execution_count": 31,
   "id": "75f1e51a",
   "metadata": {},
   "outputs": [],
   "source": [
    "#Initial Parameters\n",
    "M=40*physical_constants['atomic mass constant'][0]\n",
    "\n",
    "qbit_splitting = 2*π*4.1115503520574475e14 # 729nm\n",
    "#raman_wavelen = 355*1e-9 # 355nm, from \"frequency robust ...\" paper\n",
    "#raman_freq = 2*π*scipy.constants.c/raman_wavelen\n",
    "kvec = qbit_splitting/scipy.constants.c\n",
    "\n",
    "νz = 2*π*0.32*1e6 # 0.52MHz + 0.5MHz to make radial mode spacing larger\n",
    "νr = 2*π*2.296*1e6 # 2.296MHz\n",
    "\n",
    "N = 5\n",
    "\n",
    "D = 2*N+1\n",
    "τ = 60-6\n",
    "\n",
    "targets=(0,1)\n",
    "\n",
    "trapspec = TrapSpec(νz, νr)\n",
    "devicespec = TIDeviceSpec(N, trapspec, qbit_splitting, M=M)\n",
    "#virkam wd/error 13866755.395581383/3.150156392023453e-05\n",
    "N = devicespec.N\n",
    "crosstalk_ratio = 0.075\n",
    "\n",
    "final = []\n",
    "fidelity = np.zeros((N,N))\n",
    "for targets in itertools.combinations(range(N),2):\n",
    "    result = minimizeError(targets,D,τ,devicespec, mode_dict = best_mode, has_dict = True)\n",
    "    ωd = result[0]\n",
    "    #print(devicespec.LDparam(1,'radial',0),devicespec.LDparam(1,'radial',1),devicespec.LDparam(1,'radial',2))\n",
    "    fid = calcFidelityForModeClosedPulse(targets, ωd, τ, D, crosstalk_ratio, devicespec)\n",
    "    final.append([targets, fid.real, ωd])\n",
    "    fidelity[targets[0],targets[1]] = fid.real; fidelity[targets[1],targets[0]] = fid.real "
   ]
  },
  {
   "cell_type": "code",
   "execution_count": 23,
   "id": "4af8fe80",
   "metadata": {},
   "outputs": [
    {
     "name": "stdout",
     "output_type": "stream",
     "text": [
      "(0, 1) 2193952.8714729836\n",
      "(0, 2) 2242516.5283075\n",
      "(0, 3) 2288371.1253818516\n",
      "(0, 4) 2298196.846595148\n",
      "(1, 2) 2142686.577594687\n",
      "(1, 3) 2207977.789532656\n",
      "(1, 4) 2288371.1251555393\n",
      "(2, 3) 2142686.5775947934\n",
      "(2, 4) 2242516.5283079925\n",
      "(3, 4) 2193952.871468163\n"
     ]
    }
   ],
   "source": [
    "for i in range(len(final)):\n",
    "    print(final[i][0],final[i][2]/(2*np.pi))"
   ]
  },
  {
   "cell_type": "code",
   "execution_count": 32,
   "id": "778603f4",
   "metadata": {},
   "outputs": [
    {
     "name": "stdout",
     "output_type": "stream",
     "text": [
      "[[0. 1. 2. 3. 3.]\n",
      " [0. 0. 0. 1. 3.]\n",
      " [0. 0. 0. 0. 2.]\n",
      " [0. 0. 0. 0. 1.]\n",
      " [0. 0. 0. 0. 0.]]\n"
     ]
    }
   ],
   "source": [
    "mode_freqs = np.zeros(N)\n",
    "for i in range(N):\n",
    "    mode_freqs[i] = devicespec.modes('radial')[i].freq\n",
    "closest_mode = np.zeros([N,N])\n",
    "for i in range(len(final)):\n",
    "    closest_mode[final[i][0][0],final[i][0][1]] = np.argmin(np.abs(final[i][2]-mode_freqs))\n",
    "\n",
    "print(closest_mode)"
   ]
  },
  {
   "cell_type": "code",
   "execution_count": 25,
   "id": "bdf6a0bc",
   "metadata": {},
   "outputs": [],
   "source": [
    "import seaborn as sb"
   ]
  },
  {
   "cell_type": "code",
   "execution_count": 33,
   "id": "3d926246",
   "metadata": {},
   "outputs": [
    {
     "name": "stdout",
     "output_type": "stream",
     "text": [
      "[[0.         0.99999952 0.99017001 0.98978621 0.99713931]\n",
      " [0.99999952 0.         0.9957017  0.99618011 0.98978621]\n",
      " [0.99017001 0.9957017  0.         0.99570175 0.99017001]\n",
      " [0.98978621 0.99618011 0.99570175 0.         0.99999952]\n",
      " [0.99713931 0.98978621 0.99017001 0.99999952 0.        ]]\n"
     ]
    },
    {
     "data": {
      "text/plain": [
       "<matplotlib.colorbar.Colorbar at 0x12e1734c0>"
      ]
     },
     "execution_count": 33,
     "metadata": {},
     "output_type": "execute_result"
    },
    {
     "data": {
      "image/png": "[encoded data removed]",
      "text/plain": [
       "<Figure size 640x480 with 2 Axes>"
      ]
     },
     "metadata": {},
     "output_type": "display_data"
    }
   ],
   "source": [
    "print(fidelity)\n",
    "cmap = sb.color_palette(\"mako_r\", as_cmap=True)\n",
    "plt.imshow(np.log10(1-fidelity), cmap=cmap, interpolation='nearest', vmin=-4, vmax=0)\n",
    "plt.colorbar()"
   ]
  },
  {
   "cell_type": "code",
   "execution_count": 27,
   "id": "f827a172",
   "metadata": {},
   "outputs": [],
   "source": [
    "np.save('fidelityDiscretePulse.npy',fidelity)"
   ]
  },
  {
   "cell_type": "code",
   "execution_count": 28,
   "id": "581cf8f6-5dcc-499a-961c-473da271ae88",
   "metadata": {},
   "outputs": [
    {
     "ename": "NameError",
     "evalue": "name 'Ω_targetions' is not defined",
     "output_type": "error",
     "traceback": [
      "\u001b[0;31m---------------------------------------------------------------------------\u001b[0m",
      "\u001b[0;31mNameError\u001b[0m                                 Traceback (most recent call last)",
      "Cell \u001b[0;32mIn[28], line 7\u001b[0m\n\u001b[1;32m      5\u001b[0m Ω_byion \u001b[38;5;241m=\u001b[39m []\n\u001b[1;32m      6\u001b[0m \u001b[38;5;28;01mfor\u001b[39;00m i \u001b[38;5;129;01min\u001b[39;00m \u001b[38;5;28mrange\u001b[39m(N):\n\u001b[0;32m----> 7\u001b[0m     \u001b[38;5;28;01mif\u001b[39;00m i\u001b[38;5;241m==\u001b[39mtargets[\u001b[38;5;241m0\u001b[39m]: Ω_byion\u001b[38;5;241m.\u001b[39mappend(Ω_targetions[\u001b[38;5;241m0\u001b[39m])\n\u001b[1;32m      8\u001b[0m     \u001b[38;5;28;01melif\u001b[39;00m i\u001b[38;5;241m==\u001b[39mtargets[\u001b[38;5;241m1\u001b[39m]: Ω_byion\u001b[38;5;241m.\u001b[39mappend(Ω_targetions[\u001b[38;5;241m1\u001b[39m])\n\u001b[1;32m      9\u001b[0m     \u001b[38;5;28;01melse\u001b[39;00m: Ω_byion\u001b[38;5;241m.\u001b[39mappend(np\u001b[38;5;241m.\u001b[39mzeros(D)) \u001b[38;5;66;03m# No crosstalk\u001b[39;00m\n",
      "\u001b[0;31mNameError\u001b[0m: name 'Ω_targetions' is not defined"
     ]
    },
    {
     "data": {
      "image/png": "[encoded data removed]",
      "text/plain": [
       "<Figure size 640x480 with 1 Axes>"
      ]
     },
     "metadata": {},
     "output_type": "display_data"
    }
   ],
   "source": [
    "λ = 2 # Which qubit eigenstate to plot the associated motion of\n",
    "k = 0 # Which mode to plot displacement of\n",
    "fig, ax = plt.subplots()\n",
    "t=τ\n",
    "Ω_byion = []\n",
    "for i in range(N):\n",
    "    if i==targets[0]: Ω_byion.append(Ω_targetions[0])\n",
    "    elif i==targets[1]: Ω_byion.append(Ω_targetions[1])\n",
    "    else: Ω_byion.append(np.zeros(D)) # No crosstalk\n",
    "for s in range(D):\n",
    "    if (s+1)*τ/D < t: uppertime = (s+1)*τ/D\n",
    "    else: uppertime = t\n",
    "    αvals = [getMSState(tprime, τ, Ω_byion, ωd, devicespec)[1][λ][k] for tprime in np.linspace(s*τ/D, uppertime, 100)]\n",
    "    ax.plot(np.real(αvals), np.imag(αvals), color=cm.tab20(s))\n",
    "    if (s+1)*τ/D >= t: break\n",
    "    # print(s)\n",
    "\n",
    "plt.show()"
   ]
  }
 ],
 "metadata": {
  "kernelspec": {
   "display_name": "Python 3 (ipykernel)",
   "language": "python",
   "name": "python3"
  },
  "language_info": {
   "codemirror_mode": {
    "name": "ipython",
    "version": 3
   },
   "file_extension": ".py",
   "mimetype": "text/x-python",
   "name": "python",
   "nbconvert_exporter": "python",
   "pygments_lexer": "ipython3",
   "version": "3.10.14"
  }
 },
 "nbformat": 4,
 "nbformat_minor": 5
}
