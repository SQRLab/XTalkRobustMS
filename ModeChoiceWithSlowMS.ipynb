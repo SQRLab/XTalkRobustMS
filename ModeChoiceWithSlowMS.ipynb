{
 "cells": [
  {
   "cell_type": "markdown",
   "id": "697ce3e5-eff9-42ed-8e4a-a1caae3b4524",
   "metadata": {},
   "source": [
    "# Mode Choice with Slow MS Gates"
   ]
  },
  {
   "cell_type": "markdown",
   "id": "f676b670-7532-4407-be16-49e637c4e12d",
   "metadata": {},
   "source": [
    "We investigate how mode choice can be used to improve the fidelity of MS gates in the presence of optical crosstalk."
   ]
  },
  {
   "cell_type": "markdown",
   "id": "b2b57f6e-0b12-4ec3-8147-b0b113315aea",
   "metadata": {},
   "source": [
    "## Code Setup"
   ]
  },
  {
   "cell_type": "markdown",
   "id": "8fdc4ce8-5002-4af1-a213-47e14e57a8fe",
   "metadata": {},
   "source": [
    "### Imports"
   ]
  },
  {
   "cell_type": "code",
   "execution_count": 1,
   "id": "dc53461e-cbfd-459e-87de-d7db61be2a0e",
   "metadata": {},
   "outputs": [],
   "source": [
    "import scipy.constants\n",
    "from scipy.constants import physical_constants\n",
    "import numpy as np\n",
    "from numpy import exp, sqrt, sin\n",
    "from math import factorial\n",
    "import itertools\n",
    "import matplotlib.pyplot as plt"
   ]
  },
  {
   "cell_type": "code",
   "execution_count": 2,
   "id": "96177981-ed03-4946-8446-58c9a5169f18",
   "metadata": {},
   "outputs": [],
   "source": [
    "import importlib\n",
    "import sys, os\n",
    "from pathlib import Path\n",
    "sys.path.append('tools/')\n",
    "import IonChainTools as ict\n",
    "import MSFidelityEstimation as msfe\n",
    "importlib.reload(msfe)\n",
    "from MSFidelityEstimation import *"
   ]
  },
  {
   "cell_type": "markdown",
   "id": "a5741ded-7281-477c-a3de-8b8c6f901af7",
   "metadata": {},
   "source": [
    "### Functions"
   ]
  },
  {
   "cell_type": "markdown",
   "id": "38d74e87-c8c2-431a-9e14-dfa687a8ca00",
   "metadata": {},
   "source": [
    "## Device Parameters"
   ]
  },
  {
   "cell_type": "markdown",
   "id": "9fa625d4-eaaf-4012-9836-43b7026849d9",
   "metadata": {},
   "source": [
    "We pick physical parameters to match those used on the QSCOUT system."
   ]
  },
  {
   "cell_type": "code",
   "execution_count": 3,
   "id": "73d15a08-c6aa-438f-ae6a-121a5ef8c171",
   "metadata": {},
   "outputs": [],
   "source": [
    "# Ytterbium171\n",
    "M=171*physical_constants['atomic mass constant'][0]\n",
    "\n",
    "# Laser wavelength\n",
    "# carrier_wavelen = # 355*1e-9 # 355nm, from \"frequency robust ...\" paper\n",
    "# carrier_wavenum = 2*π/carrier_wavelen # Laser wavenumber (k)\n",
    "# carrier_freq = scipy.constants.c*carrier_wavenum\n",
    "qbit_splitting = 2*π*12.643*1e6 # qubit splitting, from \"Engineering The ...\" paper\n",
    "raman_wavelen = 355*1e-9 # 355nm, from \"frequency robust ...\" paper\n",
    "raman_freq = 2*π*scipy.constants.c/raman_wavelen\n",
    "kvec = qbit_splitting/scipy.constants.c*np.sqrt(2)\n",
    "\n",
    "# Rabi rate\n",
    "Ωpeak = 2*π*190*1e3 # 190MHz, quoted in \"Frequency-robust MS ...\" paper"
   ]
  },
  {
   "cell_type": "code",
   "execution_count": 4,
   "id": "d74ee212-d128-4ea2-a087-d7a378e391f4",
   "metadata": {},
   "outputs": [],
   "source": [
    "# Trap specifications\n",
    "# Axial COM of 0.52MHz and highest radial mode of 2.296MHz are quoted in \n",
    "# \"Frequency-robust Mølmer-Sørensen gates via balanced contributions of multiple motional modes\"\n",
    "# νz = 2*π*0.52*1e6 # 0.52MHz, not used here since we adjust νz to fix ion spacing\n",
    "νr = 2*π*2.296*1e6 # 2.296MHz"
   ]
  },
  {
   "cell_type": "code",
   "execution_count": 5,
   "id": "3e3318a2-05cc-4931-9c27-006748bcfd3e",
   "metadata": {},
   "outputs": [],
   "source": [
    "# Optical Crosstalk, from \"ENGINEERING THE QUANTUM SCIENTIFIC COMPUTING OPEN USER TESTBED\"\n",
    "# These values are scaled such that Ω=1 for the target ion\n",
    "neighΩ = 0.0236 # Rabi frequency on neighbor of target ion\n",
    "nneighΩ = 0.006 # Rabi frequency on next neighbor of target ion"
   ]
  },
  {
   "cell_type": "code",
   "execution_count": 6,
   "id": "80defbb9-08a7-42a4-9d14-50903a28819a",
   "metadata": {},
   "outputs": [],
   "source": [
    "# Blue and Red beam phases\n",
    "# Below should implement X gate\n",
    "ϕB = π/2\n",
    "ϕR = π/2"
   ]
  },
  {
   "cell_type": "markdown",
   "id": "5f2b2c4e-21fd-4d00-8daa-6b5b4311d1e5",
   "metadata": {},
   "source": [
    "## Fixed Axial Frequency"
   ]
  },
  {
   "cell_type": "markdown",
   "id": "1c2354ac-34c4-4efc-82e0-b086258dabd5",
   "metadata": {},
   "source": [
    "**Unfortunately, if we fix axial frequency, when there are a high number of ions in the string, more ions have non-negligible crosstalk than can be simulated. I'll look at how to deal with this.**"
   ]
  },
  {
   "cell_type": "markdown",
   "id": "981e5734-aa31-46c9-a36e-cd4975f7d08d",
   "metadata": {},
   "source": [
    "## Fixed Ion Spacing through Axial Frequency Adjustment"
   ]
  },
  {
   "cell_type": "markdown",
   "id": "1b14625f-9282-468d-ad89-50daad5cd375",
   "metadata": {},
   "source": [
    "### Maintaining Ion Spacing"
   ]
  },
  {
   "cell_type": "markdown",
   "id": "3b190374-2ea2-4bae-a4c9-f74e9dc48103",
   "metadata": {},
   "source": [
    "We will consider a fixed minimum ion spacing of 4$\\mu$m."
   ]
  },
  {
   "cell_type": "code",
   "execution_count": 7,
   "id": "a8691a63-87a6-4d8e-8615-27ed0205fbc0",
   "metadata": {},
   "outputs": [],
   "source": [
    "minspacing = 4e-6"
   ]
  },
  {
   "cell_type": "markdown",
   "id": "aa8b2738-08f6-4491-af01-6212b054adf7",
   "metadata": {},
   "source": [
    "We calculate the axial trap frequencies necessary to keep this spacing constant as $N$, the number of ions in the string, increases."
   ]
  },
  {
   "cell_type": "code",
   "execution_count": 8,
   "id": "131ccb10-f338-4dc3-a79b-6843e562d3ef",
   "metadata": {},
   "outputs": [],
   "source": [
    "Nmax = 20\n",
    "axialfreqs_for_fixed_spacing = {N:ict.axialfreq_from_minimum_spacing(N, M, minspacing) for N in range(2, Nmax+1)}"
   ]
  },
  {
   "cell_type": "markdown",
   "id": "7f3c4222-448f-4ac0-91f0-e69e8c4bcfdf",
   "metadata": {},
   "source": [
    "We also calculate the radial frequencies necessary to keep the string stable with these lower axial frequencies."
   ]
  },
  {
   "cell_type": "code",
   "execution_count": 10,
   "id": "061cbc96-f13c-476b-bd9f-327e78290741",
   "metadata": {},
   "outputs": [],
   "source": [
    "radialfreqs_for_fixed_spacing = {N : ict.trap_freq_ratio_for_stablility(N)*axialfreqs_for_fixed_spacing[N] for N in range(2,Nmax+1)}"
   ]
  },
  {
   "cell_type": "markdown",
   "id": "6dba9d8a-1577-4eda-84ae-1d906af31744",
   "metadata": {},
   "source": [
    "### Resolving A Single Radial Mode"
   ]
  },
  {
   "cell_type": "markdown",
   "id": "17ac477e-ed37-4a88-a962-fd00f7386397",
   "metadata": {},
   "source": [
    "These radial and axial frequencies will dictate the frequency spacing of the radial modes we want to use for the MS gate. We calculate the minimum frequency spacing between radial modes and accordingly set the gate time to make sure that the individual modes can still be resolved. Contribution to the gate from a mode is inversely proportional to the detuning of the laser from the sideband corresponding to the mode. Thus is we want only one mode to take part in the gate, we need the detuning from the target mode to be much smaller than the detuning from the nearest spectator mode.\n",
    "\n",
    "If the minimum frequency spacing of the radial modes is $\\Delta \\nu$ and the detuning of the laser from the target mode is $\\delta$, then we require $\\delta << \\Delta \\nu$. The associated gate time therefore be at least\n",
    "\n",
    "$$\n",
    "\\tau = \\frac{2\\pi K}{\\delta} >> \\frac{2\\pi K}{\\Delta \\nu}\n",
    "$$\n",
    "\n",
    "where K is the number of loops in phase space we want to use to complete the gate. We'll choose $K=1$ to minimize gate time."
   ]
  },
  {
   "cell_type": "code",
   "execution_count": 12,
   "id": "b37a3d16-0f94-4820-834e-0d9154277c14",
   "metadata": {},
   "outputs": [
    {
     "name": "stdout",
     "output_type": "stream",
     "text": [
      "Minimum spacing of radial modes: 8.064kHz\n"
     ]
    }
   ],
   "source": [
    "radialmodes = ict.calcRadialModes(Nmax, νratio = radialfreqs_for_fixed_spacing[Nmax]/axialfreqs_for_fixed_spacing[Nmax])\n",
    "min_radial_mode_spacing = np.min([radialmodes[i+1][0]-radialmodes[i][0] for i in range(Nmax-1)])*axialfreqs_for_fixed_spacing[Nmax]\n",
    "print(f\"Minimum spacing of radial modes: {min_radial_mode_spacing/(2*π)/1e3:.4g}kHz\")"
   ]
  },
  {
   "cell_type": "code",
   "execution_count": 13,
   "id": "91f2e61d-fe9b-4649-b82a-fef0aa195046",
   "metadata": {},
   "outputs": [
    {
     "name": "stdout",
     "output_type": "stream",
     "text": [
      "Slow gate time: 12401μs\n"
     ]
    }
   ],
   "source": [
    "slowness = 0.01 # How much to slow gate by to achieve the δ<<Δν\n",
    "δ = min_radial_mode_spacing*slowness\n",
    "τ = 2*π/δ\n",
    "print(f\"Slow gate time: {τ*1e6:.0f}μs\")"
   ]
  },
  {
   "cell_type": "markdown",
   "id": "3b2a1b6a-3b39-4a2a-a2d7-07575ef4bb15",
   "metadata": {},
   "source": [
    "### Gate Fidelities"
   ]
  },
  {
   "cell_type": "markdown",
   "id": "319491a4-725d-44c2-b2ea-145d1feaaa8b",
   "metadata": {},
   "source": [
    "Now we calculate the gate fidelity between every pair of ions in strings of various lengths."
   ]
  },
  {
   "cell_type": "code",
   "execution_count": 15,
   "id": "05095cd3-5cf2-4740-bc6e-4076fb93a286",
   "metadata": {},
   "outputs": [
    {
     "name": "stdout",
     "output_type": "stream",
     "text": [
      "2\n",
      "4\n",
      "6\n",
      "8\n",
      "10\n",
      "12\n",
      "14\n",
      "16\n",
      "18\n",
      "20\n"
     ]
    }
   ],
   "source": [
    "fids_fixedspacing = {}\n",
    "Nmax = 20\n",
    "modetype='radial'\n",
    "modextalk=True\n",
    "K=1\n",
    "bw=2.5e-6\n",
    "for N in range(2, Nmax+1, 2):\n",
    "    νz = axialfreqs_for_fixed_spacing[N]\n",
    "    trapspec = TrapSpec(νz, radialfreqs_for_fixed_spacing[N])\n",
    "    fidsarr = np.zeros((N,N,N))\n",
    "    devicespec = TIDeviceSpec(N, trapspec, qbit_splitting, raman_freq, M)\n",
    "    for targets in itertools.combinations(range(N),2):\n",
    "        for m in range(N):\n",
    "            ωd, Ω = calc_necessary_sideband_detuning_and_rabi_freq(devicespec, targets, m, modetype, τ, K=K)\n",
    "            Ωvals = Ω*ict.Ωvals_from_gaussian_crosstalk(N, targets, νz, M, bw)\n",
    "            #Ωvals = Ω*Ωvals_from_fixed_neighbor_xtalk(N, targets, 0.05)\n",
    "            mslaserspec = MSLaserSpec(ωd, Ωvals, ϕB, ϕR)\n",
    "            simmodes = list(range(N)) if modextalk==True else [m]\n",
    "            msopspec = MSOpSpec(devicespec, mslaserspec, τ, targets=targets, m=m, modetype=modetype, K=K)\n",
    "            ρf, ionindices = MS_Analytical_zeroinitalstate_tracemodes(msopspec, simmodes=simmodes,modetype=modetype, modetrunc=2)\n",
    "            fidions = targets\n",
    "            traceindices = [ionindices.index(i) for i in fidions]\n",
    "            ρred = ρf.ptrace(traceindices)\n",
    "            fid = (abs(ρred[0,0]) + abs(ρred[3,3]) + abs(2*ρred[3,0].imag))/2\n",
    "            fidsarr[targets[0],targets[1],m] = fidsarr[targets[1],targets[0],m] = fid\n",
    "    fids_fixedspacing[N] = fidsarr\n",
    "    print(N, flush=True)"
   ]
  },
  {
   "cell_type": "code",
   "execution_count": 16,
   "id": "d7c704f6-bbd4-4f2d-89f5-17902c3879ff",
   "metadata": {},
   "outputs": [
    {
     "data": {
      "image/png": "[encoded data removed]",
      "text/plain": [
       "<Figure size 640x480 with 1 Axes>"
      ]
     },
     "metadata": {},
     "output_type": "display_data"
    }
   ],
   "source": [
    "avgfids_COM_fixedspacing = [np.average([fidsarr[i,j,N-1] for i,j in itertools.combinations(range(N),2)]) for N,fidsarr in fids_fixedspacing.items()]\n",
    "avgfids_best_fixedspacing = [np.average([np.max(fidsarr[i,j,:]) for i,j in itertools.combinations(range(N),2)]) for N,fidsarr in fids_fixedspacing.items()]\n",
    "fig, ax = plt.subplots()\n",
    "ax.plot(np.arange(2,Nmax+1,2), avgfids_best_fixedspacing, label=\"Avg Fid Using Best Mode\")\n",
    "ax.plot(np.arange(2,Nmax+1,2), avgfids_COM_fixedspacing, label=\"Avg Fid Always Using COM Mode\")\n",
    "ax.set_xlabel('$N$')\n",
    "ax.set_xticks(np.arange(2,Nmax+1,2))\n",
    "ax.set_ylabel(\"Fidelity\")\n",
    "ax.set_title(f\"Fidelity Averaged Across Pairs \\n Gaussian Profile Crosstalk (beamwidth {bw:.2g}) \\n Fixed Ion Spacing\");"
   ]
  }
 ],
 "metadata": {
  "kernelspec": {
   "display_name": "Python 3 (ipykernel)",
   "language": "python",
   "name": "python3"
  },
  "language_info": {
   "codemirror_mode": {
    "name": "ipython",
    "version": 3
   },
   "file_extension": ".py",
   "mimetype": "text/x-python",
   "name": "python",
   "nbconvert_exporter": "python",
   "pygments_lexer": "ipython3",
   "version": "3.11.6"
  }
 },
 "nbformat": 4,
 "nbformat_minor": 5
}
